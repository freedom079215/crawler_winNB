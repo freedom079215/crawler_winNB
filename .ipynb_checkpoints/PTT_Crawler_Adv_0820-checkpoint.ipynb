{
 "cells": [
  {
   "cell_type": "code",
   "execution_count": 1,
   "metadata": {},
   "outputs": [],
   "source": [
    "import requests\n",
    "import os\n",
    "import re\n",
    "import sys\n",
    "import json\n",
    "import requests\n",
    "import argparse\n",
    "import time\n",
    "import codecs\n",
    "from bs4 import BeautifulSoup\n",
    "from six import u\n",
    "import time\n",
    "import urllib.parse\n",
    "from multiprocessing import Pool"
   ]
  },
  {
   "cell_type": "markdown",
   "metadata": {},
   "source": [
    "## 自動點選已滿18歲 - Function 1"
   ]
  },
  {
   "cell_type": "code",
   "execution_count": 2,
   "metadata": {},
   "outputs": [],
   "source": [
    "def fetch(url):\n",
    "    response = requests.get(url)\n",
    "    response = requests.get(url, cookies={'over18': '1'})  # 一直向 server 回答滿 18 歲了 !\n",
    "    return response\n"
   ]
  },
  {
   "cell_type": "markdown",
   "metadata": {},
   "source": [
    "輸出格式調整"
   ]
  },
  {
   "cell_type": "code",
   "execution_count": 3,
   "metadata": {},
   "outputs": [],
   "source": [
    "widths = [\n",
    "        (126,    1), (159,    0), (687,     1), (710,   0), (711,   1),\n",
    "        (727,    0), (733,    1), (879,     0), (1154,  1), (1161,  0),\n",
    "        (4347,   1), (4447,   2), (7467,    1), (7521,  0), (8369,  1),\n",
    "        (8426,   0), (9000,   1), (9002,    2), (11021, 1), (12350, 2),\n",
    "        (12351,  1), (12438,  2), (12442,   0), (19893, 2), (19967, 1),\n",
    "        (55203,  2), (63743,  1), (64106,   2), (65039, 1), (65059, 0),\n",
    "        (65131,  2), (65279,  1), (65376,   2), (65500, 1), (65510, 2),\n",
    "        (120831, 1), (262141, 2), (1114109, 1),\n",
    "]\n",
    "\n",
    "\n",
    "def calc_len(string):\n",
    "    def chr_width(o):\n",
    "        global widths\n",
    "        if o == 0xe or o == 0xf:\n",
    "            return 0\n",
    "        for num, wid in widths:\n",
    "            if o <= num:\n",
    "                return wid\n",
    "        return 1\n",
    "    return sum(chr_width(ord(c)) for c in string)\n",
    "\n",
    "\n",
    "def pretty_print(push, title, date, author):\n",
    "    pattern = '%2s\\t%s%s%s\\t%s'\n",
    "    padding = ' ' * (50 - calc_len(title))\n",
    "    print(pattern % (push, title, padding, date, author))\n",
    "    \n",
    "    \n",
    "def pretty_print2(push, title, date, author, link):\n",
    "    pattern = '%2s\\t%s%s%s\\t%s\\t%s'\n",
    "    padding = ' ' * (50 - calc_len(title))\n",
    "    print(pattern % (push, title, padding, date, author, link))"
   ]
  },
  {
   "cell_type": "markdown",
   "metadata": {},
   "source": [
    "## 抓取文章列表、推文數、連結、作者 - Function 2"
   ]
  },
  {
   "cell_type": "code",
   "execution_count": 4,
   "metadata": {},
   "outputs": [],
   "source": [
    "def parse_article_meta(ent):\n",
    "    ''' Step-3 (revised): parse the metadata in article entry '''\n",
    "    # 基本要素都還在\n",
    "    meta = {\n",
    "        'title': ent.find('div.title', first=True).text,\n",
    "        'push': ent.find('div.nrec', first=True).text,\n",
    "        'date': ent.find('div.date', first=True).text\n",
    "    }\n",
    "\n",
    "    try:\n",
    "        # 正常狀況取得資料\n",
    "        meta['content'] =''\n",
    "        meta['author'] = ent.find('div.author', first=True).text\n",
    "        meta['link'] = ent.find('div.title > a', first=True).attrs['href']\n",
    "\n",
    "    except AttributeError:\n",
    "        # 但碰上文章被刪除時，就沒有辦法像原本的方法取得 作者 跟 連結\n",
    "        meta['content'] =''\n",
    "        if '(本文已被刪除)' in meta['title']:\n",
    "            # e.g., \"(本文已被刪除) [haudai]\"\n",
    "            match_author = re.search('\\[(\\w*)\\]', meta['title'])\n",
    "            match_link = re.search('\\[(\\w*)\\]', meta['title']) \n",
    "            if match_author:\n",
    "                meta['author'] = match_author.group(1)\n",
    "            if match_link:\n",
    "                meta['link'] = match_link.group(1)\n",
    "        elif re.search('已被\\w*刪除', meta['title']):\n",
    "            # e.g., \"(已被cappa刪除) <edisonchu> op\"\n",
    "            match_author = re.search('\\<(\\w*)\\>', meta['title'])\n",
    "            if match_author:\n",
    "                meta['author'] = match_author.group(1)\n",
    "        elif re.search('-',meta['author']):\n",
    "            meta['link'] = '-'\n",
    "            \n",
    "    return meta\n",
    "\n",
    "    # 最終仍回傳統一的 dict() 形式 paired data\n",
    "    #return meta"
   ]
  },
  {
   "cell_type": "markdown",
   "metadata": {},
   "source": [
    "## 解析Html內容 - Function 3"
   ]
  },
  {
   "cell_type": "code",
   "execution_count": 5,
   "metadata": {},
   "outputs": [],
   "source": [
    "from requests_html import HTML\n",
    "\n",
    "def parse_article_entries(doc):\n",
    "    html = HTML(html=doc)\n",
    "    post_entries = html.find('div.r-ent')\n",
    "    return post_entries"
   ]
  },
  {
   "cell_type": "markdown",
   "metadata": {},
   "source": [
    "## 讀取連結內容 - Function 4: Fun1+Fun2 + Fun3"
   ]
  },
  {
   "cell_type": "code",
   "execution_count": 6,
   "metadata": {},
   "outputs": [],
   "source": [
    "def get_metadata_from(url):\n",
    "\n",
    "    def parse_next_link(doc):\n",
    "        domain = 'https://www.ptt.cc/' \n",
    "        html = HTML(html=doc)\n",
    "        controls = html.find('.action-bar a.btn.wide')\n",
    "        link = controls[1].attrs.get('href')\n",
    "        return urllib.parse.urljoin(domain, link)\n",
    "\n",
    "    resp = fetch(url)\n",
    "    post_entries = parse_article_entries(resp.text)\n",
    "    next_link = parse_next_link(resp.text)\n",
    "\n",
    "    metadata = [parse_article_meta(entry) for entry in post_entries]\n",
    "    return metadata, next_link\n",
    "\n"
   ]
  },
  {
   "cell_type": "markdown",
   "metadata": {},
   "source": [
    "## 設定開始連結與讀取頁面數 - Function5 : Fun4"
   ]
  },
  {
   "cell_type": "code",
   "execution_count": 7,
   "metadata": {},
   "outputs": [],
   "source": [
    "def get_paged_meta(url, num_pages):\n",
    "    collected_meta = []\n",
    "    domain = 'https://www.ptt.cc/'\n",
    "    \n",
    "    for _ in range(num_pages):\n",
    "        posts, link = get_metadata_from(url)\n",
    "        collected_meta += posts\n",
    "\n",
    "        url = urllib.parse.urljoin(domain, link)\n",
    "    return collected_meta"
   ]
  },
  {
   "cell_type": "markdown",
   "metadata": {},
   "source": [
    "## 執行並print"
   ]
  },
  {
   "cell_type": "code",
   "execution_count": 8,
   "metadata": {},
   "outputs": [
    {
     "name": "stdout",
     "output_type": "stream",
     "text": [
      "72\t[討論] 只要一句台詞就知道的電影                   8/18\tKevinsun\n",
      "  \t[討論] 緝魔最後打敗大魔王的關鍵（雷               8/18\tsmaljohn\n",
      "  \t[新聞] 「是誰斬斷血脈」 紀錄片揭中共計生政策      8/18\tArticuno\n",
      " 6\t[討論]為什麼美國隊長打了超級血清還會變老?         8/18\tarea41gold\n",
      "  \t[新聞] 宮崎駿曾送武士刀去美國 《魔法公主》的2     8/18\thoanbeh\n",
      "  \t[好雷]《炫目之光》音樂最觸動人心之處              8/18\tbenbenson12\n",
      "22\t[公告] 板規 2019/07/05                            6/04\tckshchen\n",
      " 1\t[公告] 板規新增每日發文上限規定                   8/15\thhwang\n",
      "34\t[請益] 請問台灣有武打巨星嗎？                     8/18\tJSD\n",
      " 3\t[新聞] 「憤怒鳥2」三大看點報你知！竟藏神力女超人DNA8/18\torz44444\n",
      "30\t[Live] FOX_Movies 21:00 極惡人魔                  8/18\tckny\n",
      "22\t[討論] 為何要用「人生瘋雞掰」當片名？             8/18\tshamoe\n",
      "19\t[新聞] 詹姆斯岡恩積極明示！《自殺突擊隊》反派     8/18\tCYKONGG\n",
      "16\tRe: [討論] 寄生上流的朴先生到底是錯在哪？         8/18\tkk33447g2\n",
      "13\t[新聞] 溫子仁監製新版《真人快打》商談林路迪加     8/18\thahaha0204\n",
      "47\t[新聞] 皮爾斯布洛斯南被爆商談加盟《蝙蝠俠》       8/18\thahaha0204\n",
      " 2\t[新聞] 日本強檔動畫接力登台 陪影迷消暑            8/18\thoanbeh\n",
      " 2\t[負雷] 有罪推定的緝魔                             8/18\tgodislove\n",
      "  \t[討論] 只有我覺得羅伯派汀森蝙蝠俠注定失敗嗎?      8/18\tericisfish\n",
      "  \t[討論] 看來瓦昆版小丑將會超越希斯萊傑             8/18\ttakuminauki\n",
      " 8\t[好雷] 名偵探柯南：紺青之拳五刷心得               8/18\tuenakayuwa\n",
      " 9\t[新聞] 金馬獎陸片掛零 「少年問道」宣布退出        8/18\tlgng66133\n",
      "22\t[討論]第一次約會應該看熱映中的哪一部？            8/18\tComeTureLou\n",
      "53\t[討論] 看完哪部恐怖片後，就呈無敵狀態？           8/18\tiChina\n",
      " 5\t[片單] \"氣味\"相關的電影                           8/18\thenx\n",
      " 2\t[問片] 有雷 一個看出去很多線的電影                8/18\tLeo101\n",
      "  \t[普好雷]《驅魔使者》保持良善或放手墜入深淵        8/18\tbenbenson12\n",
      " 1\t[討論] 成龍的城市獵人的一個問題                   8/18\tJHGF2468A\n",
      "40\tRe: [討論] 迪士尼還有什麼要拍真人版?              8/18\tAisinGioro\n",
      "  \tRe: [新聞] 主演挺警 香港示威者呼籲抵制《花木蘭》  8/18\tNuCat\n",
      "  \t[討論] 寄生上流感情關係（雷                       8/18\tGinozzz\n",
      " 5\t[情報] 2019 盧卡諾影展 主競賽得獎名單             8/18\tqpr322\n",
      "  \t[負雷] 搶先觀看使徒行者2 (Line Walker 2)          8/18\tnosugartea\n",
      " 7\t[無雷] 台北物語的筆電畫面                         8/18\tsolomn\n",
      " 9\t[公告] 多人水桶與警告                             8/18\tckshchen\n",
      " 4\t[討論]看到討論莊凱勛想到莫子儀…                   8/18\tComeTureLou\n",
      " 2\t[問片] 問一部歐美影集                             8/18\tunchn\n",
      " 9\t[請益] 冰血暴的口音                               8/18\tyuriuncleisu\n",
      " 1\t[討論] 駭客任務拯救的正當性（有雷）               8/18\tScorpioJI102\n",
      " 5\tRe: [討論] 寄生上流的朴先生到底是錯在哪？         8/18\tnerevian\n",
      "13\t[選片] 痛苦與榮耀、人生消極掰                     8/18\tbonneluck\n",
      " 5\tRe: [討論] 迪士尼還有什麼要拍真人版?              8/18\tzxc445567\n",
      "  \tRe: [好雷] 26年                                   8/18\trickyiu\n",
      "  \t[感想] -2天看完厲陰宅宇宙，安娜妳！               8/18\talexmai\n",
      "  \t(本文已被刪除) [yahe0526]                         8/18\tyahe0526\n",
      "12\t[討論] 有雷 阿拉丁的晚宴片段好神                  8/18\tshiou0909\n",
      " 3\tRe: [討論] 取得很棒的片名                         8/18\ttending\n",
      " 1\t[好雷] 憤怒鳥2 & 朵拉微雷心得                     8/18\trosebyrne\n"
     ]
    }
   ],
   "source": [
    "start_url = 'https://www.ptt.cc/bbs/movie/index.html'\n",
    "metadata = get_paged_meta(start_url, num_pages=3)\n",
    "for meta in metadata:\n",
    "    pretty_print(meta['push'], meta['title'], meta['date'], meta['author'])"
   ]
  },
  {
   "cell_type": "markdown",
   "metadata": {},
   "source": [
    "## 測試多抓link"
   ]
  },
  {
   "cell_type": "code",
   "execution_count": 9,
   "metadata": {},
   "outputs": [
    {
     "name": "stdout",
     "output_type": "stream",
     "text": [
      "  \t[新聞] 旅行業者私賣國旅補助名額 觀光局擬放寬      8/18\tGotham\t/bbs/Gossiping/M.1566143877.A.E2F.html\n",
      "  \t[新聞] 北市大安區路樹倒塌 壓毀臨停汽車車頭        8/18\tiam168888888\t/bbs/Gossiping/M.1566143878.A.3B3.html\n",
      " 2\t[爆卦] 支那國旗又被香港人砍斷了                   8/18\tmattiswe098\t/bbs/Gossiping/M.1566143883.A.2EC.html\n",
      "  \t[問卦] 戰旗聯盟為啥會夯?                          8/18\tasdiii\t/bbs/Gossiping/M.1566143898.A.6F5.html\n",
      "  \tRe: [新聞] 夫妻買保險！32歲爸坦承「年輕時有焦慮症」…結果出爐：8/18\tAlertme\t/bbs/Gossiping/M.1566143931.A.FEC.html\n",
      "  \t[新聞] 2507億F-16V軍購案 空軍將向立法院提特別     8/18\tF16V\t/bbs/Gossiping/M.1566143937.A.E35.html\n",
      "  \tRe: [新聞] 日皇位繼承傳不傳女 秋天可能正式討論    8/18\tckbdfrst\t/bbs/Gossiping/M.1566143948.A.930.html\n",
      "  \t[問卦] 生駒里奈也想打平手友梨奈?                  8/18\takila08539\t/bbs/Gossiping/M.1566143954.A.181.html\n",
      "  \t[問卦] 偶像綜藝節目的年度占卜是不是都有暗示？     8/18\tkikiki37\t/bbs/Gossiping/M.1566143968.A.D67.html\n",
      "  \t[問卦] 要帶上村ひなの還是千葉惠里回家?            8/18\tfack3170\t/bbs/Gossiping/M.1566143969.A.140.html\n",
      "  \t[問卦] 有沒有日向坂46也玩抖音的八卦               8/18\tallgamba\t/bbs/Gossiping/M.1566143973.A.07B.html\n",
      "  \t[問卦] 豆一樣的替身能力也做不到的事~              8/18\thizo\t/bbs/Gossiping/M.1566143977.A.893.html\n",
      "  \t[公告] 八卦板板規(2019.08.11)                     8/11\tarsonlolita\t/bbs/Gossiping/M.1565453484.A.776.html\n",
      "59\t［協尋］行車記錄器 台北中正橋                     8/13\tsolosober\t/bbs/Gossiping/M.1565706732.A.D9F.html\n",
      " 3\t[公告] 版規4-16修正草案                           8/13\tarsonlolita\t/bbs/Gossiping/M.1565686380.A.703.html\n",
      "77\t[公告] 八月份置底懶叫閒聊區^Q^                    7/31\tRS5566\t/bbs/Gossiping/M.1564587786.A.D36.html\n"
     ]
    }
   ],
   "source": [
    "url = 'https://www.ptt.cc/bbs/Gossiping/index.html'\n",
    "resp = fetch(url)  # step-1\n",
    "post_entries = parse_article_entries(resp.text)  # step-2\n",
    "\n",
    "for entry in post_entries:\n",
    "    meta = parse_article_meta(entry)\n",
    "    pretty_print2(meta['push'], meta['title'], meta['date'], meta['author'], meta['link'])  \n",
    "\n",
    "    # pretty_print(meta['push'], meta['title'], meta['date'], meta['author'])  # for below results"
   ]
  },
  {
   "cell_type": "markdown",
   "metadata": {},
   "source": [
    "## 平行運算處理"
   ]
  },
  {
   "cell_type": "code",
   "execution_count": 10,
   "metadata": {},
   "outputs": [],
   "source": [
    "domain = 'https://www.ptt.cc/'\n",
    "def get_posts(metadata):\n",
    "    # 將所有文章連結收集並串接成完整 URL\n",
    "    post_links = [\n",
    "        urllib.parse.urljoin(domain, meta['link'])\n",
    "        for meta in metadata if 'link' in meta\n",
    "    ]\n",
    "    with Pool(processes=8) as pool:\n",
    "        contents = pool.map(fetch, post_links)\n",
    "        return contents\n",
    "    "
   ]
  },
  {
   "cell_type": "code",
   "execution_count": 17,
   "metadata": {},
   "outputs": [
    {
     "name": "stdout",
     "output_type": "stream",
     "text": [
      "花費: 27.481073 秒\n",
      "共95項結果：\n",
      "8/14 hahaha0204      [新聞] 《慾望城市3》因為她不拍了！　莎曼珊認, 網頁內容共 12479 字\n",
      "8/14 u1114224        [討論] 迪士尼有什麼真人版是拍不出來的??, 網頁內容共 15164 字\n",
      "8/14 xczh            Re: [新聞] 《小美人魚》主演荷莉貝莉首回選角爭議：, 網頁內容共 7820 字\n",
      "8/14 kkaicd1         [新聞] <大叔之愛>裸身亂鬥,田中圭分享滿月第一次, 網頁內容共 7538 字\n",
      "8/14 ayami0219       （洽中）[贈票] 明晚深夜加油站遇見抓狂衰事特映, 網頁內容共 4343 字\n",
      "8/14 lpbrother       [新聞] 影／新版小婦人《她們》首預告！台詞引爆, 網頁內容共 10703 字\n",
      "8/14 a88050488       [好雷] 蘇西的世界—放下憎恨就是放過自己, 網頁內容共 7467 字\n",
      "8/14 jj96857400      [新聞] 台灣電影2019下半年「18部國片」彙總, 網頁內容共 24901 字\n",
      "8/14 bestbamboo      [情報] 8/14 當週8部新片預告+Youtube點閱排行, 網頁內容共 7152 字\n",
      "8/14 hvariables      [新聞] 中國紀錄片少年問道一本初衷 金馬獎不退賽, 網頁內容共 7991 字\n",
      "8/14 Payne22         Re: [新聞] 贏了票房卻傷了和氣　《玩命關頭》陷入分, 網頁內容共 5867 字\n",
      "8/14 mysmalllamb     [好雷] 絕世名伶 Matilda, 網頁內容共 13047 字\n",
      "8/15 crimsonred      [問片] 找一部反烏托邦電影, 網頁內容共 3649 字\n",
      "6/04 ckshchen        [公告] 板規 2019/07/05, 網頁內容共 78466 字\n",
      "8/11 kai3368         [板規] 新增/單日發文總量限制, 網頁內容共 18497 字\n",
      "8/14 chilahachila    [討論] 日本電影 \"來了\", 網頁內容共 17236 字\n",
      "8/14 cklonger        Re: [討論] 日本電影 \"來了\", 網頁內容共 4759 字\n",
      "8/14 radiohead56     [討論] 《黑色黨徒》與《幸福綠皮書》, 網頁內容共 18360 字\n",
      "8/14 lpbrother       [討論] 要怎麼看運鏡手法？, 網頁內容共 13068 字\n",
      "8/14 btm978952       Re: [新聞] 《小美人魚》主演荷莉貝莉首回選角爭議：, 網頁內容共 21246 字\n",
      "8/14 vking223        Re: [討論] 日本電影 \"來了\", 網頁內容共 5911 字\n",
      "8/14 zzauber         [好雷] 盧安達日記 Beautifully Broken, 2018美, 網頁內容共 7837 字\n",
      "8/14 rubeinlove      [新聞] 贏了票房卻傷了和氣　《玩命關頭》陷入分, 網頁內容共 50824 字\n",
      "8/14 CYKONGG         [新聞] 迪士尼不看好《變種人》 保留福斯探照燈, 網頁內容共 14238 字\n",
      "8/14 eapcy           [新聞] CBS、Viacom終於合併！龐大規模將力抗迪士尼與Netflix, 網頁內容共 5314 字\n",
      "8/14 Alyssa1212      [討論] 鍾孟宏《陽光普照》入圍多倫多影展, 網頁內容共 8639 字\n",
      "8/14 hint            [討論] 大家最想幫哪部電影正名或改名?, 網頁內容共 19389 字\n",
      "8/14 applegg         [片單] 烏托邦政治諷刺片, 網頁內容共 6890 字\n",
      "8/14 diesel1845      [新聞] 動作片迷注意！《全面攻佔3：天使救援》超越前集, 網頁內容共 8059 字\n",
      "8/14 kiwibee         [討論] 在成龍的FB看到, 網頁內容共 7932 字\n",
      "8/14 CYKONGG         [新聞] 王子落跑重選！《小美人魚》將有全新歌曲, 網頁內容共 8464 字\n",
      "8/14 ericisfish      [討論] 連恩尼遜應該蠻適合加入漫威當大魔王吧?, 網頁內容共 6187 字\n",
      "8/14 DesertGold      Re: [新聞] 贏了票房卻傷了和氣　《玩命關頭》陷入分, 網頁內容共 8422 字\n",
      "8/14 a122239         [普雷] 鏡文學－驚悚劇場《樂園》、《虎》與《隧, 網頁內容共 6706 字\n",
      "8/14 hahaha0204      [新聞] 漫威《上氣》劉思慕被嫌顏值低！　「我真, 網頁內容共 27683 字\n",
      "8/14 Minazuki        [情報] 亞藝影音 中坡店、永貞店 9/20結束營業, 網頁內容共 12782 字\n",
      "8/14 hoanbeh         [情報] 《知道天空有多藍的人》官方釋出第三彈主, 網頁內容共 5536 字\n",
      "8/14 oasis520        (本文已被刪除) [oasis520], 網頁內容共 162 字\n",
      "8/14 godgod777       [討論] 二刷寄生上流，一芳像古早味蛋糕, 網頁內容共 12906 字\n",
      "8/14 notfound0506    [片單] 越挫越勇的電影, 網頁內容共 17552 字\n",
      "8/14 gaga124         [好雷] 迷弟出頭天!靠追星逆轉人生的炫目之光, 網頁內容共 8979 字\n",
      "8/14 orz44444        [新聞] 「航海王：奪寶爭霸戰」日本再破紀錄 台灣將有4D超震撼刺激, 網頁內容共 6236 字\n",
      "8/14 orz44444        [新聞] 「復仇者聯盟」哪個角色最難演？導演說是他！！, 網頁內容共 15598 字\n",
      "8/14 LXIVBB          [新聞] 《小美人魚》艾瑞克王子主演消息, 網頁內容共 26824 字\n",
      "8/14 ininagap        [問片] 關於地球的電影, 網頁內容共 8450 字\n",
      "8/14 tcps0428        [贈票] 今晚 19:00 炫目之光@大直美麗華, 網頁內容共 3665 字\n",
      "8/14 hoanbeh         [情報] 劇場版《SHIROBAKO》特報釋出，甜甜圈五, 網頁內容共 7203 字\n",
      "8/14 silky7          Re: [新聞] 真人版《阿拉丁》續集有望推出！ 製片：, 網頁內容共 14175 字\n",
      "8/14 hvariables      [新聞] 片名標新立異？最新小婦人變她們 網友不解, 網頁內容共 26145 字\n",
      "8/14 conan543        [討論] 日本原爆74週年，電影，螢火蟲之墓, 網頁內容共 8114 字\n",
      "8/14 burnsy0018      [情報] Last Christmas 去年耶誕 預告片, 網頁內容共 10257 字\n",
      "8/14 m2017           [討論] 為什麼李連杰照片傳聞這麼多, 網頁內容共 9573 字\n",
      "8/14 grafishbanet    [好雷]《痛苦與榮耀》創作從來都不是從零開始, 網頁內容共 5709 字\n",
      "8/14 TCPai           [好雷] MIB星際戰警: 你多久沒有仰望星空了?, 網頁內容共 7011 字\n",
      "8/14 electronicyi    Re: [討論] 迪士尼請的翻譯是不是不夠力, 網頁內容共 8341 字\n",
      "8/13 hahaha0204      [新聞] 演員將不再受年齡限制！從《雙子殺手》、, 網頁內容共 12121 字\n",
      "8/13 hahaha0204      [新聞] 吳達庶害《與神》重拍「性騷判決反轉」, 網頁內容共 8356 字\n",
      "8/13 a0919414591     [好雷] 寄生上流，階級永遠是相對值, 網頁內容共 9772 字\n",
      "8/13 chara0104       [分享] 日新威秀大廳重新播放復4, 網頁內容共 8065 字\n",
      "8/13 treeseven       (本文已被刪除) [treeseven], 網頁內容共 162 字\n",
      "8/13 g1234512        [片單] 求推薦港片, 網頁內容共 6105 字\n",
      "8/13 zhaoyi          [片單] 有30歲以下正妹的日韓電影, 網頁內容共 20312 字\n",
      "8/13 kkaicd1         [新聞] 木村文乃<殺手寓言>驚呼岡田准一練過好粗, 網頁內容共 7098 字\n",
      "8/13 arsl400         Re: [討論] 昆丁親自回應李小龍爭議, 網頁內容共 11659 字\n",
      "8/13 ssss0960193     [片單] 從頭刺激到尾的影片, 網頁內容共 52143 字\n",
      "8/13 TUfish          [討論] 特別行動的看前複習(無雷), 網頁內容共 5625 字\n",
      "8/13 TT1990          [問片] 被關在大樓裡的恐怖片, 網頁內容共 9808 字\n",
      "8/13 xinyi101        [片單] 坐交通工具被追殺的電影, 網頁內容共 15249 字\n",
      "8/13 hvariables      [新聞] 韓星宋康昊 榮獲盧卡諾國際影展卓越獎, 網頁內容共 7277 字\n",
      "8/13 ATCTaiwan       [新聞] 《殺手寓言》木村文乃千杯不醉好酒量 山, 網頁內容共 6086 字\n",
      "8/14 k9120303        [討論] 葛莉塔潔薇導演全新版本《小婦人》預告, 網頁內容共 26444 字\n",
      "8/14 qazieru         Re: [新聞] 《小美人魚》主演荷莉貝莉首回選角爭議：, 網頁內容共 40418 字\n",
      "8/14 XXXXPOXXXX      [請益] 從前有個好萊塢與昆汀其他電影比較, 網頁內容共 7038 字\n",
      "8/14 robertdelun     [問片] 80年代冒險片，女主角總是意外掉衣服, 網頁內容共 5151 字\n",
      "8/14 TheodoreZh      [討論] 泰倫斯馬利克新作《A Hidden Life》預告, 網頁內容共 16624 字\n",
      "8/13 hvariables      [新聞] 東成西就經典香腸嘴 梁朝偉原汁原味再現, 網頁內容共 18652 字\n",
      "8/13 edison321       [討論] 寄生上流的轉折點疑問, 網頁內容共 12929 字\n",
      "8/13 nick751005      [問片] 很會易容的男特務，超正的女科學家, 網頁內容共 7084 字\n",
      "8/13 JHGF2468A       [請益] 哪裡可以看到魔戒三部曲, 網頁內容共 21169 字\n",
      "8/13 valeria         Fw: [分享] 電視類與電影類劇本下載網站整理, 網頁內容共 6900 字\n",
      "8/13 QQKKQKQK        Re: [板規] 板規8 板規18, 網頁內容共 32574 字\n",
      "8/13 hoanbeh         [新聞] 五萬粉絲連署終於換來好結果!!新海誠《天, 網頁內容共 7104 字\n",
      "8/13 foam0406        Re: [討論] 加點吉拿棒最近是不是走偏啦？, 網頁內容共 6187 字\n",
      "8/13 CYKONGG         [新聞] 真人版《阿拉丁》續集有望推出！ 製片：, 網頁內容共 20691 字\n",
      "8/13 wingxl          [討論] 時間到就關門，未進場就退票可否提升品質, 網頁內容共 7355 字\n",
      "8/13 poopooShaw      [討論] 昆丁親自回應李小龍爭議, 網頁內容共 21291 字\n",
      "8/13 JoelEmbiid21    Re: [討論] 加點吉拿棒最近是不是走偏啦？, 網頁內容共 8829 字\n",
      "8/13 a122239         [好雷] 鏡文學－驚悚劇場《完美Lily》、《肇事者, 網頁內容共 9406 字\n",
      "8/13 f77928          Re: [討論] 加點吉拿棒最近是不是走偏啦？, 網頁內容共 12050 字\n",
      "8/13 J7565J          [討論] 從寄生上流聯想到某時事(雷), 網頁內容共 10995 字\n",
      "8/13 grafishbanet    [好雷]《電流大戰》追求那一霎時的成就, 網頁內容共 6611 字\n",
      "8/13 growl           (本文已被刪除) [growl], 網頁內容共 162 字\n",
      "8/13 CYKONGG         [新聞] 洛基回歸《雷神4》？根據相關線索的猜測, 網頁內容共 12314 字\n",
      "8/13 LawlietLin      Re: [討論] 加點吉拿棒最近是不是走偏啦？, 網頁內容共 26151 字\n",
      "8/13 fox000          [討論] 娑婆訶劇情疑問, 網頁內容共 4363 字\n"
     ]
    }
   ],
   "source": [
    "if __name__ == '__main__':\n",
    "    pages = 5\n",
    "\n",
    "    start = time.time()\n",
    "\n",
    "    metadata = get_paged_meta(start_url, num_pages=pages)\n",
    "    resps = get_posts(metadata)\n",
    "\n",
    "    print('花費: %f 秒' % (time.time() - start))\n",
    "\n",
    "    print('共%d項結果：' % len(resps))\n",
    "    for post, resps in zip(metadata, resps):\n",
    "        print('{0} {1: <15} {2}, 網頁內容共 {3} 字'.format(\n",
    "            post['date'], post['author'], post['title'], len(resps.text)))"
   ]
  },
  {
   "cell_type": "markdown",
   "metadata": {},
   "source": [
    "## 解析文章內容"
   ]
  },
  {
   "cell_type": "code",
   "execution_count": 11,
   "metadata": {},
   "outputs": [],
   "source": [
    "def parse_article_content(doc,href):\n",
    "    if '.html' in (href):\n",
    "        html = HTML(html=doc)\n",
    "        post_content = html.find('#main-content', first=True).text\n",
    "        soup = BeautifulSoup(doc, 'html.parser')\n",
    "        main_content = soup.find(id=\"main-content\")\n",
    "        metas = main_content.select('div.article-metaline')\n",
    "        if metas:\n",
    "            author = metas[0].select('span.article-meta-value')[0].string if metas[0].select('span.article-meta-value')[0] else author\n",
    "            title = metas[1].select('span.article-meta-value')[0].string if metas[1].select('span.article-meta-value')[0] else title\n",
    "            date = metas[2].select('span.article-meta-value')[0].string if metas[2].select('span.article-meta-value')[0] else date\n",
    "            # remove meta nodes\n",
    "            for meta in metas:\n",
    "                meta.extract()\n",
    "            for meta in main_content.select('div.article-metaline-right'):\n",
    "                meta.extract()\n",
    "        PTT_URL = 'https://www.ptt.cc'\n",
    "        # ex. link would be <a href=\"/bbs/PublicServan/M.1127742013.A.240.html\">Re: [問題] 職等</a>\n",
    "        link = PTT_URL + href\n",
    "        article_id = re.sub('\\.html', '', href.split('/')[-1])        \n",
    "        pushes = main_content.find_all('div', class_='push')\n",
    "        for push in pushes:\n",
    "            push.extract() ## 移除指定該變數\n",
    "        filtered = [ v for v in main_content.stripped_strings if v[0] not in [u'※', u'◆'] and v[:2] not in [u'--'] ]\n",
    "        expr = re.compile(u(r'[^\\u4e00-\\u9fa5\\u3002\\uff1b\\uff0c\\uff1a\\u201c\\u201d\\uff08\\uff09\\u3001\\uff1f\\u300a\\u300b\\s\\w:/-_.?~%()]'))\n",
    "        for i in range(len(filtered)):\n",
    "            filtered[i] = re.sub(expr, '', filtered[i])\n",
    "\n",
    "        filtered = [_f for _f in filtered if _f]  # remove empty strings\n",
    "        filtered = [x for x in filtered if article_id not in x]  # remove last line containing the url of the article\n",
    "        content = ' '.join(filtered)\n",
    "        content = re.sub(r'(\\s)+', ' ', content)\n",
    "        meta = {\n",
    "            'title' : title,            \n",
    "            'date' : date,\n",
    "            'content':content,\n",
    "            'author': author,\n",
    "            'article_id':article_id\n",
    "        }\n",
    "        return meta\n",
    "    else:\n",
    "        meta = {\n",
    "            'title' : '無',            \n",
    "            'date' : '無',\n",
    "            'content':'被刪除',\n",
    "            'author': '無',\n",
    "            'article_id': '無',\n",
    "            'link':'無'\n",
    "        }\n",
    "        return meta\n",
    "    "
   ]
  },
  {
   "cell_type": "markdown",
   "metadata": {},
   "source": [
    "## 執行存取文章內容及其他資訊"
   ]
  },
  {
   "cell_type": "code",
   "execution_count": 46,
   "metadata": {},
   "outputs": [
    {
     "ename": "AttributeError",
     "evalue": "'NoneType' object has no attribute 'text'",
     "output_type": "error",
     "traceback": [
      "\u001b[0;31m---------------------------------------------------------------------------\u001b[0m",
      "\u001b[0;31mAttributeError\u001b[0m                            Traceback (most recent call last)",
      "\u001b[0;32m<ipython-input-46-a9fad2ebedc3>\u001b[0m in \u001b[0;36m<module>\u001b[0;34m()\u001b[0m\n\u001b[1;32m     11\u001b[0m     \u001b[0;32mfor\u001b[0m \u001b[0mcontent\u001b[0m\u001b[0;34m,\u001b[0m \u001b[0mmetadata\u001b[0m \u001b[0;32min\u001b[0m \u001b[0mzip\u001b[0m\u001b[0;34m(\u001b[0m\u001b[0mresps\u001b[0m\u001b[0;34m,\u001b[0m \u001b[0mmetadata\u001b[0m\u001b[0;34m)\u001b[0m\u001b[0;34m:\u001b[0m\u001b[0;34m\u001b[0m\u001b[0;34m\u001b[0m\u001b[0m\n\u001b[1;32m     12\u001b[0m         \u001b[0;32mtry\u001b[0m\u001b[0;34m:\u001b[0m\u001b[0;34m\u001b[0m\u001b[0;34m\u001b[0m\u001b[0m\n\u001b[0;32m---> 13\u001b[0;31m             \u001b[0mcontents\u001b[0m\u001b[0;34m.\u001b[0m\u001b[0mappend\u001b[0m\u001b[0;34m(\u001b[0m\u001b[0mparse_article_content\u001b[0m\u001b[0;34m(\u001b[0m\u001b[0mcontent\u001b[0m\u001b[0;34m.\u001b[0m\u001b[0mtext\u001b[0m\u001b[0;34m,\u001b[0m \u001b[0mmetadata\u001b[0m\u001b[0;34m[\u001b[0m\u001b[0;34m'link'\u001b[0m\u001b[0;34m]\u001b[0m\u001b[0;34m)\u001b[0m\u001b[0;34m)\u001b[0m\u001b[0;34m\u001b[0m\u001b[0;34m\u001b[0m\u001b[0m\n\u001b[0m\u001b[1;32m     14\u001b[0m         \u001b[0;32mexcept\u001b[0m \u001b[0mKeyError\u001b[0m\u001b[0;34m:\u001b[0m\u001b[0;34m\u001b[0m\u001b[0;34m\u001b[0m\u001b[0m\n\u001b[1;32m     15\u001b[0m             \u001b[0mcontents\u001b[0m\u001b[0;34m.\u001b[0m\u001b[0mappend\u001b[0m\u001b[0;34m(\u001b[0m\u001b[0;34m[\u001b[0m\u001b[0mcontent\u001b[0m\u001b[0;34m.\u001b[0m\u001b[0mtext\u001b[0m\u001b[0;34m,\u001b[0m\u001b[0;34m'test'\u001b[0m\u001b[0;34m]\u001b[0m\u001b[0;34m)\u001b[0m\u001b[0;34m\u001b[0m\u001b[0;34m\u001b[0m\u001b[0m\n",
      "\u001b[0;32m<ipython-input-11-82d48424cdd2>\u001b[0m in \u001b[0;36mparse_article_content\u001b[0;34m(doc, href)\u001b[0m\n\u001b[1;32m      2\u001b[0m     \u001b[0;32mif\u001b[0m \u001b[0;34m'.html'\u001b[0m \u001b[0;32min\u001b[0m \u001b[0;34m(\u001b[0m\u001b[0mhref\u001b[0m\u001b[0;34m)\u001b[0m\u001b[0;34m:\u001b[0m\u001b[0;34m\u001b[0m\u001b[0;34m\u001b[0m\u001b[0m\n\u001b[1;32m      3\u001b[0m         \u001b[0mhtml\u001b[0m \u001b[0;34m=\u001b[0m \u001b[0mHTML\u001b[0m\u001b[0;34m(\u001b[0m\u001b[0mhtml\u001b[0m\u001b[0;34m=\u001b[0m\u001b[0mdoc\u001b[0m\u001b[0;34m)\u001b[0m\u001b[0;34m\u001b[0m\u001b[0;34m\u001b[0m\u001b[0m\n\u001b[0;32m----> 4\u001b[0;31m         \u001b[0mpost_content\u001b[0m \u001b[0;34m=\u001b[0m \u001b[0mhtml\u001b[0m\u001b[0;34m.\u001b[0m\u001b[0mfind\u001b[0m\u001b[0;34m(\u001b[0m\u001b[0;34m'#main-content'\u001b[0m\u001b[0;34m,\u001b[0m \u001b[0mfirst\u001b[0m\u001b[0;34m=\u001b[0m\u001b[0;32mTrue\u001b[0m\u001b[0;34m)\u001b[0m\u001b[0;34m.\u001b[0m\u001b[0mtext\u001b[0m\u001b[0;34m\u001b[0m\u001b[0;34m\u001b[0m\u001b[0m\n\u001b[0m\u001b[1;32m      5\u001b[0m         \u001b[0msoup\u001b[0m \u001b[0;34m=\u001b[0m \u001b[0mBeautifulSoup\u001b[0m\u001b[0;34m(\u001b[0m\u001b[0mdoc\u001b[0m\u001b[0;34m,\u001b[0m \u001b[0;34m'html.parser'\u001b[0m\u001b[0;34m)\u001b[0m\u001b[0;34m\u001b[0m\u001b[0;34m\u001b[0m\u001b[0m\n\u001b[1;32m      6\u001b[0m         \u001b[0mmain_content\u001b[0m \u001b[0;34m=\u001b[0m \u001b[0msoup\u001b[0m\u001b[0;34m.\u001b[0m\u001b[0mfind\u001b[0m\u001b[0;34m(\u001b[0m\u001b[0mid\u001b[0m\u001b[0;34m=\u001b[0m\u001b[0;34m\"main-content\"\u001b[0m\u001b[0;34m)\u001b[0m\u001b[0;34m\u001b[0m\u001b[0;34m\u001b[0m\u001b[0m\n",
      "\u001b[0;31mAttributeError\u001b[0m: 'NoneType' object has no attribute 'text'"
     ]
    }
   ],
   "source": [
    "if __name__ == '__main__':\n",
    "    pages = 20\n",
    "    start_url = 'https://www.ptt.cc/bbs/movie/index.html'\n",
    "    start = time.time()\n",
    "\n",
    "    metadata = get_paged_meta(start_url, num_pages=pages)\n",
    "    resps = get_posts(metadata)\n",
    "\n",
    "    #contents = [parse_article_content(content.text, metadata['link']) for content, metadata in zip(resps, metadata)]\n",
    "    contents = []\n",
    "    for content, metadata in zip(resps, metadata):\n",
    "        try:\n",
    "            contents.append(parse_article_content(content.text, metadata['link']))\n",
    "        except KeyError:\n",
    "            contents.append([content.text,'test'])\n",
    "    \n",
    "    \n",
    "    print('花費: %f 秒' % (time.time() - start))\n",
    "\n",
    "    print('共%d項結果：' % len(resps))\n",
    "    ##for post, resps, text in zip(metadata, resps,contents):\n",
    "    ##    print('{0} {1: <15} {2}, 網頁內容共 {3} 字, {4}'.format(\n",
    "    ##        post['date'], post['author'], post['title'], len(resps.text), text['content']))"
   ]
  },
  {
   "cell_type": "code",
   "execution_count": 16,
   "metadata": {},
   "outputs": [
    {
     "data": {
      "text/plain": [
       "208"
      ]
     },
     "execution_count": 16,
     "metadata": {},
     "output_type": "execute_result"
    }
   ],
   "source": [
    "len(contents)"
   ]
  },
  {
   "cell_type": "code",
   "execution_count": 17,
   "metadata": {},
   "outputs": [
    {
     "data": {
      "text/plain": [
       "{'title': '[討論]為什麼美國隊長打了超級血清還會變老?',\n",
       " 'date': 'Sun Aug 18 23:36:59 2019',\n",
       " 'content': '剛剛突然靈感而發 明明超級士兵血清就是活化細胞 而且還有比人類更優異的身體能力 為什麼美國隊長還會變老 不懂? Sent from JPTT on my Samsung SMN960F. ',\n",
       " 'author': 'area41gold (area41gold在炫耀？哥單s)',\n",
       " 'article_id': 'M.1566142621.A.E35'}"
      ]
     },
     "execution_count": 17,
     "metadata": {},
     "output_type": "execute_result"
    }
   ],
   "source": [
    "contents[3]"
   ]
  },
  {
   "cell_type": "code",
   "execution_count": 57,
   "metadata": {},
   "outputs": [],
   "source": [
    "metadata2 = ['title','date','content','author','article_id']\n",
    "z= zip(metadata2 , contents)"
   ]
  },
  {
   "cell_type": "code",
   "execution_count": 30,
   "metadata": {},
   "outputs": [
    {
     "ename": "NameError",
     "evalue": "name 'z' is not defined",
     "output_type": "error",
     "traceback": [
      "\u001b[0;31m---------------------------------------------------------------------------\u001b[0m",
      "\u001b[0;31mNameError\u001b[0m                                 Traceback (most recent call last)",
      "\u001b[0;32m<ipython-input-30-bc949f2d7826>\u001b[0m in \u001b[0;36m<module>\u001b[0;34m()\u001b[0m\n\u001b[0;32m----> 1\u001b[0;31m \u001b[0;32mfor\u001b[0m \u001b[0mi\u001b[0m \u001b[0;32min\u001b[0m \u001b[0mz\u001b[0m\u001b[0;34m:\u001b[0m\u001b[0;34m\u001b[0m\u001b[0;34m\u001b[0m\u001b[0m\n\u001b[0m\u001b[1;32m      2\u001b[0m     \u001b[0mprint\u001b[0m\u001b[0;34m(\u001b[0m\u001b[0mi\u001b[0m\u001b[0;34m)\u001b[0m\u001b[0;34m\u001b[0m\u001b[0;34m\u001b[0m\u001b[0m\n",
      "\u001b[0;31mNameError\u001b[0m: name 'z' is not defined"
     ]
    }
   ],
   "source": [
    "for i in z:\n",
    "    print(i)"
   ]
  },
  {
   "cell_type": "code",
   "execution_count": 31,
   "metadata": {},
   "outputs": [
    {
     "data": {
      "text/plain": [
       "'M.1565762844.A.B76'"
      ]
     },
     "execution_count": 31,
     "metadata": {},
     "output_type": "execute_result"
    }
   ],
   "source": [
    "contents[0]['article_id']"
   ]
  },
  {
   "cell_type": "code",
   "execution_count": 26,
   "metadata": {},
   "outputs": [
    {
     "ename": "TypeError",
     "evalue": "list indices must be integers or slices, not str",
     "output_type": "error",
     "traceback": [
      "\u001b[0;31m---------------------------------------------------------------------------\u001b[0m",
      "\u001b[0;31mTypeError\u001b[0m                                 Traceback (most recent call last)",
      "\u001b[0;32m<ipython-input-26-add488ab5b1e>\u001b[0m in \u001b[0;36m<module>\u001b[0;34m()\u001b[0m\n\u001b[0;32m----> 1\u001b[0;31m \u001b[0mfilename\u001b[0m \u001b[0;34m=\u001b[0m \u001b[0;34m'./crawl_file/'\u001b[0m\u001b[0;34m+\u001b[0m \u001b[0mcontents\u001b[0m\u001b[0;34m[\u001b[0m\u001b[0;34m'article_id'\u001b[0m\u001b[0;34m]\u001b[0m\u001b[0;34m+\u001b[0m\u001b[0;34m'.json'\u001b[0m\u001b[0;34m\u001b[0m\u001b[0;34m\u001b[0m\u001b[0m\n\u001b[0m\u001b[1;32m      2\u001b[0m \u001b[0;32mwith\u001b[0m \u001b[0mopen\u001b[0m\u001b[0;34m(\u001b[0m\u001b[0mfilename\u001b[0m\u001b[0;34m,\u001b[0m \u001b[0;34m'w'\u001b[0m\u001b[0;34m)\u001b[0m \u001b[0;32mas\u001b[0m \u001b[0moutfile\u001b[0m\u001b[0;34m:\u001b[0m\u001b[0;34m\u001b[0m\u001b[0;34m\u001b[0m\u001b[0m\n\u001b[1;32m      3\u001b[0m     \u001b[0mjson\u001b[0m\u001b[0;34m.\u001b[0m\u001b[0mdump\u001b[0m\u001b[0;34m(\u001b[0m\u001b[0mtest\u001b[0m\u001b[0;34m,\u001b[0m \u001b[0moutfile\u001b[0m\u001b[0;34m,\u001b[0m \u001b[0mensure_ascii\u001b[0m\u001b[0;34m=\u001b[0m\u001b[0;32mFalse\u001b[0m\u001b[0;34m)\u001b[0m\u001b[0;34m\u001b[0m\u001b[0;34m\u001b[0m\u001b[0m\n",
      "\u001b[0;31mTypeError\u001b[0m: list indices must be integers or slices, not str"
     ]
    }
   ],
   "source": [
    "filename = './crawl_file/'+ contents['article_id']+'.json'\n",
    "with open(filename, 'w') as outfile:\n",
    "    json.dump(test, outfile, ensure_ascii=False)"
   ]
  },
  {
   "cell_type": "markdown",
   "metadata": {},
   "source": [
    "### 匯入MongoDB"
   ]
  },
  {
   "cell_type": "code",
   "execution_count": 18,
   "metadata": {},
   "outputs": [],
   "source": [
    "import pymongo\n",
    "from pymongo import MongoClient\n"
   ]
  },
  {
   "cell_type": "code",
   "execution_count": 19,
   "metadata": {},
   "outputs": [],
   "source": [
    "client = pymongo.MongoClient(host='localhost', port=27017)"
   ]
  },
  {
   "cell_type": "code",
   "execution_count": 20,
   "metadata": {},
   "outputs": [],
   "source": [
    "db = client.ptt"
   ]
  },
  {
   "cell_type": "markdown",
   "metadata": {},
   "source": [
    "### show database"
   ]
  },
  {
   "cell_type": "code",
   "execution_count": 26,
   "metadata": {},
   "outputs": [
    {
     "name": "stdout",
     "output_type": "stream",
     "text": [
      "{\"admin\": [\"system.version\"], \"config\": [\"system.sessions\"], \"local\": [\"startup_log\"], \"ptt\": [\"ptt\"]}\n"
     ]
    },
    {
     "name": "stderr",
     "output_type": "stream",
     "text": [
      "/Users/aaron/Documents/anaconda3/envs/crawler/lib/python3.6/site-packages/ipykernel_launcher.py:4: DeprecationWarning: database_names is deprecated. Use list_database_names instead.\n",
      "  after removing the cwd from sys.path.\n",
      "/Users/aaron/Documents/anaconda3/envs/crawler/lib/python3.6/site-packages/ipykernel_launcher.py:4: DeprecationWarning: collection_names is deprecated. Use list_collection_names instead.\n",
      "  after removing the cwd from sys.path.\n"
     ]
    }
   ],
   "source": [
    "if __name__ == '__main__':\n",
    "    client = pymongo.MongoClient(\"localhost\", 27017, maxPoolSize=50)\n",
    "    d = dict((db, [collection for collection in client[db].collection_names()])\n",
    "             for db in client.database_names())\n",
    "    print(json.dumps(d))"
   ]
  },
  {
   "cell_type": "markdown",
   "metadata": {},
   "source": [
    "### show db lists of mongodb"
   ]
  },
  {
   "cell_type": "code",
   "execution_count": 27,
   "metadata": {},
   "outputs": [
    {
     "name": "stderr",
     "output_type": "stream",
     "text": [
      "/Users/aaron/Documents/anaconda3/envs/crawler/lib/python3.6/site-packages/ipykernel_launcher.py:1: DeprecationWarning: database_names is deprecated. Use list_database_names instead.\n",
      "  \"\"\"Entry point for launching an IPython kernel.\n"
     ]
    },
    {
     "data": {
      "text/plain": [
       "['admin', 'config', 'local', 'ptt']"
      ]
     },
     "execution_count": 27,
     "metadata": {},
     "output_type": "execute_result"
    }
   ],
   "source": [
    "MongoClient().database_names()"
   ]
  },
  {
   "cell_type": "code",
   "execution_count": 33,
   "metadata": {},
   "outputs": [
    {
     "data": {
      "text/plain": [
       "'3.8.0'"
      ]
     },
     "execution_count": 33,
     "metadata": {},
     "output_type": "execute_result"
    }
   ],
   "source": [
    "pymongo.version"
   ]
  },
  {
   "cell_type": "code",
   "execution_count": 34,
   "metadata": {},
   "outputs": [
    {
     "data": {
      "text/plain": [
       "[]"
      ]
     },
     "execution_count": 34,
     "metadata": {},
     "output_type": "execute_result"
    }
   ],
   "source": [
    "db.list_collection_names()"
   ]
  },
  {
   "cell_type": "code",
   "execution_count": 35,
   "metadata": {},
   "outputs": [],
   "source": [
    "#db.article.drop()\n",
    "collection = db['article']"
   ]
  },
  {
   "cell_type": "code",
   "execution_count": 13,
   "metadata": {},
   "outputs": [
    {
     "name": "stdout",
     "output_type": "stream",
     "text": [
      "<class 'pymongo.cursor.Cursor'>\n"
     ]
    },
    {
     "ename": "IndexError",
     "evalue": "no such item for Cursor instance",
     "output_type": "error",
     "traceback": [
      "\u001b[0;31m---------------------------------------------------------------------------\u001b[0m",
      "\u001b[0;31mIndexError\u001b[0m                                Traceback (most recent call last)",
      "\u001b[0;32m<ipython-input-13-307a63ba7e2f>\u001b[0m in \u001b[0;36m<module>\u001b[0;34m()\u001b[0m\n\u001b[1;32m      1\u001b[0m \u001b[0mresult\u001b[0m \u001b[0;34m=\u001b[0m \u001b[0mcollection\u001b[0m\u001b[0;34m.\u001b[0m\u001b[0mfind\u001b[0m\u001b[0;34m(\u001b[0m\u001b[0;34m{\u001b[0m\u001b[0;34m}\u001b[0m\u001b[0;34m,\u001b[0m \u001b[0;34m{\u001b[0m\u001b[0;34m'title'\u001b[0m\u001b[0;34m:\u001b[0m\u001b[0;36m1\u001b[0m\u001b[0;34m}\u001b[0m\u001b[0;34m)\u001b[0m\u001b[0;34m\u001b[0m\u001b[0;34m\u001b[0m\u001b[0m\n\u001b[1;32m      2\u001b[0m \u001b[0mprint\u001b[0m\u001b[0;34m(\u001b[0m\u001b[0mtype\u001b[0m\u001b[0;34m(\u001b[0m\u001b[0mresult\u001b[0m\u001b[0;34m)\u001b[0m\u001b[0;34m)\u001b[0m\u001b[0;34m\u001b[0m\u001b[0;34m\u001b[0m\u001b[0m\n\u001b[0;32m----> 3\u001b[0;31m \u001b[0mprint\u001b[0m\u001b[0;34m(\u001b[0m\u001b[0mresult\u001b[0m\u001b[0;34m[\u001b[0m\u001b[0;36m0\u001b[0m\u001b[0;34m]\u001b[0m\u001b[0;34m)\u001b[0m\u001b[0;34m\u001b[0m\u001b[0;34m\u001b[0m\u001b[0m\n\u001b[0m",
      "\u001b[0;32m~/Documents/anaconda3/envs/crawler/lib/python3.6/site-packages/pymongo/cursor.py\u001b[0m in \u001b[0;36m__getitem__\u001b[0;34m(self, index)\u001b[0m\n\u001b[1;32m    611\u001b[0m             \u001b[0;32mfor\u001b[0m \u001b[0mdoc\u001b[0m \u001b[0;32min\u001b[0m \u001b[0mclone\u001b[0m\u001b[0;34m:\u001b[0m\u001b[0;34m\u001b[0m\u001b[0;34m\u001b[0m\u001b[0m\n\u001b[1;32m    612\u001b[0m                 \u001b[0;32mreturn\u001b[0m \u001b[0mdoc\u001b[0m\u001b[0;34m\u001b[0m\u001b[0;34m\u001b[0m\u001b[0m\n\u001b[0;32m--> 613\u001b[0;31m             \u001b[0;32mraise\u001b[0m \u001b[0mIndexError\u001b[0m\u001b[0;34m(\u001b[0m\u001b[0;34m\"no such item for Cursor instance\"\u001b[0m\u001b[0;34m)\u001b[0m\u001b[0;34m\u001b[0m\u001b[0;34m\u001b[0m\u001b[0m\n\u001b[0m\u001b[1;32m    614\u001b[0m         raise TypeError(\"index %r cannot be applied to Cursor \"\n\u001b[1;32m    615\u001b[0m                         \"instances\" % index)\n",
      "\u001b[0;31mIndexError\u001b[0m: no such item for Cursor instance"
     ]
    }
   ],
   "source": [
    "result = collection.find({}, {'title':1})\n",
    "print(type(result))\n",
    "print(result[0])"
   ]
  },
  {
   "cell_type": "code",
   "execution_count": 36,
   "metadata": {},
   "outputs": [
    {
     "data": {
      "text/plain": [
       "{'title': '[討論] 日本電影 \"來了\"',\n",
       " 'date': 'Wed Aug 14 14:07:22 2019',\n",
       " 'content': '前幾天在MOD上看完整個矇 ，一開始到一半到妻夫木聰被殺死那邊我都覺得不錯，結果下 半場開始大暴走，看完整個矇.... 目前有幾個疑問 1.那個來了的東西到底是啥 跟男主角小時候有什麼關聯嗎 2.中間好像有講到男主死後 ，小松菜奈有去他家看到照片旁邊放著一個白色的符 ，我的 解讀是男主的教授朋友害他 ，那為什麼他自己跟男主老婆都死了，最後還附在小女孩身 上 3.最後驅魔的時候，松隆子要拿刀捅岡田准一，一開始還以為是在做夢因為前面他手也被 捅了一刀，然後說不會痛就是在做夢，可是後來他流血倒地 4.最後也沒講到底打贏了沒有，只有岡田跟小松活下來，其他人有沒有死也沒講 片尾居然是小女孩唱歌跳舞看了有夠尷尬 原來是小說改編 願聞其詳 為什麼電影有一幕是黑木華把岡田准一給的鹽踩爛 還露出奸笑 那裡也看不太懂 我承認假裝松隆子打電話那邊很棒',\n",
       " 'author': 'chilahachila (狂爆酷炫屌炸天)',\n",
       " 'article_id': 'M.1565762844.A.B76'}"
      ]
     },
     "execution_count": 36,
     "metadata": {},
     "output_type": "execute_result"
    }
   ],
   "source": [
    "contents[0]"
   ]
  },
  {
   "cell_type": "code",
   "execution_count": 22,
   "metadata": {},
   "outputs": [],
   "source": [
    "collection = db.ptt"
   ]
  },
  {
   "cell_type": "code",
   "execution_count": 23,
   "metadata": {},
   "outputs": [
    {
     "name": "stderr",
     "output_type": "stream",
     "text": [
      "/Users/aaron/Documents/anaconda3/envs/crawler/lib/python3.6/site-packages/ipykernel_launcher.py:1: DeprecationWarning: count is deprecated. Use estimated_document_count or count_documents instead. Please note that $where must be replaced by $expr, $near must be replaced by $geoWithin with $center, and $nearSphere must be replaced by $geoWithin with $centerSphere\n",
      "  \"\"\"Entry point for launching an IPython kernel.\n"
     ]
    },
    {
     "data": {
      "text/plain": [
       "31"
      ]
     },
     "execution_count": 23,
     "metadata": {},
     "output_type": "execute_result"
    }
   ],
   "source": [
    "collection.count()"
   ]
  },
  {
   "cell_type": "code",
   "execution_count": 38,
   "metadata": {},
   "outputs": [],
   "source": [
    "result = collection.find()\n",
    "for row in result:\n",
    "    print(row)"
   ]
  },
  {
   "cell_type": "markdown",
   "metadata": {},
   "source": [
    "### 寫入資料"
   ]
  },
  {
   "cell_type": "code",
   "execution_count": 24,
   "metadata": {},
   "outputs": [
    {
     "name": "stderr",
     "output_type": "stream",
     "text": [
      "/Users/aaron/Documents/anaconda3/envs/crawler/lib/python3.6/site-packages/ipykernel_launcher.py:2: DeprecationWarning: insert is deprecated. Use insert_one or insert_many instead.\n",
      "  \n"
     ]
    }
   ],
   "source": [
    "for x in contents:\n",
    "    result = collection.insert([x])  "
   ]
  },
  {
   "cell_type": "code",
   "execution_count": 26,
   "metadata": {},
   "outputs": [
    {
     "name": "stderr",
     "output_type": "stream",
     "text": [
      "/Users/aaron/Documents/anaconda3/envs/crawler/lib/python3.6/site-packages/ipykernel_launcher.py:1: DeprecationWarning: count is deprecated. Use estimated_document_count or count_documents instead. Please note that $where must be replaced by $expr, $near must be replaced by $geoWithin with $center, and $nearSphere must be replaced by $geoWithin with $centerSphere\n",
      "  \"\"\"Entry point for launching an IPython kernel.\n"
     ]
    },
    {
     "data": {
      "text/plain": [
       "239"
      ]
     },
     "execution_count": 26,
     "metadata": {},
     "output_type": "execute_result"
    }
   ],
   "source": [
    "collection.count()"
   ]
  },
  {
   "cell_type": "code",
   "execution_count": 40,
   "metadata": {},
   "outputs": [
    {
     "name": "stdout",
     "output_type": "stream",
     "text": [
      "{'_id': ObjectId('5d53cda9aa0cfb73c9ef9ef1'), 'title': '[討論] 日本電影 \"來了\"', 'date': 'Wed Aug 14 14:07:22 2019', 'content': '前幾天在MOD上看完整個矇 ，一開始到一半到妻夫木聰被殺死那邊我都覺得不錯，結果下 半場開始大暴走，看完整個矇.... 目前有幾個疑問 1.那個來了的東西到底是啥 跟男主角小時候有什麼關聯嗎 2.中間好像有講到男主死後 ，小松菜奈有去他家看到照片旁邊放著一個白色的符 ，我的 解讀是男主的教授朋友害他 ，那為什麼他自己跟男主老婆都死了，最後還附在小女孩身 上 3.最後驅魔的時候，松隆子要拿刀捅岡田准一，一開始還以為是在做夢因為前面他手也被 捅了一刀，然後說不會痛就是在做夢，可是後來他流血倒地 4.最後也沒講到底打贏了沒有，只有岡田跟小松活下來，其他人有沒有死也沒講 片尾居然是小女孩唱歌跳舞看了有夠尷尬 原來是小說改編 願聞其詳 為什麼電影有一幕是黑木華把岡田准一給的鹽踩爛 還露出奸笑 那裡也看不太懂 我承認假裝松隆子打電話那邊很棒', 'author': 'chilahachila (狂爆酷炫屌炸天)', 'article_id': 'M.1565762844.A.B76'}\n",
      "{'_id': ObjectId('5d53cda9aa0cfb73c9ef9ef2'), 'title': 'Re: [討論] 日本電影 \"來了\"', 'date': 'Wed Aug 14 14:36:16 2019', 'content': ': 前幾天在MOD上看完整個矇 ，一開始到一半到妻夫木聰被殺死那邊我都覺得不錯，結果下 : 半場開始大暴走，看完整個矇.... : 目前有幾個疑問 : 1.那個來了的東西到底是啥 跟男主角小時候有什麼關聯嗎 是悲慘死掉的小孩的聚合體妖魔 妻夫木聰的小時玩伴被它帶走 妻夫木聰長大後，潛意識把女兒取跟玩伴同樣的名字 吸引了妖魔 : 2.中間好像有講到男主死後 ，小松菜奈有去他家看到照片旁邊放著一個白色的符 ，我的 : 解讀是男主的教授朋友害他 ，那為什麼他自己跟男主老婆都死了，最後還附在小女孩身 : 上 要看結尾 珀姬摩殺妻夫木聰跟黑木華其實是女兒的意思 女兒自己後來也被帶走 : 3.最後驅魔的時候，松隆子要拿刀捅岡田准一，一開始還以為是在做夢因為前面他手也被 : 捅了一刀，然後說不會痛就是在做夢，可是後來他流血倒地 : 4.最後也沒講到底打贏了沒有，只有岡田跟小松活下來，其他人有沒有死也沒講 : 片尾居然是小女孩唱歌跳舞看了有夠尷尬 松隆子應該有打贏 面對珀姬摩的攻擊，他們的實力差反應到日文對白 雖然意思都有來 小松菜奈：別過來 巫女：要來了歐 松隆子：放馬過來 小女孩唱歌那段有人說蛋包飯有隱喻 我是不太懂 ', 'author': 'cklonger (22)', 'article_id': 'M.1565764579.A.E87'}\n",
      "{'_id': ObjectId('5d53cda9aa0cfb73c9ef9ef3'), 'title': '[討論] 《黑色黨徒》與《幸福綠皮書》', 'date': 'Wed Aug 14 14:44:51 2019', 'content': '其實我覺得該拿奧斯卡的是《黑色黨徒》，甚至連《羅馬》都比《綠皮書》值得。 先不說《羅馬》的藝術性好了，我覺得《黑色黨徒》在處理非裔平權或重現當年非裔處境都 比《幸福綠皮書》好得太多。 雖然我不討厭《綠皮書》，也敬佩兩位主角，Mahershala Ali跟Viggo Mortensen的演技， 非裔鋼琴家願意在種族隔離年代深入保守南方演奏實為勇氣可嘉。 但是，我對非裔跟猶太警探潛入三K黨調查，重現當年非裔平權運動的處理更有感覺，而且 史派克李強烈的批判性，以及運用大量的電影技巧（特寫、蒙太奇、配樂、引用...）都比 通俗又溫馨的《幸福綠皮書》好太多。 雖然我不反對《幸福綠皮書》拿下奧斯卡，但是否有更值得且更佳的選擇呢？ ', 'author': 'radiohead56 (L o S e r f a t n e r D)', 'article_id': 'M.1565765093.A.D59'}\n",
      "{'_id': ObjectId('5d53cda9aa0cfb73c9ef9ef4'), 'title': '[討論] 要怎麼看運鏡手法？', 'date': 'Wed Aug 14 14:48:00 2019', 'content': '鄉民好， 要怎麼看運鏡手法 某些電影拍攝有汽車進入的鏡頭時 都會先從汽車經過一灘積水後掀起水花後再慢慢往上 拍攝汽車停到某個定點 這樣子的運鏡算是OK嗎 鄉民都怎麼看運鏡手法的？ ', 'author': 'lpbrother (LP哥(LP = Love & Peace))', 'article_id': 'M.1565765282.A.A83'}\n",
      "{'_id': ObjectId('5d53cda9aa0cfb73c9ef9ef5'), 'title': 'Re: [新聞] 《小美人魚》主演荷莉貝莉首回選角爭議：', 'date': 'Wed Aug 14 15:42:11 2019', 'content': ': 很久沒來PTT發文了...連彩色文都幾乎都不會用了.... : 不過看這爭議還是想說一下為何這小美人魚的爭議這麼大 : 主要有2方面 : 1. : 確實原始創作是安徒生但迪士尼用動畫版的小美人魚造型賣ip多少年了? : 就像公主與青蛙也改成黑人當女主角但你看有吵成這樣嗎? : 因為這是你初次自拍的IP形象所以沒有包袱人家才懶得管你 : 還有前幾作真人公主系列明明都是白人還原迪士尼原作 怎麼偏偏就這部就搞黑? : 你看看安徒生版原迪士尼版丹麥美人魚雕像全世界哪個印象是黑人魚的??? : 為什麼要挑黑人??? : 你這樣搞不是因為有政治正確因素智障才會信 : 就好比火影忍者跟海賊王如果有天真人化 : 結果鸣人跟魯夫居然變成黑人??? : 你看會不會被討罵 : 如果你挑白毛演員就算了 畢竟鳴人一頭黃毛也挺搭 : 魯夫也沒說是黃種人而且背景又是西方風格海盜題材 : 但偏偏選外型差十萬八千里的黑人???? : 黃人跟白人是沒人可演了? : 這不就是單純噁心人的作為? : 這就跟我們看小美人魚選角的觀點 : 2. : 還有一個因素就是選的 醜 : 就是醜 : 選黑人還選一個醜的 : 奇怪是其他既漂亮又能唱歌跳舞的都死光了? : 為什麼是偏偏這位長得像鯰魚的出選?? : 當年的迪士尼動畫版艾莉兒畫的是多可愛動人很多人的心中女神 : 我們多期待真人化的小美人魚無法像2D那麼完美 但至少希望外觀能過得去啊? : 但你今天卻選這人簡直是在強姦眼睛 : 明明之前真人公主都還選漂亮的 : 就連花木蘭這男人婆也挑漂亮的 : 偏偏就輪到挑小美人魚來挑的外型超不搭的??? : 沒瞎眼都看得出想搭政治正確風氣拉攏北美黑人好感 : 反正有黑人支持北美票房應該不會低 : 但我這片真的是噁心的不會進戲院看了 好 既然看到推文一直說護航的要來回文不能只有推文才行 那我就先來開槍回文 第一：醜的議題 醜不醜、漂不漂亮、美不美是你來認定的嗎？ 我尊重你覺得不好看、覺得醜的想法，我尊重 法律還是什麼有規定漂亮度要到多少才能演小美人魚嗎？ 就因為你覺得醜、你覺得像鯰魚，不從演技、歌聲等等其他地方去討論 你今天用演技、歌聲、歌技討論這個演員適不適合 我覺得合情合理 但今天你卻是從美不美這樣一個主觀的想法來判斷 來去否決人家演出小美人魚這個角色的正當性 不覺得很可笑嗎 第二：膚色 同理膚色，膚色是黑人又怎麼了？ 黑人難道不是人？ 黑人白人黃種人在人類上的分類有什麼差別？ 為何原本動畫版膚色是白的角色 不能換膚色是黑色的演員來呈現這個角色？ 有差別嗎？ 膚色是黑人又怎麼了？ 如果她演技問題，我覺得批評可以 如果她歌聲問題，我也覺得批評可以 但現況不就是一個叫做Halle Bailey的人，來做演出的動作而已嗎？ 到底在氣氣氣氣氣氣氣什麼東西？ 好了 回應完畢。 ', 'author': 'btm978952 (感冒用斯斯)', 'article_id': 'M.1565768534.A.5C6'}\n",
      "{'_id': ObjectId('5d53cda9aa0cfb73c9ef9ef6'), 'title': 'Re: [討論] 日本電影 \"來了\"', 'date': 'Wed Aug 14 15:48:36 2019', 'content': '(爆雷回答您的爆雷提問) 純電影角度， 我個人看法 稍微回覆其中幾題， 大家可以討論看看 1.可以看作人身上只要有邪念，會引來這些陰靈(嬰靈)組成的魄飢魔 像是男主本來是暖男，後來卻因被關注讚美的虛榮心作祟，逐漸沉溺其中，成為虛偽雙面 人網紅。 加上對待家庭與孩子的冷漠，最終讓這些邪魔反撲，落個腰斬兩半慘死。 女主後來也是受不了壓力 逐漸走歪偷情母湯， 導致反撲報應上身 演到兒童那段，就是男女主，各自小時候家庭的疏離感或冷漠，會養成邪靈寄生的機會 2. 小王貪圖女主家庭與美貌，邪念逐漸作祟 表面裝好哥們幫忙男主， 實際上卻濫用自己民俗學知識，騙他家說避邪符，實際卻是召喚惡鬼咒，導致邪靈反撲， 下場自殺。 最後， 結尾小孩在蛋包飯上唱歌，蛋(卵)就是象徵一個個沒能健康長大的孩子，但番茄醬又像血 一樣，是溫馨假象的恐怖 代表很多未來不幸福家庭小孩，充斥著社會，邪靈迫飢魔會逐一找大人反撲 ', 'author': 'vking223 (vking223)', 'article_id': 'M.1565768918.A.045'}\n",
      "{'_id': ObjectId('5d53cda9aa0cfb73c9ef9ef7'), 'title': '[好雷] 盧安達日記 Beautifully Broken, 2018美', 'date': 'Wed Aug 14 16:26:05 2019', 'content': '雷文防雷資訊頁 ~~~~~~~~~~~~~ ~~~~~~~~~~~~~~~~~~~ 雷文 主文分隔線 ~~~~~~~~~~~~~~~~~~~~~~~~~~~~~~~~~ 盧安達日記 Beautifully Broken (2018美國電影) http://app2.atmovies.com.tw/film/fben55645932/ https://en.everybodywiki.com/Beautifully_Broken 爛蕃茄評分: https://www.rottentomatoes.com/m/beautifully_broken imdb評分: https://m.imdb.com/title/tt5645932/ 好看看到imdb評分不高，及有些冷門，原本會略過不看的影片，但看到一些看完此片好 評的留言，及故事簡介有吸引到。盧安達大屠殺事件和三個家庭(一户美國白人、二户盧 安達)如何有所關聯，如何交織在一起？雖然本片情節，會被歸類是傳教、慈善宣導的影 片，但真地拍得質感很好，令我能夠入戲，雖不能說百分之百的感同身受，卻仍深獲我心 ，感動我 英文片名beautifully broken 耐人尋味，片中同名主題歌曲，歌詞文字勵志動人、歌曲 旋律悦耳好聽，摘錄於此po文末，請參考。 影片中的三個家庭: 1.一家三口中，男主人William原本在外商咖啡公司工作，因盧安達 大屠殺而全家逃難的盧安達家庭、2.一家三口中，男主人Randy勤於工作卻疼愛女兒的富 裕幸福的美國白人家庭、3.一家三口中，男主人Mugenzi為保護家人而被迫加入屠殺種族 的民兵團的盧安達家庭，他們各自的人生故事。從1994年、2004年到2004年以後，三個家 庭這段期間的人事變遷，他們如何關係相聯、彼此間奇妙緣分？奇蹟？美好的安排？互 相施與受的互動，而成就了一些人事物目標，令各自家庭更真實地幸福圓滿。劇情流暢， 演出自然動人，收尾令我會心一笑。 摘錄本片中，令我有感的對話字句，如下: 1.上帝透過痛苦、過去、恐懼來愛我們 2.誰知上帝會怎麼利用你的痛苦，去感動他人？ 可以將上帝的字眼替換成: 佛菩薩、上蒼、天、阿拉、宇宙不可言之無形之力一樣有 感 中華電信MOD電影199 盧安達日記 Beautifully Broken Eric Welch director Beautifully Broken Plumb lyrics 傳教類型電影 慈善活動宣傳 盧安達大屠殺 https://zh.m.wikipedia.org/zhtw/ 卢旺达大屠杀 歌曲Beautifully Broken 的影片: https://www.youtube.com/watch?v=ce6PT3sQGgfeature=share 歌詞: Beautifully Broken by Plumb [Verse 1] Every tear every doubt Every time youve fallen down When youre hurting feeling shame When youre numbing all your pain When youve lost your way And feel so far away Youre not [Chorus 1] Youre beautifully broken And You can be whole again Even a million scars Doesnt change whose you are Youre worthy Beautifully broken [Verse 2] Every fear of being loved For who you are no matter what When youre stumbling with each step And youre haunted by regret And the darkness closes in Just listen [Chorus 2] Youre beautifully broken And You can be whole again Even a million scars Doesnt change whose you are Youre worthy Beautifully broken Youre beautifully broken (beautifully broken) Youre beautifully broken [Bridge] Oh the God who made the stars Is the God that made your heart And Hes holding you right now He can heal the broken parts And make beauty from the scars the scars Beautiful scars [Chorus 3] Youre beautifully broken And You can be whole again Even a million scars Doesnt change whose you are Youre worthy Youre beautifully broken And You can be whole again Even a million scars Doesnt change whose you are Youre worthy Youre beautifully broken (Youre beautifully broken) Beautifully broken (Youre beautifully broken) Youre beautifully broken from: https://www.google.com/amp/s/genius.com/amp/Plumbbeautifullybrokenlyrics', 'author': 'zzauber (zauber)', 'article_id': 'M.1565771173.A.7DE'}\n",
      "{'_id': ObjectId('5d53cda9aa0cfb73c9ef9ef8'), 'title': '[新聞] 贏了票房卻傷了和氣\\u3000《玩命關頭》陷入分', 'date': 'Wed Aug 14 16:30:52 2019', 'content': '贏了票房卻傷了和氣 《玩命關頭》陷入分裂危機 新聞網址： http://bit.ly/2KxJW75 連續2週都在台美2地拿下票房冠軍，《玩命關頭：特別行動》全台突破3億3200萬新台幣 票房，美國也有1億800萬美金，但是這部片卻讓《玩命關頭》系列陷入了分裂危機。儘管 大家都不想明說，但各種蛛絲馬跡都顯示，這家人一切都回不去了。 打從電影公司傳出要開拍《玩命關頭：特別行動》，扮演大嘴羅曼的泰瑞斯吉布森（ Tyrese Gibson）就在Instagram上放砲，拜託巨石強森跟傑森史塔森，千萬不要答應接拍 ，這樣會延後《玩命關頭9》的拍攝進度，不要為了自己連累大家、不要讓銀幕上的一家 人四分五裂。但他的發言，只是間接證實，身兼製片的馮迪索干預了在《玩命關頭8》原 本要出現的隱藏片段，也就是鋪哏給《玩命關頭：特別行動》。當時觀眾在戲院發現沒有 隱藏片段，還感到納悶，一反前幾集的慣例。 然而就算沒有鋪哏的安排，《玩命關頭：特別行動》還是拍攝完畢、順利上演，拿下票房 冠軍。泰瑞斯吉布森繼續在Instagram放砲，動手拆散這個家，絕對不是誰都能想到的 舉動。這集《特別行動》的首週票房紀錄，是打從第3集《東京甩尾》以來最低的。巨石 強森他們那一掛還要回來，跟我們一起拍玩命10，裝沒事大和解那樣，因為我們要滿足這 20年來支持這系列電影的粉絲。只是發文沒有多久又自刪，留下濃濃的火藥味。 但是當《玩命關頭：特別行動》連續2週都拿到票房冠軍後，巨石強森終於也在推特上回 應了，感謝所有支持這部片的粉絲，超過3億美金的票房在全世界拿下第一別忘了， 讓大嘴巴閉上的最佳辦法，就是面帶微笑的成功。而且他這段話裡頭，還用了小丑的表 情符號，一看就知道他在挖苦泰瑞斯。而泰瑞斯則在Instagram貼出沒有黑夜，星星就 無法放光明，底下還加了句感謝上帝，我痊癒了 總之這齣恩怨連續劇還不知道上演到何時才能結束，但正在拍攝中的《玩命關頭9》已經 確認不會有巨石強森、傑森史塔森的戲份，但馮迪索找來另外一位摔角出身的肌肉男星約 翰希南（江希南）加入，擴充電影的猛男陣容。至於《玩命關頭10》要如何像泰瑞斯吉布 森所說的那樣，把巨石強森等人找回來大和解，就要看到時候編劇怎麼變出來了。 用社群媒體互嘴的Family XDDDDDDDDDD Thats how it starts sir. The fever the rage the feeling of powerlessness that turns good men... cruel. Alfred / Batman v Superman ', 'author': 'rubeinlove (れな)', 'article_id': 'M.1565771457.A.888'}\n",
      "{'_id': ObjectId('5d53cda9aa0cfb73c9ef9ef9'), 'title': '[新聞] 迪士尼不看好《變種人》 可能小規模放映', 'date': 'Wed Aug 14 16:42:01 2019', 'content': '傳迪士尼不看好變種人票房潛力 https://i.imgur.com/cnskdnS.jpg 在X戰警：黑鳳凰票房慘賠之後，收購福斯的迪士尼也開始著手檢視其他之前在 福斯體系下所完成的電影作品。而從目前曝光的訊息來看，福斯原本預定接續黑鳳凰 推出的全新恐怖超級英雄電影變種人， 極有可能最後會面臨上不了戲院或是只做小規 模放映的窘境 。 原本排定將於暑假推出的變種人，一直以來就被福斯視為將會改變整個X戰警 系列的別傳新作。除了劇情聚焦在一群年輕變種人角色身上，更特別的是電影雖然是超 級英雄類型片，但卻是以 恐怖驚悚 元素包裝而成，甚至有一度還傳出電影很有可能拍成限 制級。不過根據Variety的最新報導， 迪士尼高層對於變種人一片的反應相當平淡， 並且也不看好這部片的票房吸金潛力 。 這部X戰警全新別傳恐怖片迄今已是一延再延，從一開始敲定的2018年4月中旬， 一路順延到今年暑假，現在又傳出將再度往後延至明年4月初。儘管今年4月迪士尼曾在Ci nemaCon會場上證實變種人仍在未來排片的片單上，但是 直到現在，劇組都尚未完成 最後的補拍工作 。找回演員群再加上燒錢的後製特效，在在都影響著迪士尼高層對於本片 的後續處理方式。 https://reurl.cc/WpqqO https://i.imgur.com/vhGEols.jpg 且根據同一媒體消息表示，3月收購福斯完成後，，迪士尼就已放棄了《X戰警：黑鳳凰》 ，不僅因為内部不支持該電影，也砍掉了福斯至少5000萬美元的營銷費用、解雇了熟悉 《黑鳳凰》的行銷團隊。 内部人士稱該電影的洛杉磯首映規模很小，即是出於經濟原因考量。 ', 'author': 'CYKONGG (CYKONGG)', 'article_id': 'M.1565772123.A.C71'}\n",
      "{'_id': ObjectId('5d53cda9aa0cfb73c9ef9efa'), 'title': '[公告] 暫定版規。歡迎討論，一個月後定案', 'date': 'Tue Jun  4 09:24:15 2019', 'content': '這是目前三位版主討論的版規 暫定版規，對版規有疑慮者請在下方推文討論 一個月後，看大家討論的結果定案(7/4) xxxx: 3a 我覺得如何如何 電影版版規 1. 本版為電影(MOVIE)討論版，而非影劇八卦版 版面文章提供板友討論與 電影相關議題為主 包括但不限於：電影作品暨相關內容、電影獎項、電影政策、 電影產業資訊、觀影心得等議題、電視(網路)電影資訊等 2. 禁止無關電影板旨討論 跟電影版關聯薄弱 包括但不限於無關電影作品、影劇八卦新聞等文章 違規刪文，多次觸犯水桶。 降低罰則 新增跟電影版關聯薄弱 3. 政治規範，在討論電影的前提下可討論政治 a.探討電影欲傳達之政治議題 b.創作者的政治立場對作品的影響 c.本身就是政治主題電影 d.討論台灣或中國的電影政策 版友提出外國電影政策的影響可否討論 4. 禁止 挑釁、引戰、人身攻擊、歧視性字眼、不雅文字的情緒性言論 經依據前後文義判讀有惡意言論行為 (這裡刪除並符合下列任一項行為) 意思是有些反串或鬧版不在下列一樣會成立 a.以政治標籤包括但不限於：吱吱、蛆蛆、支那、皇民等攻擊板友。 或特定版友間人身攻擊、謾罵，且須經當事者來信檢舉成立，不是提到政 治標籤就成立，而是攻擊對方的政治立場 這邊允許政治譬喻，但禁止辱罵對方的政治立場 b.無正當理由以情緒性、負面詞彙謾罵或以動物代稱特定人、族群、國家 看前後文判斷有無惡意，辱罵程度 c.經發文者檢舉於推文無理由指稱工讀生、廣編等言論 d.可討論演員性徵外貌是否符合該角色的氣質特色，但專門意淫發文不行， 推文則看是否重負洗版 開放討論性徵，但以此鬧版一樣會水桶 e.釣魚條款，如原文被判定為引戰挑釁等等之類的違規文，下方推文罵發文者 之處罰僅為三天且不累加 (僅在本版，請注意發文者仍可能到法院提告之類的，請節制發言) 釣魚條款增加，避免大豐收 經版友建議後改成有罪責，但輕且不累加 5. 禁止票券買賣、交換等行為的文章 除5a以外違規水桶一週並刪文 視情況加重 a.口碑行銷活動產生的正常心得文不視為違規；但若於電影首輪院線 上映前或上映期間，以多重帳號（分身）發布或轉錄該電影之相關 心得、資訊、報導，致有干擾板友判斷電影優劣之情事，即視同商 業行為，經查證屬實，水桶期限 2 年。 b.新聞類中夾帶的售票資訊，如非第三方媒體（如報紙、雜誌、 電視）報導原文所有，皆視為本條之商業買賣行為。 c.遭處罰之帳號如經判斷為電影製作、發行、行銷、贊助相關業者所 持有，該業者將列為本板不受歡迎名單至少 2 年，期間禁止一切 行銷活動(包括但不限於贈票、抽獎等)消息之發布。 d.台灣地區合法OTT平台優惠情報一個禮拜只能一篇統整 e.版友揪團包場資訊不以票券買賣視之或不以本條版規處分 6. [雷文條款] 未上映或在台上映未滿六個月電影劇情心得文章規範 違反6b、c、d者刪文並水桶一週 違反6e、g者視情況和犯意最重可以退文水桶30天或推文水桶60天 a.透露影片官方發布電影預告內容或劇情說明已知部分可免受此條文規範 b.在未做任何警告或標註不明顯的情況下予以透露； 或於第一頁以排版、上色、反覆及其他說明方式，刻意突顯者 c.無論雷文警告寫於標題或內文，應將警告文字單獨成行， 並間隔放雷處一頁以上。並依據發文格式發布 d.雷文必須依據版主預設發文格式發布 得詳註觀影時間、觀影戲院(地點)自行買票或片商邀約等資訊 (非必要) e.標題標註無雷欺騙版友，內文透露關鍵劇情者 或於無雷文推文透露關鍵未公開劇情者 標題直接爆雷者 加重處分 f.在台公開上映滿六個月或在台未上映且其他國家公開上映超過一年 電影作品內文可不受此條文規範，發文標題則無上映期限限制 g.發文標題爆雷規範：無論電影上映多久外標題一律不得爆雷 7. 短時間內大量無內容推、噓文鬧版者水桶一星期。 8. 心得文一天三篇為限，大量轉文或回文，視情節刪除給予警告 多次觸犯或情節嚴重可水桶 新增 9. 發文詢問 即可查詢的資訊刪文處置，多次觸犯可水桶。 a.網路或電影時刻表 b.戲院交通、軟硬體座位規格、周邊設施、訂票資訊等相關問題 請至 Theater戲院版發問：視聽劇場 > Movies > Theater 降低罰則 10.[新聞]、部落格文章、廣編稿新聞規範 違規刪文視犯意最重可水桶一週，查獲分身ID違規共同處分加倍額度 a、 內容須至少有七成以上與電影作品及其內容相關，且須附上來源網址 b、 禁止自PTT其他版面轉錄至電影版，此類文章請以全新發文發布 c、 每日單一使用者僅限發布２篇新聞或外部網站部落格文章， 分身計算於每日額度之內 d、新聞標題有誤導版友與演員真實生活連結或過於聳動等情事直接刪除 e、新聞標題有雷請修改，內文有雷請加防雷區，嚴重者同雷文條款 11.Live 文與票房文規範違規水桶一週處分 a、Live文限於例假日、國定假日及其前夕發布，每人每日限開一篇、 每部片在三個月內限開一次。（請以/搜尋確認） b、票房應至少以週為單位，單日票房、周末票房或其他低於一週的票 房，請移至 boxoffice 票房板 討論。 12.未經推文（含噓文、註解）者同意，或無正當理由，刪修推文者。 需經當事人檢舉違規者水桶一個月處分 註１：違反板規或違法內容、無雷文章爆雷、公布個資 或散佈盜版、張爸病毒詐騙連結即為具正當理由可逕行刪除 13.爭議性人事物於公告後禁止相關新聞、討論，違者刪除文章並水桶一星期。 例如：谷阿莫。 14.禁止以任何形式提供/徵求/討論非法影音及其相關內容，違者視情節最重初犯 即可水桶一個月 15.禁止 明顯灌水、未滿三行或30字、同(推)文一再重貼、置底FAQ 板面精華區已有多次重複討論的文章。 違規刪文並水桶一週，情節重大或自刪重貼手動置底者可加倍處分 16.所有自其他版面轉發文章請由原發文者自行轉錄，轉文與原發文ID需相同 經檢舉未經同意轉錄他人文章至電影版刪除，累犯可水桶甚至劣文，討 論版務請以貼上連結方式並用自己的話述寫 17.違反電影版任何一條版規， 經詳細資料檢舉以分身發文或推文者， 分身一併水桶，原處分天數自分身水桶起重新計算 另一年內本尊與分身違反相同版規使用者， 第二次以上違反水桶皆為三個月，分身並移送帳號部處置 18.累犯水桶加重，水桶一週的變一個月，一個月的變三個月，三個月變一年 之前這邊引用分身條款，現在獨立出來並且寫清楚 版主自律條款 (全部新增的) 1.版主為任期制，任期為一年，如板主經罷免卸任、因故請辭或遭解 職，需重新選舉選新板主補上空缺 新版主以任完板主任期為限，任期屆滿仍可重新參選。 如該任板主任期剩餘未滿一個月，則不另外補選，由剩餘板主任事，待任期期滿再 行選出下一屆板主。 2.版主必須迴避和自己有關的案子，交給其他版主或小組長評斷 3.版規宣布必須置底，而且既往不咎 4.為使板友對於板規建議有充分及完整表述的方式， 板友得以 [板規] 類別建議修訂暨新增電影板規，並依下列規範發布 a、 文章內容不限定格式，但必須有新增/修定條文與新增/修定理由 修訂條文建議需附上主附則內文，必須均附上前後差異 b、 板主需於第一篇發布之後一個月內以推文或公告告知修訂結果 c、 建議文章限討論單一板規，每人(含分身帳號)每月僅限以新發文或回文方式 發布一篇。 d、 於第一位板友發布後一個月內，其他板友亦得以回文或新發文方式回應， 相同或相似板規建議一個月內達五篇發文或回文。 板主需於兩週內推文或公告修訂結果 e、 如板主認為建議不夠充分得公告延長必要回覆時間一週， 同時增加開放討論篇數 f、 建議內容可以提及組務判決，但必須遵照該組務版之規定(可以貼文章連結 並以自己的話述說)，站內信或個資按照站規 禁止 允許引用法務相關版資料 板規制訂僅供板主處理板上事務，有其他需求請前往以下各板： 舉薦、罷免板主請往 Buzz_NewBd 申訴板主判決請往 Buzz_Service 對群組判決上訴請往 BoardCourt 站內違規行為請往 BoardPolice 請參照 1FHdAjDs (BoardPolice) 版友討論: 3.政治規範: 外國電影政策影響是否可以討論 4e.釣魚規範: 建議是引戰文或公告文下謾罵一樣水桶 水桶固定一週不受累犯條款，以嚇阻謾罵但不過分處罰 沒複製到....這邊有獨立寫出累犯條款 內文寫啦，附上連結，自己重打 寫得這麼清楚 站方都判了，聽站方的 這直接取消就好 所以我們獨立出一篇累犯條款了，有什麼問題? 這就是開放給大家討論的 你覺得哪邊不完善，請點出 目前就是分身和累犯分開規定 自己的話述寫 ，寫得很明白了吧 我明明第一開始就回你，站方都判了，聽站方的 之前判決也引用看版警察的判例給予劣文的，到底?? 一開始回過你了 之前判決引用看版警察的判例給予劣文的 那個判決不就是你去引用看版警察的判決，於是我同意後給予劣文的嗎? 政治認定其實主要怕的是過度引申台灣和中國 造成紛擾 我把你的意見列上去 我們沒有更動影劇八卦的部分，第二項是複製之前的 兩位提的這點應該沒有拔掉吧?? 可能敘述不夠清楚(這部分是照之前的，覺得沒問題) 第二項包括但不限於無關電影作品、影劇八卦新聞等文章 意思是有關電影的可以，影響電影的可以 我不知道你到底想法是什麼 不要拐彎抹角想要入人於套，直接講你覺得該怎樣，大家討論 說截圖算違規，還去引用看版警察判例的是你 你建議是降低處罰，但不是不處罰? 抱歉，我改改錯字 好 那我把兩位建議列上 早就回你了，站方都判了就聽站方的 同不同意是你那時候扯說什麼和你無關 我回說既然和你無關，那我第一時間打回票了 你如果同意和你無關，我就當我沒看到看板警察的文 再次強調 站方判了就聽站方的 1Sx_Ptvj (Buzz_Theater) 1.目前我去申請上任另外兩位，還沒通過 2.版規草案有詢問過另外兩位意見，並不是我自把自為 3..我知道很多人覺得過去時間我標準太嚴 但那是新版主還沒選出來，所以延用舊版規 相信你可以發現這次修改後，很多處罰是下降的，判定是放寬的 有看到不成立的都會回 那你要酸我能處理時文章已消失所以沒處理，你的自由 不能保證不失誤，但有看到的如果不成立就會回 你問第二次也回了不是? 那個，因為部分是複製原有版規 部分是新增，所以會有規格不一 錯字你看看還有沒有沒注意到的 我晚點會一起修正完，感謝您的糾正 再瞎扯啊 信件我都有留 你提boardpolice判我沒意見吧 我直接回你 當然，我尊重上一階的 新修訂的版規不就開放合不合角色氣質特色了嗎？ 本來禁止，現在開放 不要專門發文純討論外貌 在心得中提到當然沒問題 謝謝提醒，已修正 已新增條款避免', 'author': 'ckshchen (尖酸苛博文)', 'article_id': 'M.1559611458.A.DCA'}\n",
      "{'_id': ObjectId('5d53cda9aa0cfb73c9ef9efb'), 'title': '[板規] 新增/單日發文總量限制', 'date': 'Sun Aug 11 03:34:28 2019', 'content': '由於目前板規對於發文數量並無明確規範 為了避免造成板友閱讀上的不便或是其他相關問題 所以我認為板規應該對發文總量做限制 我建議一個人一日的文章以三篇為上限 附議請1 不認同請隨意 本條並未實施 討論階段而已 允許引用法務相關版資料 心得文一天三篇為限，大量轉文或回文，視情節刪除給予警告 多次觸犯或情節嚴重可水桶 10.[新聞]、部落格文章、廣編稿新聞規範 違規刪文視犯意最重可水桶一週，查獲分身ID違規共同處分加倍額度 a、 內容須至少有七成以上與電影作品及其內容相關，且須附上來源網址 b、 禁止自PTT其他版面轉錄至電影版，此類文章請以全新發文發布 c、 每日單一使用者僅限發布２篇新聞或外部網站部落格文章， 分身計算於每日額度之內 d、新聞標題有誤導版友與演員真實生活連結或過於聳動等情事直接刪除 e、新聞標題有雷請修改，內文有雷請加防雷區，嚴重者同雷文條款 沒有針對性 單純是希望對現有的板規進行補完 同時也算是小小拋磚引玉一下 希望板友未來對板規有意見 可以多多利用這個格式來進行討論 謝謝', 'author': 'kai3368 (人間失格待宰彘)', 'article_id': 'M.1565465670.A.D4F'}\n",
      "{'_id': ObjectId('5d53cda9aa0cfb73c9ef9efc'), 'title': '[情報] 亞藝影音 中坡店、永貞店 9/20結束營業', 'date': 'Wed Aug 14 01:44:42 2019', 'content': '我想這兩天應該有一些人收到通知簡訊了 亞藝影音台北中坡店、新北永貞店要結束營業了 目前已經開始做出清特賣的活動，不過主要是做二手DVD/BD的部分 出租版DVD/BD皆有買一送一的活動 (我平常只買BD，只記得BD 299買一送一XD) 出租版UHD目前還是不對外販售的 底上附上兩間店的地圖 亞藝影音台北中坡店：台北市南港區忠孝東路五段970號 https://i.imgur.com/P0UMhB0.jpg 建議由後山埤站2號出口出來，過個馬路就到了 亞藝影音新北永貞店：新北市永和區永貞路422號 https://i.imgur.com/l8iAR1n.jpg 建議交通方式有兩種 1.搭到頂溪站後轉搭比漾廣場免費接駁車(不過現在好像要會員了XD) 2.搭到永安市場站用走的過去(其實沒有很遠) 有興趣的版友們可以去看看，應該可以挖到不少寶 畢竟這兩間都是十幾年的店了，應該有一些幾近絕版的片子可以找 在這兩間店收掉之後，台北就剩下天母、通化跟信義(販售only)三間店了 正式少於台中四間店啦XDDD 該說是見證了一個時代的結束吧(菸 水無月小記 http://minazukiw.pixnet.net/blog 小弟是個曾在代理商、後期公司、動畫公司打滾過的渾人 生平愛好大概也就只有全球藍光BD敗家、開箱、還有各式ACG 藍光BD的二三事(偏技術文) http://minazukiw.pixnet.net/blog/post/38818931 台北買片好地方(偏敗家文) http://minazukiw.pixnet.net/blog/post/44357209 歐版日本動畫BD(偏心得文) http://minazukiw.pixnet.net/blog/post/45406266 想當年我把DVD一箱1000賣掉的時候，我也覺得應該都會發中字BD 結果UHD都在歐美慢慢普及了，那個魔鬼大帝不要說中字BD了，連BD都沒有Orz', 'author': 'Minazuki (水無月航)', 'article_id': 'M.1565718284.A.33E'}\n",
      "{'_id': ObjectId('5d53cda9aa0cfb73c9ef9efd'), 'title': '[情報] 《知道天空有多藍的人》官方釋出第三彈主', 'date': 'Wed Aug 14 02:11:54 2019', 'content': '描述第二次初戀的故事，《知道天空有多藍的人》官方釋出第三彈主視覺 動漫 20190812 17:50:02 poki543 動畫電影《知道天空有多藍的人（空の青さを知る人よ）》發布第三彈電影主視覺，是描 繪慎之介、茜、葵、慎四位主角同框的活潑海報。 https://i.gbc.tw/gb_img/9/003/929/3929829.jpg https://i.gbc.tw/gb_img/0/003/929/3929830.jpg 《知道天空有多藍的人》是由長井龍雪導演、腳本家岡田麿里、角色設定兼總作畫監督的 田中將賀等神級製作群再次集結所獻上的最新動畫電影，是描述正值高二 17 歲的相生葵 、與戀人分隔兩地的葵的姊姊相生茜、時隔 13 年回到故鄉，同時也是茜的戀人慎之 介、以及 13 年前正是高中生，跨越時間來到他們面前的慎之，四人的四角戀愛以及聯繫 過去及現在的第二次初戀的故事。 https://youtu.be/Px1htzPeYCc 《知道天空有多藍的人》預告 https://i.gbc.tw/gb_img/8/003/929/3929828.jpg 本作將於 10 月 11 日於日本上映，同時將有六間劇院業者進行特別合作，8 月 23 日起會有本作的特別背景海報依次刊出。 https://www.gamebase.com.tw/news/topic/99221760', 'author': 'hoanbeh (孫南)', 'article_id': 'M.1565719918.A.84F'}\n",
      "{'_id': ObjectId('5d53cda9aa0cfb73c9ef9efe'), 'title': '無', 'date': '無', 'content': '被刪除', 'author': '無', 'article_id': '無', 'link': '無'}\n",
      "{'_id': ObjectId('5d53cda9aa0cfb73c9ef9eff'), 'title': '[討論] 寄生上流二刷', 'date': 'Wed Aug 14 03:29:35 2019', 'content': '再看第二次 好像後面有剪片 爸爸跟兒子擁抱後 電影院的畫面就結束 但實際上後面還有畫面 就是回到兒子自我想像的畫面 如果畫面停在擁抱，那就很感人 但停在兒子對未來的幻想就很囧 還有石頭真的從水裡面浮上來 還有石頭真的砸破頭血流滿地 確定他石頭沒砸歪，沒死厲害 兒子一定有練過金鐘罩鐵頭功 有其母必有其子，虎媽無犬子 想到裡面臺灣古早味蛋糕倒店 再聯想到現在的一芳水果茶 聽說臺灣很多加盟店完蛋 我看應該會全部倒光光 那些一芳加盟主應該會跟 電影裡面的兩個倒楣老公一樣慘 一蹶不振不是當乞丐就是吃軟飯 不然就是靠小孩提早賺錢養家 一間飲料店聽說也要好幾百萬 我看未來應該會衍生出很多 一芳寄生蟲出來寄生在臺灣 看到北車越來越多夫妻街友 可想而知創業真是一大賭注 看有多少藝人做生意都失敗 很多當保全的也是創業失敗 所以當保全或開計程車還債 而韓國現在是一個保全 就有五百個三流大學畢業生搶 那兩個老公在韓國連保全都沒得當 未來臺灣應該也會這樣吧 所以少子化未必不好 可以增加很多就業率 我看兒子要發財買房子救爸爸 大概只能做保險做安麗當房仲 或是去傳教當教主才能發財了 真希望導演能拍第二集交代一下 兒子媽媽跟老闆老婆女兒的去向 ', 'author': 'godgod777 (Tim)', 'article_id': 'M.1565724577.A.648'}\n",
      "{'_id': ObjectId('5d53cda9aa0cfb73c9ef9f00'), 'title': '[片單]', 'date': 'Wed Aug 14 03:41:51 2019', 'content': '1. 請簡述自身需求片單理由 或 欲尋找電影的類型或特徵（請盡量描述清楚） 想找不是心靈雞湯，但是是越挫越勇的那種電影，不知道各位版友有沒有推薦的 2. 已知符合需求的電影或偏好的電影類型（為避免重複推文，請至少列舉一部） 目前想不到待會補 3. 不喜歡的電影類型 （不需要板友推薦的電影片名） ', 'author': 'notfound0506 (notfound0506)', 'article_id': 'M.1565725313.A.E3C'}\n",
      "{'_id': ObjectId('5d53cda9aa0cfb73c9ef9f01'), 'title': '[好雷] 迷弟出頭天!靠追星逆轉人生的炫目之光', 'date': 'Wed Aug 14 04:41:27 2019', 'content': '圖文好讀版: https://gaga124.pixnet.net/blog/post/35571121 因為追愛豆，陰鬱憤青開始積極向上； 因為追愛豆，自卑男孩開始追逐夢想； 因為追愛豆，迷惘少年開始追尋自我。 《炫目之光》（Blinded By The Light）活脫脫就是一部追星迷弟反轉人生的勵志電影，完全不是在唬爛，電影文本由真人真事改編，出自於薩費茲曼佐（Sarfraz Manzoor）的回憶錄《來自貝瑞公園的問候》（Greetings from Bury Park），電影主角原型薩費茲曼佐從少年追星到中年，至今已累積超過150次坐在演唱會第一排支持愛豆，真愛粉無誤啊 ~~~~~~~~~~~~~ ~~~~~~~~~~~~~~~~~~~ 雷文 主文分隔線 ~~~~~~~~~~~~~~~~~~~~~~~~~~~~~~~~~ 故事從一名覺得自己被小鎮困住的憤青MURMUR開始，開頭採用分割畫面，選用當代歷史影像片段包圍畫面中央的主角敘事線，說明當代社會背景。1987年的倫敦瀰漫在罷工、失業的消極環境中，大環境抑鬱，家庭環境也是如此。巴基斯坦移民二代的主角Javed家庭保守，堅守伊斯蘭信仰，遵循傳統價值，如同當時大部分的亞洲家庭一般，子女不敢表達真實想法，依循父親期望而活。正值青春期的Javed處於男孩進入男人的過渡階段，總覺得自己明明16歲卻被當成6歲看，連過個馬路出席朋友家派對也被阻攔，滿腹牢騷只好寫在日記裡了。 Javed從9歲起開始寫日記，對他來說，寫作不僅是興趣，更是紓發情緒的管道。然而，Javed的文字卻缺乏被認可的價值，好幾次他興沖沖的把寫好的歌詞拿給玩樂團的兒時玩伴看，卻慘遭打槍，父親只希望他能向猶太人看齊，不要和其他巴基斯坦人一樣開計程車維生，遠離女色用功讀書，未來當個醫生、律師、房仲，拼個好錢途，作家從不是被允許的職涯選項。 在這狗屁世界中只有布魯斯的話是肺腑真言 在學校沒朋友，感情沒著落，才華不被認可，人生沒有主控權，所有的一切都讓Javed悶到爆。某個狂風大作的夜裡決定把文字作品通通丟到垃圾堆，殊不知風太大紙片被吹走，他也懶得管，7 PUPU的走回房間，怒氣震落書包（誤）剛好掉出同學推廣給他的工人皇帝布魯斯史普林斯汀（Bruce Springsteen）音樂卡帶。 這一撿起來聽不得了了，歌詞句句擊中內心深處，讓Javed大有布魯斯是我知己的激動，從此追星不復返，曾經的陰鬱憤青帥氣轉身變成上進開朗少年。 能量滿滿的迷弟Javed因為追星，在學校找到同好（朋友GET）；因為愛豆給的正能量開始勇敢書寫靈魂，獲得老師青睞（自我價值GET），因此吸引到女同學的注意順利脫單（女友GET），後期因寫作獲獎有了到美國參加研討會順便朝聖愛豆故鄉的機會（夢想GET），還得到報社實習機會（事業GET），完全是追星成就人生的粉絲典範 別讓世界的嚴酷阻擋你，放棄自己最美好的那一面 儘管有著愛豆正能量支撐，在築夢過程中還是得披荊斬棘，一一挺過好友反目（尊重相異喜好）、家人對立（與父親和解）、種族歧視（正面反擊）等阻礙，除了愛豆正能量以外，我認為有幾個貴人必須感謝： CLAY老師鼓勵寫作，提供比賽、實習等機會，引領Javed築夢踏實。 鄰居白人阿伯作為Javed的第一位讀者粉絲，肯定才華之餘，也在好友反目階段點醒Javed，助他重拾友誼。 女友Eliza通知Javed的家人到場聆聽其畢業演講，父子感情重修舊好。 我希望在實踐自我的同時，能與家人取得共識，而不是漸行漸遠 一心想靠好成績考到外地念大學脫離家鄉的Javed在畢業演講上，以美國夢為主題講出他對家鄉的認可（與電影開頭拼命想擺脫家鄉的心境產生對比），坦率表達對家人的愛。這段演講太感人肺腑，不禁流下感動的淚水，電影尾聲秀出主角原型Sarfraz Manzoor的照片，讓我信服因愛豆而圓滿的人生還是真實存在的。 延伸思考：電影時代背景與情節恰好呼應現今英國脫歐恐帶來的經濟衰退及境內種族歧視升溫；亞裔族群為了及時回家吃晚餐因應而生的日間舞會(daytime disco)文化；Javed自認是英國人卻遭父親糾正的移民國族認同議題亦值得深思。 題外話，看到主角原型Sarfraz Manzoor時一直聯想到演浩克的Mark Alan Ruffalo，有種說不出來的相似感。 https://i.imgur.com/HpDHpUa.jpg', 'author': 'gaga124 (子虛烏有)', 'article_id': 'M.1565728922.A.F53'}\n",
      "{'_id': ObjectId('5d53cda9aa0cfb73c9ef9f02'), 'title': '[新聞] 「航海王：奪寶爭霸戰」日本再破紀錄 台灣將有4D超震撼刺激版', 'date': 'Wed Aug 14 05:34:43 2019', 'content': '新聞網址： https://stars.udn.com/star/story/10090/3986923 20190813 18:50 聯合報 記者蘇詠智即時報導 今夏包括名偵探柯南、哆啦A夢、蠟筆小新等知名動畫都推出劇場版電影， 皆吸引死忠影迷進戲院捧場。暑假壓軸自然輪到航海王：奪寶爭霸戰，此片上周五在 日本正式上映，首日即有過35萬名觀眾湧入戲院，成為日本2019年週五上映的新片中最高 單日觀眾人數記錄，創下超過5億日圓的票房。台灣片商打鐵趁熱，搶在8月21日（周三） 全台盛大上映，並一口氣推出4D、2D等多規格版本，讓台灣的航海王迷們在暑假之際 可以一同熱血奪寶 航海王系列睽違3年再推全新劇場版航海王：奪寶爭霸戰，恰逢航海王動畫 系列推出的第20周年，令此片極具紀念性意義，之前13部航海王系列電影票房已累積 破300億日圓的驚人票房，這部新片一上檔，也成功吸引超過35萬觀眾在首日湧入欣賞， 一舉寫下光榮的新紀錄。為了讓臺灣海迷們迎接20週年紀念影片，電影公司引進充滿 動感體驗的4D版本，讓觀眾除除2D版外有更多選擇。4D版的預售也有多種不同贈品，包括 日本進口的徽章、海報桶組等，而2D版觀眾們則有機會隨機獲得包括魯夫、喬巴 、娜美等受歡迎角色共 9 款的角色海報。除此之外，即日起至麗寶樂園、花 月嵐拉麵、燒丼依指定方式消費，即可獲得航海王：奪寶爭霸戰限量電影優惠 券（數量有限，送完為止）。 上輩子是人的人才是人(屬於人道本性人性) 上輩子是動物或鬼的人叫修羅(屬於修羅道本性非人性 自以為是人 ) 人類=人修羅(人阿修羅)人類人 ; https://tinyurl.com/yc8s5el3 https://www.youtube.com/watch?v=5bi8nEVkbQc ( 淨空老法師法語：阿修羅的由來) 人的肉身只是靈魂的容器現世的靈魂來自前世靈魂是人的人才是人 而現代教育系統最首要的作用是教化人阿修羅使他們有人的意識~~', 'author': 'orz44444 (現代的教育系統很厲害!!!)', 'article_id': 'M.1565732087.A.DFC'}\n",
      "{'_id': ObjectId('5d53cda9aa0cfb73c9ef9f03'), 'title': '[新聞] 「復仇者聯盟」哪個角色最難演？導演說是他！！', 'date': 'Wed Aug 14 05:37:29 2019', 'content': '新聞網址： https://stars.udn.com/star/story/10090/3987631 20190814 01:09 聯合報 記者蘇詠智即時報導 復仇者聯盟：終局之戰刷新全球票房紀錄，穩坐賣座冠軍寶座，片中所有英雄都成為 粉絲熱烈討論話題，尤其以鋼鐵人、美國隊長、黑寡婦等幾位復仇者聯盟元老最具人 氣。雖然編導已努力讓每個人都有屬於自己發光發亮的時刻，仍然有人的角色難度比其他 人都要高，到底是哪一位英雄如此？ 根據復仇者聯盟：無限之戰與復仇者聯盟：終局之戰導演羅素兄弟的看法，小勞 勃道尼飾演的鋼鐵人東尼史塔克，性格雖然有缺陷，卻極具特色，加上他個人的明星魅力 ，深受觀眾歡迎並不讓人意外，東尼也不是最難演的一位英雄。反倒是正義與紀律的化身 美國隊長，既要呈現出角色的堅忍和剛正，又不能太死板而無趣，還要突顯出一位1940 年代男性錯置在21世紀的社會努力融入又不習慣的複雜性，難度非常非常高，克里斯伊凡 的表現相當出色。 羅素兄弟認為美國隊長可能對所有演員都是最艱難的挑戰，看似單面，其實很複雜，不過 兩人在執導兩集復仇者聯盟片集之前，已先拍了兩集美國隊長影片，對此角色的 了解比一般觀眾更深，較能清楚要演好這角色的困難度有多高。至於克里斯，則坦言扮演 一個角色久了，會不自覺將角色的遭遇和自身戲外的生活互相對照，尤其當碰上困境時， 會試著用處事更明智的隊長的眼光來分析，因而當要跟這角色道別，忍不住在殺青當天哭 了出來。 上輩子是人的人才是人(屬於人道本性人性) 上輩子是動物或鬼的人叫修羅(屬於修羅道本性非人性 自以為是人 ) 人類=人修羅(人阿修羅)人類人 ; https://tinyurl.com/yc8s5el3 https://www.youtube.com/watch?v=5bi8nEVkbQc ( 淨空老法師法語：阿修羅的由來) 人的肉身只是靈魂的容器現世的靈魂來自前世靈魂是人的人才是人 而現代教育系統最首要的作用是教化人阿修羅使他們有人的意識~~', 'author': 'orz44444 (現代的教育系統很厲害!!!)', 'article_id': 'M.1565732252.A.EC7'}\n",
      "{'_id': ObjectId('5d53cda9aa0cfb73c9ef9f04'), 'title': '[新聞] 《小美人魚》艾瑞克王子主演敲定', 'date': 'Wed Aug 14 07:17:36 2019', 'content': '更新：多篇媒體已澄清Harry Styles推辭了此角色 新聞網址： https://bit.ly/2Tv7tbW 《小美人魚》真人版確認由一世代成員Harry Styles飾演艾瑞克王子 https://i.imgur.com/CiJMCw8.jpg https://imgur.com/1v3SOxa.jpg https://i.imgur.com/JrA2JXh.jpg https://i.imgur.com/jj7snwX.jpg some6279one : 原網址也更新澄清了 目前尚未定下演員 更新了感謝補充 08/14 09:27', 'author': 'LXIVBB (海邊的火)', 'article_id': 'M.1565738259.A.2A1'}\n",
      "{'_id': ObjectId('5d53cda9aa0cfb73c9ef9f05'), 'title': '[問片] 關於地球的電影', 'date': 'Wed Aug 14 08:30:08 2019', 'content': '大家有看過一部片，關於太陽要滅亡的影片嗎？ 大意就是太陽要爆炸了，會波及到地球，中國人想到一個很聰明的idea，就是蓋好幾座噴 射器在地球上。但是在啟動時發生故障，中華台北、美國、日本、韓國，各國都決定放棄 了。最後，只有中國人沒放棄，並拯救了地球、全人類。 有人知道這是哪部嗎？ ', 'author': 'ininagap (ininagap)', 'article_id': 'M.1565742610.A.14D'}\n",
      "{'_id': ObjectId('5d53cda9aa0cfb73c9ef9f06'), 'title': '[贈票] 今晚 19:00 炫目之光@大直美麗華', 'date': 'Wed Aug 14 10:57:23 2019', 'content': '贈送一張今晚19:00在大直美麗華的炫目之光 需要15:3017:30間來三重捷運站找我拿票 並18:00後先到影城幫我也劃一張票開演前拿給我 有意願者請私訊唷 ', 'author': 'tcps0428 (Hey)', 'article_id': 'M.1565751445.A.550'}\n",
      "{'_id': ObjectId('5d53cda9aa0cfb73c9ef9f07'), 'title': '[情報] 劇場版《SHIROBAKO》特報釋出，甜甜圈五', 'date': 'Wed Aug 14 11:22:18 2019', 'content': '劇場版《SHIROBAKO》特報釋出，甜甜圈五人組正各自活躍等著登上共同舞台 動漫 20190813 15:11:01 poki543 劇場版《SHIROBAKO》日前公開了特報影像及劇照，其中除了主角宮森葵與安原繪麻等高 中一起立誓的夥伴以外，也能看見不少新角色的身影。 https://youtu.be/2WE_Ep_oR0 劇場版《SHIROBAKO》特報 本作是由 P.A.WORKS 與水島努導演攜手合作，自 2014 年播放的電視版《SHIROBAKO》後 的完全新作劇場版動畫，故事描述宮森葵、安原繪麻、坂木靜香、藤堂美沙、今井綠五位 想進入動畫業界工作的女孩們，在戰場或是尚未進入戰場的奮鬥之姿。她們在高中所立下 的誓言是要五人一起完成一部作品，這樣的機會在劇場版中會到來嗎？ https://i.gbc.tw/gb_img/5/003/930/3930075.jpg https://i.gbc.tw/gb_img/6/003/930/3930076.jpg https://i.gbc.tw/gb_img/7/003/930/3930077.jpg https://i.gbc.tw/gb_img/8/003/930/3930078.jpg https://i.gbc.tw/gb_img/9/003/930/3930079.jpg https://i.gbc.tw/gb_img/0/003/930/3930080.jpg https://i.gbc.tw/gb_img/1/003/930/3930081.jpg https://i.gbc.tw/gb_img/3/003/930/3930083.jpg 上週所舉行的 Comike96，企業攤 MOVIC 便已開始販售電影預售票了，另外 TOKYO MX 目 前在每週四日本時間晚間十點正在重播電視動畫《SHIROBAKO》，在電影於明年春天上映 之前，粉絲們可以盡快複習電視版的劇情。 https://i.gbc.tw/gb_img/2/003/930/3930082.jpg https://www.gamebase.com.tw/news/topic/99222049', 'author': 'hoanbeh (孫南)', 'article_id': 'M.1565752941.A.AED'}\n",
      "{'_id': ObjectId('5d53cda9aa0cfb73c9ef9f08'), 'title': 'Re: [新聞] 真人版《阿拉丁》續集有望推出！ 製片：', 'date': 'Wed Aug 14 11:24:27 2019', 'content': ': 推 j31404 : 精靈都變真人了，怎麼拍啊 08/13 21:47 : 推 teaball : 想看神燈的起源 08/13 22:55 : 推 ailio : 精靈只是過凡人生活，有說神力全消失嗎？ 08/14 00:57 : 推 kaj1983 : 精靈我記得變成人之後有測試一下神力的動作，好像是 08/14 09:47 : kaj1983 : 沒神力了 08/14 09:47 在原本的動畫裡 精靈自由後並沒有喪失法力 身為奴隸的精靈 是不能拒絕實現主人許的願望 所以獲得自由後的精靈 立刻要阿拉丁對他再許一個願望 測試看看他是否能夠拒絕阿拉丁的願望 是否真的自由了 但是這個測試有些不合理 因為阿拉丁已經許完三個願望了 本來第四個願望就可以不實現 真人版修改了這個地方 精靈要阿拉丁說個要求的時候 阿拉丁並沒有說I wish...只是簡單的要精靈拿些果醬給他 精靈的動作也有點像想變些果醬但變不出來的樣子 所以看起來很像是精靈喪失法力 完全變成人類了 也就是阿拉丁許的願望 讓精靈獲得自由 = 變成人類？ 還有精靈到底是怎麼來的 他是否和賈方一樣 也曾經是個人類？ 這些背景故事仍然不清楚 也許在續集會加以說明 如果真的有續集的話 補一個我覺得真人化目前為止 最佳的情侶檔 https://i.imgur.com/xy1ebrf.jpg https://i.imgur.com/9LVGR62.gif https://i.imgur.com/mpeza7h.gif https://i.imgur.com/70os3zB.gif https://i.imgur.com/6Ef1IEs.gif https://i.imgur.com/3WnjUG6.gif https://i.imgur.com/nzpQdEn.gif', 'author': 'silky7 (‵・ω・′)', 'article_id': 'M.1565753069.A.2CE'}\n",
      "{'_id': ObjectId('5d53cda9aa0cfb73c9ef9f09'), 'title': '[新聞] 片名標新立異？最新小婦人變她們 網友不解', 'date': 'Wed Aug 14 12:12:05 2019', 'content': 'https://stars.udn.com/star/story/10090/3987987 片名標新立異？最新小婦人變她們 網友不解 20190814 11:18 聯合報 記者蘇詠智即時報導 由才女葛莉塔潔薇全新改編、執導的最新小婦人電影，首支正式預告出爐，但最引起 網友熱議的卻是索尼將中文片名定為她們，而非依據傳統的小婦人。 小婦人這本小說在美國堪稱家喻戶曉，描述4個姊妹各自不同人生遭遇的情節，也一 再被影像化，默片、黑白有聲片、彩色大製作、電視影集、動畫等都曾推出過，也因此索 尼面臨到頭痛的問題是小婦人、新小婦人片名在台灣都用過，難不成叫新新小 婦人？乾脆別出心裁，取名為她們。 如此一來卻又讓看慣小婦人的網友不滿意，感覺不倫不賴，呼籲改回原名。有趣的一 是，她們首支預告突顯扮演2姊喬瑟芬的瑟夏羅南堅持要打破當年大眾對於女性只能 以婚姻、愛情為重的偏見，和索尼改新片名作風互相呼應。 她們幾位姊妹花中演大姊的艾瑪華森最當紅、知名，預告中卻不搶故事主角2姊的鋒 頭，倒是客串有錢嬸婆的梅莉史翠普，預e面比戲分更重的蘿拉鄧（扮4姊妹之母 ）還要多。她們預計明年元月23日上映。 http://mbscnn.org/NewsList.aspx?CLASS=221 上座部佛教馬哈希尊者 帝釋所問經講記77頁拆穿 假佛法大乘 的 騙局 。 馬哈希尊者 毗婆舍那講記(含法的醫療)說明如何修四念處增加智慧斷除所有煩惱。 https://santi4u.blogspot.com/ PTMC 馬哈希 寂靜禪園 妙法蓮華經 、 華嚴經 、 心經 、 金剛經 、 梵網經 ( 菩薩戒 )、 圓覺經 、 楞嚴經 是 大乘假佛經 。 阿彌陀佛 藥師佛 大日如來 是 大乘假佛 觀世音 維摩詰 龍樹 地藏王 是 大乘假菩薩', 'author': 'hvariables (Speculative Male)', 'article_id': 'M.1565755928.A.1D0'}\n",
      "{'_id': ObjectId('5d53cda9aa0cfb73c9ef9f0a'), 'title': '[討論] 日本原爆74週年，電影，螢火蟲之墓', 'date': 'Wed Aug 14 12:19:48 2019', 'content': '看到緯來日本台臉書的日本原爆解說影片 讓我想到國中歷史課學的日本原爆事件 說到原爆就想到核輻射影響 而出現身體健康狀況異常的受害者 小時候我看螢火蟲之墓，只知道空軍投下原子彈 火垂るの墓 (Hotaru no haka) https://m.youtube.com/watch?feature=youtu.bev=ycyeJvdwkc 大家有發現什麼嗎？ 貞子為什麼從水井爬出來？ 貞子說慈禧太后是我母親 慈母手中線，遊子身上衣。 臨行密密縫，意恐遲遲歸。 誰言寸草心，報得三春暉。.....猜猜我是誰？ 中元(移個1)>>>味， 廣島與長崎原子彈爆炸 發生在第二次世界大戰末期， 美軍在1945年8月6日與8月9日， 分別在日本的廣島市與長崎市 投下原子彈（核彈），。 今年2019年是原爆74週年， 柯南小弟我是民國75年出生(1986年) 黑暗組織說明年2020年東京奧運就是你的死期？ Sent from JPTT on my Xiaomi Redmi Note 5. 水滅火 風助火 誰害中國? http://i.imgur.com/wIp2g7G.png FB : https://goo.gl/RUWbTd 七龍珠之 曹操 魏族 復活了? 聖鬥士星矢之AKB48明星大戰? 機動戰士鋼彈之家電變化? 城市獵人之市區 脖子漢族 被害? 機動警察之警察沒有感情? 桃太郎傳說之消滅鬼怪? 魔神英雄傳之機車變化? 三 眼 神 童 之 惡 魔之子? 閃電霹靂車之龍蛇道高速公路? PS股票站 幽遊白書之魔界降臨? 新世紀福音戰士之人類遊戲計畫? 名偵探柯南之黑暗藥物? 爆走兄弟之汽車變化? 神奇寶貝之怪獸現實真奪戰? 中華一番之食物變黑暗料理? ', 'author': 'conan543 (真相只有一個)', 'article_id': 'M.1565756392.A.DCA'}\n",
      "{'_id': ObjectId('5d53cda9aa0cfb73c9ef9f0b'), 'title': '[情報] Last Christmas 去年耶誕 預告片', 'date': 'Wed Aug 14 12:29:41 2019', 'content': '瘋狂亞洲富豪續集終於來了 (X) 我們最喜歡的母子檔楊紫瓊跟亨利高丁這次來到了英國倫敦 女主角從吳恬敏換成了龍母艾蜜莉亞克拉克，還有金獎影后艾瑪湯普生 https://i.imgur.com/MUVZvJ6.jpg 電影預告 https://youtu.be/z9CEIcmWmtA 今年11/8上映 ', 'author': 'burnsy0018 (burnsy)', 'article_id': 'M.1565756983.A.D3F'}\n",
      "{'_id': ObjectId('5d53cda9aa0cfb73c9ef9f0c'), 'title': '[討論] 為什麼李連杰照片傳聞這麼多', 'date': 'Wed Aug 14 12:33:43 2019', 'content': '今天早上又有李連杰的新照片，看起來跟35歲的壯漢差不多 蠻奇怪的，一般電影明星應該多多少少都有被偷拍的照片吧，怎麼李連杰的照片好像就神 秘的跟什麼一樣 一下老一下年輕，而且這些照片的來源都很奇怪，沒看過什麼有名的媒體報導，倒都是一 些奇怪的網站 依照他的名氣跟收入，應該要有一點正常的照片吧，怎麼就是零星幾張？然後大家再憑著 這些東西寫故事 如果說是因為他的宗教，我記得好萊塢應該不只他一個是佛教的，說不通 ', 'author': 'm2017 (Ares)', 'article_id': 'M.1565757225.A.CF0'}\n",
      "{'_id': ObjectId('5d53cda9aa0cfb73c9ef9f0d'), 'title': '[好雷]《痛苦與榮耀》創作從來都不是從零開始 ', 'date': 'Wed Aug 14 12:34:56 2019', 'content': '網頁版文章： https://vocus.cc/@XXY2018/5d538cf6fd897800012ac262 https://www.movier.tw/post.php?SID=156826 影音導讀 120秒評電影： https://youtu.be/I7ndDTZivOg 《痛苦與榮耀》Pain and Glory 創作從來都不是從零開始 在今年坎城影展主競賽之列的《痛苦與榮耀》，不論在片名或是劇本故事發想，與其他競 賽作品相比，都是一部格局不大又非常私人的電影作品。故事述說了創作者，不論是 在何種領域、透過何種型式抒發情感，其實都是以自己的人生經歷做發想，說明了創作即 是生活的態度、生活處處藝術的道理。 阿莫多瓦這位西班牙導演，依舊保持著他對於大膽用色的影像風格，聚焦細膩的人物側寫 ，並加入諸如批判人性、宗教、或是觸及有關LGBTQ等議題：《痛苦與榮耀》確實是一部 讓人反省、啟發人心、發人省思的有趣作品。 故事從一位年邁的電影導演說起，由安東尼奧班德拉斯飾演的馬洛，有著曾經輝煌的過往 ，也有著非常多複雜又隱藏在心中的秘密。他會用電腦打成短篇故事，再用寫作劇本的方 式用不同創作媒介呈現給大眾。這或許都是每位藝術創作者必經的過程：正如片名所述， 沒有經歷痛苦的階段，何來甜美、榮耀的時刻呢？ 比起過去阿莫多瓦早期的處理複雜的故事線，《痛苦與榮耀》用一種今昔交錯的方式 ，描述了男主角從小到大的成長歷程，卻又在電影最後結局來了一記回馬槍。其巧妙之處 就在於，它雖是一則小型的個人自省作品，講述著非常私人的故事，卻又能夠放諸四海皆 準的人生哲學。 這整個將近兩小時的片長，就在大量的談話性對白中進行，就像用慢火細心烹煮著一鍋好 菜，讓人逐步認識到劇中男主角的完整樣貌。或許，現階段我們無法體會老年階段的心靈 感受，對身邊任何事物感到無味，或承受惱人的身體毛病。但在安東尼奧班德拉斯的詮釋 之下，那種對人生充滿無奈，許多遺憾或秘密埋藏在心中卻欲言又止的心情，相當有共鳴 。 痛苦和榮耀就是一體兩面，必須學習怎麼去和這兩者共存的哲學態度；所有的人 生成就，勢必都是靠著痛苦的累積、聚集，經過千錘百鍊後才慢慢孕育出甜蜜成果。不論 最後的結果是成功與否，當我們回頭看看這麼多回憶，翻找著記憶的痕跡，過程一定都是 酸中帶甜，不是嗎？ ===================Power by==================== Welcome to 視覺動物的電影觀點 Facebook粉絲團 https://www.facebook.com/animalofvision =====================XXY======================= ', 'author': 'grafishbanet (XXYXXYXXYXXY)', 'article_id': 'M.1565757305.A.46F'}\n",
      "{'_id': ObjectId('5d53cda9aa0cfb73c9ef9f0e'), 'title': '[好雷]MIB星際戰警: 你多久沒有仰望星空了? ', 'date': 'Wed Aug 14 13:22:54 2019', 'content': '~~~~~~~~~~~~~~~~~~~ 雷文 主文分隔線 ~~~~~~~~~~~~~~~~~~~~~~~~~~~~~~~~~ 圖文網址: https://reurl.cc/ej6MM 影片網址: https://youtu.be/RpoQz2UTeOc 上映時間：1997/07/02 導演： Barry Sonnenfeld 觀看時間：2019/06/16(重看) 先前看完了屎一般的MIB星際戰警：跨國行動，決定把原系列三部曲翻出來複習 一下，一看才發現第一集已經是22年前的電影了。看完電影感想：雖然有些橋段知道梗之 後就沒這麼有趣，但依舊是一部非常好看的電影。 Men In Black這個單位，是人類與外星生物的橋樑，他們打理外星人在地球的一切 事物，並向世人隱藏他們存在的事實，抹殺世人對於外星人的記憶。MIB資深探員 K(Tommy Lee Jones飾演)在一次案件中發現了有天賦與潛力的警察Edward(Will Smith飾 演)，決定把他招募到組織，並親自訓練這位菜鳥成為稱職的探員。兩人一起執行調查任 務，就是MIB星際戰警這部電影的故事。 MIB星際戰警最有趣的地方，就在於他們的宇宙觀，在人類所住的這個地球上， 其實充滿了形形色色的外星人，外星人其實都藉由變裝隱藏在人類的世界裡，探員們對於 不同的外星人也有不同的應對方式；片中充滿了顛覆人類常識的科技與設定，外星人對人 類的評論與看法也是一針見血，人類的思維邏輯其實都被我們所謂的常識所束縛，有 時候我們必須學會跳躍式的思考，但有時候也別把問題想得太複雜，答案可能比你想的還 簡單，畢竟宇宙的規則真的完全超乎想像，人類之於整個宇宙實在是太渺小了，你知道得 越多，不懂的就越多，看完電影，只覺得無知好像也不是一件壞事啊。 MIB星際戰警雖然是一個主打外星人的故事，但本片的核心故事其實是圍 繞在J跟K這兩位人類身上。新進探員J就跟我們觀眾一樣，是一個被常識束縛的人 類，而電影就以K這位資深探員為師，向J介紹誰是外星人，並學習怎麼跟外星人打 交道，故事就是看J藉由K的引導，一步步了解這個超乎想像的宇宙。J與K兩人除了資歷不 同之外，個性上也是截然不同，J的個性就是外向、有話直說，K則是嚴肅、不苟言笑，兩 人完全相反的個性與行事風格，讓他們在執行任務期間擦出不少火花，雖然本片大部分時 間都看JK兩個人鬥嘴，但在鬥嘴的背後，其實是K正在以他的方式訓練J觀察不起眼卻事關 重要的小事，讓J跳脫常識的束縛，好讓他能夠成為一位能夠獨當一面的MIB探員。 在看MIB星際戰警時，你一定能發現這個故事的宇宙裡有超級龐大的設定，例如 銀河帝國、星際戰爭之類的設定，但本片做的最好的地方，就在於他們至始至終沒有忘了 這部電影的核心故事，就只是兩個探員執行調查任務的簡單小故事，劇情對於宇宙的設定 只有點到為止，並把重點聚焦在這對老少配搭檔的互動上，能把一個簡單的故事說得好看 ，這可是很多電影做不到的地方，J跟K兩人鬥嘴的互動方式，在日後成為不少電影想要模 仿的互動模式，但多數都是畫虎不成反類犬，你就知道塑造一對有趣搭檔有多麼困難了。 MIB星際戰警除了宇宙觀有趣、兩位主角表現亮眼之外，配角的表現也都很到位 ，外星人的部分雖然多數是NPC，但他們的偽裝都很有梗；片中的女主角雖然戲分不多， 但她所展現出的智慧與自主性，完全海放MIB星際戰警：跨國行動裡的M。本片的反派 做起事來毫不手軟，鄙視人類的同時卻對同胞有無比的關愛，這簡單的個性卻幫這部電影 大大的加分。 就像我開頭說的，MIB星際戰警很多橋段在你看第二次知道梗以後就沒這麼好笑 了，但電影中的許多黑色幽默就算拿到今天來看還是適用。舉個例子來說，片中有安排一 段諷刺男人只會用下半身思考的對話，劇情的安排不但不會讓人覺得突兀，反而會讓觀眾 思考自己是不是就是電影想要諷刺的那個白癡男性，這樣簡單不做作的劇情正是這部電影 做的最好的地方。 總結這部電影，雖然有龐大的宇宙設定，但本片的任務、人設、互動、幽默其實都非 常簡單，事後想想本片故事其實就只是兩個人出線性任務，但本片最厲害的地方，就在於 把每個簡單的元素處理到最好，並發揮出一加一大於二的效應，再加上天馬行空的世界觀 ，就讓本片成為了一部流傳多年的經典電影。 MIB星際戰警：大力推薦、值得一看再看 人類之於宇宙，真是連一粒沙都不如啊 後記： 1.1997年的電影，雙子星都還是紐約的地標呢 2.看完第一集真的讓我更討厭MIB星際戰警：跨國行動，又一個畫虎不成反類 犬的故事。 ', 'author': 'TCPai (荒野遊俠)', 'article_id': 'M.1565760179.A.E4D'}\n",
      "{'_id': ObjectId('5d53cda9aa0cfb73c9ef9f0f'), 'title': 'Re: [討論] 迪士尼請的翻譯是不是不夠力', 'date': 'Wed Aug 14 13:38:14 2019', 'content': ': 是RAID FIRE，襲擊火力，有sudden attack的意思。 : 不是什麼RAIN FIRE、RED FIRE。 FallenAngelX: Lay fire應該是沒錯 FallenAngelX: 不如說也只有Lay fire是比較合理的句子 推 willy891017: 是Raid fire沒錯喔，我4刷了 推 jtrdavid371: 是Raid fire....我聽了很多遍 官方藍光影碟發售 裡面有給聽障者看的英文字幕 這裡有個收集字幕的網站 終局之戰的字幕： https://bit.ly/2Y6KGb7 THANOS (2014): Rain fire 嗯 我確定是rain fire啦 ', 'author': 'electronicyi (電子益)', 'article_id': 'M.1565761099.A.953'}\n"
     ]
    }
   ],
   "source": [
    "result = collection.find()\n",
    "for row in result:\n",
    "    print(row)"
   ]
  },
  {
   "cell_type": "code",
   "execution_count": 48,
   "metadata": {},
   "outputs": [],
   "source": [
    "from datetime import datetime\n"
   ]
  },
  {
   "cell_type": "code",
   "execution_count": 49,
   "metadata": {},
   "outputs": [
    {
     "ename": "SyntaxError",
     "evalue": "invalid token (<ipython-input-49-d3bc11c56e6f>, line 2)",
     "output_type": "error",
     "traceback": [
      "\u001b[0;36m  File \u001b[0;32m\"<ipython-input-49-d3bc11c56e6f>\"\u001b[0;36m, line \u001b[0;32m2\u001b[0m\n\u001b[0;31m    start = datetime(2014, 9, 24, 7, 51, 04)\u001b[0m\n\u001b[0m                                          ^\u001b[0m\n\u001b[0;31mSyntaxError\u001b[0m\u001b[0;31m:\u001b[0m invalid token\n"
     ]
    }
   ],
   "source": [
    "# convert your date string to datetime object\n",
    "start = datetime(2014, 9, 24, 7, 51, 04)\n",
    "end = datetime(2014, 9, 24, 7, 52, 04)"
   ]
  },
  {
   "cell_type": "code",
   "execution_count": 53,
   "metadata": {},
   "outputs": [],
   "source": [
    "result = collection.find({ \"date\": { \"$gt\": datetime(2019,8,12), \"$lt\": datetime(2019,8,14) } } )\n",
    "for row in result:\n",
    "    print(row)"
   ]
  },
  {
   "cell_type": "code",
   "execution_count": 56,
   "metadata": {},
   "outputs": [
    {
     "name": "stdout",
     "output_type": "stream",
     "text": [
      "{'title': '[討論] 日本電影 \"來了\"'}\n",
      "{'title': 'Re: [討論] 日本電影 \"來了\"'}\n",
      "{'title': '[討論] 《黑色黨徒》與《幸福綠皮書》'}\n",
      "{'title': '[討論] 要怎麼看運鏡手法？'}\n",
      "{'title': 'Re: [新聞] 《小美人魚》主演荷莉貝莉首回選角爭議：'}\n",
      "{'title': 'Re: [討論] 日本電影 \"來了\"'}\n",
      "{'title': '[好雷] 盧安達日記 Beautifully Broken, 2018美'}\n",
      "{'title': '[新聞] 贏了票房卻傷了和氣\\u3000《玩命關頭》陷入分'}\n",
      "{'title': '[新聞] 迪士尼不看好《變種人》 可能小規模放映'}\n",
      "{'title': '[公告] 暫定版規。歡迎討論，一個月後定案'}\n",
      "{'title': '[板規] 新增/單日發文總量限制'}\n",
      "{'title': '[情報] 亞藝影音 中坡店、永貞店 9/20結束營業'}\n",
      "{'title': '[情報] 《知道天空有多藍的人》官方釋出第三彈主'}\n",
      "{'title': '無'}\n",
      "{'title': '[討論] 寄生上流二刷'}\n",
      "{'title': '[片單]'}\n",
      "{'title': '[好雷] 迷弟出頭天!靠追星逆轉人生的炫目之光'}\n",
      "{'title': '[新聞] 「航海王：奪寶爭霸戰」日本再破紀錄 台灣將有4D超震撼刺激版'}\n",
      "{'title': '[新聞] 「復仇者聯盟」哪個角色最難演？導演說是他！！'}\n",
      "{'title': '[新聞] 《小美人魚》艾瑞克王子主演敲定'}\n",
      "{'title': '[問片] 關於地球的電影'}\n",
      "{'title': '[贈票] 今晚 19:00 炫目之光@大直美麗華'}\n",
      "{'title': '[情報] 劇場版《SHIROBAKO》特報釋出，甜甜圈五'}\n",
      "{'title': 'Re: [新聞] 真人版《阿拉丁》續集有望推出！ 製片：'}\n",
      "{'title': '[新聞] 片名標新立異？最新小婦人變她們 網友不解'}\n",
      "{'title': '[討論] 日本原爆74週年，電影，螢火蟲之墓'}\n",
      "{'title': '[情報] Last Christmas 去年耶誕 預告片'}\n",
      "{'title': '[討論] 為什麼李連杰照片傳聞這麼多'}\n",
      "{'title': '[好雷]《痛苦與榮耀》創作從來都不是從零開始 '}\n",
      "{'title': '[好雷]MIB星際戰警: 你多久沒有仰望星空了? '}\n",
      "{'title': 'Re: [討論] 迪士尼請的翻譯是不是不夠力'}\n"
     ]
    }
   ],
   "source": [
    "result = collection.find({}, {'title':1, '_id':0})\n",
    "for row in result:\n",
    "    print(row)\n"
   ]
  },
  {
   "cell_type": "code",
   "execution_count": 45,
   "metadata": {},
   "outputs": [
    {
     "name": "stdout",
     "output_type": "stream",
     "text": [
      "{'content': '突然想起小時候在電視上看到的一部恐怖片 詳細內容已記不清楚 大概是一群青少年去類似鬼屋還是迷宮的地方探險 突然看到一扇門裡有個小丑 其中一個屁孩拿走了小丑的紅鼻子 然後發生了一些怪事 影片的最後是他們把鼻子還回去 有上網查了很多關於小丑的電影但是好像都不是 希望有大大可以解答 謝謝 不好意思，其他部分已經不記得了，不確定有沒有 不是“牠”也不是綠頭毛的小丑啦 印象中那個小丑臉沒有特別恐怖', 'article_id': 'M.1565609952.A.17F', 'author': 'phytobiotic (史萊姆萃取物)', 'title': '[問片] 一部關於小丑的恐怖片', 'date': 'Mon Aug 12 19:39:10 2019'}\n",
      "{'content': ': 先說我以前是立方粉，我以前他不紅是就有追直播不過我沒抖內 : 覺得他們太看重電影的文化 : 反而忽略電影的娛樂 : 把昆丁片捧高 : 把玩命外傳噴的像狗屎 : 就會講什麼阿 : 一堆剪接鏡頭 你是不是太腿了呀 超粒方的問題一直都是他的雙標太嚴重呀 可以說是一點都不客觀 甚至可以說是完全主觀 一部電影的好壞純憑他個人的喜好呀 他覺得好就吹爆 覺得拉機就狂酸狂貶 玩命外傳是屎 結果自殺突擊隊是神片??笑死 這種雙標才是超粒方大問題好嗎 從他說自殺突擊隊理的情緒轉折跟編排很神以後 我就沒再看過他的影片了 那種拉雞都能吹爆 那請問他貶其他電影的標準在哪??是同一把尺嗎? 玩命外傳是屎的話 那自殺突擊隊除了小丑女以外就是屎中之屎 ', 'article_id': 'M.1565610245.A.6A6', 'author': 'ADIE2 (ㄚ呆)', 'title': 'Re: [討論] 加點吉拿棒最近是不是走偏啦？', 'date': 'Mon Aug 12 19:44:03 2019'}\n",
      "{'content': 'http://interestblend.blogspot.com/2019/08/blondebrunetteredhead.html 圖文網誌版 https://i.imgur.com/DCS6GUZ.jpg 當妳的髮色改變時是有很大差別的，因為妳被對待的方式會非常不同， 這是很有趣的經驗。 ( Its so different when you change your hair color youre treated so differently. Its a very funny experience. ) 凱特柏絲沃 ( Kate Bosworth 美國女星 ) 金黑紅女孩現象( Blonde Brunette Redhead ) 這是指一部電影裡面如果有很多女生角色，很容易出現金色、黑色跟紅色三種髮色的女生 經常還會湊成一組人。 我們知道金髮、紅髮與黑髮女子的刻板印象，一個天真浪漫、一個火爆性感、 一個神祕智慧 於是乎，角色間的個性相襯與衝突，就很好安排，排列組合算一算， 就有好幾種劇情可以寫。 而且同時髮色也不會很拘泥於純色，黑髮有可能替換成深棕，金髮有可能換成白金色， 而且金黑紅髮色也還能搭配其他膚色的女性， 於是在數量與種族方面，都很符合現在好萊塢政治正確至上的風潮，靈活性十足。 最具說服力的理由是美學上的，金黑紅不同髮色互相輝映，猶如天空彩虹一樣， 視覺上是非常美好的，光站在一起就覺得畫面華麗起來。 https://i.imgur.com/yZ4sFtF.jpg 此外為什麼是三位，可上溯古老神話中的三相女神， 人們視少女、婦女、老嫗為三相女神 許多文化中，都能找到關於這三個階段的女神的主題， 她們各代表女性的重要特質： 天真、性感與睿智。 而這三相女神的特質，又對應到上面金髮、紅髮與黑髮女子的刻板印象。 https://i.imgur.com/zjngauP.jpg 《美國隊長2：酷寒戰士》 ( Captain America: The Winter Soldier ) 睿智的瑪莉亞希爾、火辣的娜塔莎羅曼諾夫以及純真的雪倫卡特就是最好明證。 https://i.imgur.com/Jam04id.jpg 《霹靂嬌娃》( Charlies Angels ) 同樣的，霹靂嬌娃這三位也是個金黑紅女孩現象的好例子。 https://i.imgur.com/PEYVQ05.jpg 《愛情三選一》( Definitely Maybe ) 金黑紅女孩現象代表性作品，找來三位髮色互異，不同風情的美人， 伊莉莎白班克絲 ( Elizabeth Banks )、瑞秋懷茲 ( Rachel Weisz ) 與艾拉費 雪 ( Isla Fisher ) 演出， 猜猜看，何者征服了男主角？ https://i.imgur.com/MC9HH0p.jpg 《婚禮終結者》( Wedding Crashers ) 柯里家三姊妹也是金黑紅女孩現象，其中艾拉費雪演的小妹精神上不太平衡， 更有點性慾亢進，這是紅髮妹的刻板印象之一。 https://i.imgur.com/iI0GifB.jpg 《凡赫辛》( Van Helsing ) 《凡赫辛》中的德古拉新娘們，也是符合這個概念的例子。 不過她們就沒有太多個性展現 https://i.imgur.com/j6I8Ccq.jpg 《時間的皺摺》( A Wrinkle in Time ) 雖然是部SJW化導致打呵欠連連的片子，不過因為主角符合原則，故列入。 https://i.imgur.com/S7vGbq8.jpg 《怪奇孤兒院》 ( Miss Peregrines Home for Peculiar Children ) 從伊娃葛林 ( Eva Green ) 到兩位與男主角結緣的女主角與女配角， 也是符合這個現象。 https://i.imgur.com/dsM9sHr.jpg 《大娛樂家》( The Greatest Showman ) 蜜雪兒威廉絲 ( Michelle Williams )、蕾貝卡弗格森 ( Rebecca Ferguson ) 與千黛亞柯爾曼 ( Zendaya Coleman ) 這三位要角也是金黑紅女孩，另值得注意的是角色性格， 蕾貝卡弗格森帶有性感誘惑意味，而蜜雪兒威廉絲則有純真善良的象徵。 https://i.imgur.com/xY11xYl.jpg 《大亨小傳》( The Great Gatsby ) 伊莉莎白戴比基 ( Elizabeth Debicki )、凱莉墨里根 ( Carey Mulligan ) 跟艾拉費雪 ( 出現第三次了 )， 三者的搭配真是美學上的巔峰。 https://i.imgur.com/UlaIk2D.jpg 《飛天小女警大電影》( The Powerpuff Girls Movie ) 金黑紅女孩現象這動畫電影最常出現了，因為太顯眼方便了。 https://i.imgur.com/c8igLNY.jpg 《校園嬌娃電影版》 ( Totally spies Le film ) 這也是動畫電影的好例子。 https://i.imgur.com/Ry9dxx7.jpg https://i.imgur.com/1Pmj01i.jpg 最後，下個預言，哪天天可憐見華納如果把《高譚女妖》( Gotham Sirens ) 拍出來， 或者漫威/索尼發神經把蜘蛛人的初戀、老婆跟砲友塞進同一部電影， 貓女、毒藤女與小丑女；瑪麗珍、關跟黑貓的組合十之八九也會是金黑紅女孩。 https://i.imgur.com/kJZol3K.jpg 不為什麼，就因為金黑紅女孩放在一起實在太美妙了。 相關文章 電影裡的紅髮美女。 https://interestblend.blogspot.com/2018/09/blogpost.html 參考文獻 https://tvtropes.org/pmwiki/pmwiki.php/Main/TheThreeFacesOfEve https://allthetropes.fandom.com/wiki/Blonde_Brunette_Redhead 我們只死一次，卻得等待很久。 莫里哀，法國劇作家 嗚嗚 有喜歡瑞秋的同好 好感動~~ 每次提到她 都想勦電影公司沒繼續找她拍GI JOE的紅髮女 因為講到她 大部分都只記得紅髮女 停車場夜驚魂是比較小眾一點啦 不過扮相 身材真的是讓人一直看下去 超越時間線看到後來 時空劇情感到滿複雜 不易再發展 總覺收尾在那邊 也算不會太爛尾 提到黑寡婦 她的個人電影找來黑髮的瑞秋懷茲 金髮的佛羅倫斯佩治 再加上紅髮的自己 應該又是金黑紅女孩現象的好例子 在西方文化裡 紅髮女性常常和性感 放蕩 冶豔等印象畫上等號 學術雜誌的論文指出，紅色真能吸引男人，實驗也證實， 男性對於穿著紅色衣的女性最有興趣， 因為他們認為紅色除代表熱情和浪漫，還能引發男生性趣。 所以紅髮女生給你如此印象 其來有自 其實GI JOE 也勉強算金黑紅女孩的例子 紅髮女 黑髮安娜跟 金髮的 Cover Girl (只出現一下子) 很多女星其實扮演角色與實際髮色 都會有出入 或者平常的髮色不是她原來的髮色 如艾瑪史東(她原本是金髮 然紅髮最有名) 幫補圖 https://i.imgur.com/XmIPoB2.jpg 另外慾望城市也是類似 雖然說她們是四個人 https://i.imgur.com/7A0XaAm.jpg https://i.imgur.com/IL1hXfz.jpg 因為是五個 所以一開始沒納入@@ 飛天小女警的人氣怎麼遠勝過 DC 漫威女角 真是不可思議 @@ 我突然想到 女性角色在電影裡台詞比例向來比男生低 所以冠以不同髮色 或許是賦予角色印象的慣用手法 之前看過一則調查 說電視廣告中的紅髮角色比例跟實際人口比起來 超級高 果然紅髮就是給人一種強烈衝擊印象 因為上次你推了小女警的圖 所以這次寫文章就把她們列為範例了 呵呵 被認出來了~~~ 接下來還有兩篇電影中頭髮文在寫 不過啥時候完工就不知道了 他們是男的啊~~~ <囧>', 'article_id': 'M.1565612152.A.4B1', 'author': 'hn14714271 (遁地獸!╰(‵皿′)╯)', 'title': '[閒聊]電影裡的「金黑紅女孩現象」', 'date': 'Mon Aug 12 20:15:47 2019'}\n",
      "{'content': 'https://i.imgur.com/rgTG7so.jpg 《蜘蛛人：離家日》還在上映中，台灣目前票房3.7億，今日有IMAX版本重映的消息，上 面為美麗華臉書貼文的圖；查了一下威秀網站，有些地區也跟著加開了所以應該不是美麗 華戲院限定，看底下推文，所以有可能是《玩命關頭：特別行動》票房不如預期嗎？還是 單純漫威又一次行銷操作？ https://i.imgur.com/pn8cUQx.jpg 如果是前者，但《玩命》系列後幾集台灣票房都超高覺得不太可能賣差到需要讓廳（蜘蛛 人都一個多月了IMAX上座率難道會比較高？），卻也感覺不太像後者，因為沒搭配什麼特 別行銷活動或衝票房的必要。 如果選擇再看一次IMAX，蠻好奇觀眾會選哪一部的？ ', 'article_id': 'M.1565614322.A.F6F', 'author': 'CYKONGG (CYKONGG)', 'title': '[討論] 《玩命關頭》外傳讓場次給《蜘蛛人》？', 'date': 'Mon Aug 12 20:52:00 2019'}\n",
      "{'content': '雖然講的是南京的故事 可能跟臺灣沒有直接關係 但我要說的是那些慰安婦的片段 因為也是臺灣有的問題 所以沒辦法看完之後什麼都不想 會覺得她們很可憐 日軍真的很恐怖= = 請問大家看南京大屠殺主題的電影時 是否也會省思？ 還是覺得因為是特地的地點 所以沒感覺？？ ', 'article_id': 'M.1565614409.A.13B', 'author': 'ComeTureLou (千層酥的千晨)', 'title': '[討論]看南京大屠殺的相關電影會久久無法平息嗎', 'date': 'Mon Aug 12 20:53:27 2019'}\n"
     ]
    }
   ],
   "source": [
    "for x, y in zip(metadata, contents):\n",
    "    print(y)"
   ]
  },
  {
   "cell_type": "code",
   "execution_count": 43,
   "metadata": {},
   "outputs": [
    {
     "ename": "TypeError",
     "evalue": "'str' object is not a mapping",
     "output_type": "error",
     "traceback": [
      "\u001b[0;31m---------------------------------------------------------------------------\u001b[0m",
      "\u001b[0;31mTypeError\u001b[0m                                 Traceback (most recent call last)",
      "\u001b[0;32m<ipython-input-43-66e13afac10a>\u001b[0m in \u001b[0;36m<module>\u001b[0;34m()\u001b[0m\n\u001b[1;32m      1\u001b[0m \u001b[0;32mfor\u001b[0m \u001b[0mx\u001b[0m\u001b[0;34m,\u001b[0m \u001b[0my\u001b[0m \u001b[0;32min\u001b[0m \u001b[0mzip\u001b[0m\u001b[0;34m(\u001b[0m\u001b[0mmetadata\u001b[0m\u001b[0;34m,\u001b[0m \u001b[0mcontents\u001b[0m\u001b[0;34m)\u001b[0m\u001b[0;34m:\u001b[0m\u001b[0;34m\u001b[0m\u001b[0;34m\u001b[0m\u001b[0m\n\u001b[0;32m----> 2\u001b[0;31m     \u001b[0mz\u001b[0m \u001b[0;34m=\u001b[0m \u001b[0;34m{\u001b[0m\u001b[0;34m**\u001b[0m\u001b[0mx\u001b[0m\u001b[0;34m,\u001b[0m \u001b[0;34m**\u001b[0m\u001b[0my\u001b[0m\u001b[0;34m}\u001b[0m\u001b[0;34m\u001b[0m\u001b[0;34m\u001b[0m\u001b[0m\n\u001b[0m\u001b[1;32m      3\u001b[0m     \u001b[0mresult\u001b[0m \u001b[0;34m=\u001b[0m \u001b[0mcollection\u001b[0m\u001b[0;34m.\u001b[0m\u001b[0minsert\u001b[0m\u001b[0;34m(\u001b[0m\u001b[0;34m[\u001b[0m\u001b[0mz\u001b[0m\u001b[0;34m]\u001b[0m\u001b[0;34m)\u001b[0m\u001b[0;34m\u001b[0m\u001b[0;34m\u001b[0m\u001b[0m\n\u001b[1;32m      4\u001b[0m     \u001b[0;31m#filename = './crawl_file/'+ z['article_id']+'.json'\u001b[0m\u001b[0;34m\u001b[0m\u001b[0;34m\u001b[0m\u001b[0;34m\u001b[0m\u001b[0m\n\u001b[1;32m      5\u001b[0m     \u001b[0;31m#with open(filename, 'w') as outfile:\u001b[0m\u001b[0;34m\u001b[0m\u001b[0;34m\u001b[0m\u001b[0;34m\u001b[0m\u001b[0m\n",
      "\u001b[0;31mTypeError\u001b[0m: 'str' object is not a mapping"
     ]
    }
   ],
   "source": [
    "for x, y in zip(metadata, contents):\n",
    "    z = {**x, **y} \n",
    "    result = collection.insert([z])    \n",
    "    #filename = './crawl_file/'+ z['article_id']+'.json'\n",
    "    #with open(filename, 'w') as outfile:\n",
    "        #json.dump(z, outfile, ensure_ascii=False)"
   ]
  },
  {
   "cell_type": "code",
   "execution_count": 41,
   "metadata": {},
   "outputs": [
    {
     "name": "stdout",
     "output_type": "stream",
     "text": [
      "<class 'pymongo.cursor.Cursor'>\n"
     ]
    }
   ],
   "source": [
    "result = collection.find({}, {'title':1, '_id':0})\n",
    "print(type(result))\n"
   ]
  },
  {
   "cell_type": "code",
   "execution_count": 42,
   "metadata": {},
   "outputs": [
    {
     "name": "stdout",
     "output_type": "stream",
     "text": [
      "{'title': '[選片] 命帶追逐 引爆點 小偷家族'}\n"
     ]
    }
   ],
   "source": [
    "for i in result:\n",
    "    print(i)"
   ]
  },
  {
   "cell_type": "code",
   "execution_count": 55,
   "metadata": {},
   "outputs": [],
   "source": [
    "client.drop_database('article')\n"
   ]
  },
  {
   "cell_type": "code",
   "execution_count": null,
   "metadata": {},
   "outputs": [],
   "source": []
  }
 ],
 "metadata": {
  "kernelspec": {
   "display_name": "Python 3",
   "language": "python",
   "name": "python3"
  },
  "language_info": {
   "codemirror_mode": {
    "name": "ipython",
    "version": 3
   },
   "file_extension": ".py",
   "mimetype": "text/x-python",
   "name": "python",
   "nbconvert_exporter": "python",
   "pygments_lexer": "ipython3",
   "version": "3.6.8"
  }
 },
 "nbformat": 4,
 "nbformat_minor": 2
}

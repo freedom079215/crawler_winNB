{
 "cells": [
  {
   "cell_type": "code",
   "execution_count": 1,
   "metadata": {},
   "outputs": [],
   "source": [
    "import requests\n",
    "import os\n",
    "import re\n",
    "import sys\n",
    "import json\n",
    "import requests\n",
    "import argparse\n",
    "import time\n",
    "import codecs\n",
    "from bs4 import BeautifulSoup\n",
    "from six import u"
   ]
  },
  {
   "cell_type": "markdown",
   "metadata": {},
   "source": [
    "自動點選已滿18歲"
   ]
  },
  {
   "cell_type": "code",
   "execution_count": 2,
   "metadata": {},
   "outputs": [],
   "source": [
    "def fetch(url):\n",
    "    response = requests.get(url)\n",
    "    response = requests.get(url, cookies={'over18': '1'})  # 一直向 server 回答滿 18 歲了 !\n",
    "    return response\n"
   ]
  },
  {
   "cell_type": "markdown",
   "metadata": {},
   "source": [
    "輸出格式調整"
   ]
  },
  {
   "cell_type": "code",
   "execution_count": 44,
   "metadata": {},
   "outputs": [],
   "source": [
    "widths = [\n",
    "        (126,    1), (159,    0), (687,     1), (710,   0), (711,   1),\n",
    "        (727,    0), (733,    1), (879,     0), (1154,  1), (1161,  0),\n",
    "        (4347,   1), (4447,   2), (7467,    1), (7521,  0), (8369,  1),\n",
    "        (8426,   0), (9000,   1), (9002,    2), (11021, 1), (12350, 2),\n",
    "        (12351,  1), (12438,  2), (12442,   0), (19893, 2), (19967, 1),\n",
    "        (55203,  2), (63743,  1), (64106,   2), (65039, 1), (65059, 0),\n",
    "        (65131,  2), (65279,  1), (65376,   2), (65500, 1), (65510, 2),\n",
    "        (120831, 1), (262141, 2), (1114109, 1),\n",
    "]\n",
    "\n",
    "\n",
    "def calc_len(string):\n",
    "    def chr_width(o):\n",
    "        global widths\n",
    "        if o == 0xe or o == 0xf:\n",
    "            return 0\n",
    "        for num, wid in widths:\n",
    "            if o <= num:\n",
    "                return wid\n",
    "        return 1\n",
    "    return sum(chr_width(ord(c)) for c in string)\n",
    "\n",
    "\n",
    "def pretty_print(push, title, date, author):\n",
    "    pattern = '%2s\\t%s%s%s\\t%s'\n",
    "    padding = ' ' * (50 - calc_len(title))\n",
    "    print(pattern % (push, title, padding, date, author))\n",
    "    \n",
    "    \n",
    "def pretty_print2(push, title, date, author, link):\n",
    "    pattern = '%2s\\t%s%s%s\\t%s\\t%s'\n",
    "    padding = ' ' * (50 - calc_len(title))\n",
    "    print(pattern % (push, title, padding, date, author, link))"
   ]
  },
  {
   "cell_type": "code",
   "execution_count": 29,
   "metadata": {},
   "outputs": [],
   "source": [
    "def parse_article_meta(ent):\n",
    "    ''' Step-3 (revised): parse the metadata in article entry '''\n",
    "    # 基本要素都還在\n",
    "    meta = {\n",
    "        'title': ent.find('div.title', first=True).text,\n",
    "        'push': ent.find('div.nrec', first=True).text,\n",
    "        'date': ent.find('div.date', first=True).text\n",
    "    }\n",
    "\n",
    "    try:\n",
    "        # 正常狀況取得資料\n",
    "        meta['author'] = ent.find('div.author', first=True).text\n",
    "        meta['link'] = ent.find('div.title > a', first=True).attrs['href']\n",
    "\n",
    "    except AttributeError:\n",
    "        # 但碰上文章被刪除時，就沒有辦法像原本的方法取得 作者 跟 連結\n",
    "        if '(本文已被刪除)' in meta['title']:\n",
    "            # e.g., \"(本文已被刪除) [haudai]\"\n",
    "            match_author = re.search('\\[(\\w*)\\]', meta['title'])\n",
    "            match_link = re.search('\\[(\\w*)\\]', meta['title']) \n",
    "            if match_author:\n",
    "                meta['author'] = match_author.group(1)\n",
    "            if match_link:\n",
    "                meta['link'] = match_link.group(1)\n",
    "        elif re.search('已被\\w*刪除', meta['title']):\n",
    "            # e.g., \"(已被cappa刪除) <edisonchu> op\"\n",
    "            match_author = re.search('\\<(\\w*)\\>', meta['title'])\n",
    "            if match_author:\n",
    "                meta['author'] = match_author.group(1)\n",
    "        elif re.search('-',meta['author']):\n",
    "            meta['link'] = '-'\n",
    "    return meta\n",
    "\n",
    "    # 最終仍回傳統一的 dict() 形式 paired data\n",
    "    #return meta"
   ]
  },
  {
   "cell_type": "code",
   "execution_count": 45,
   "metadata": {},
   "outputs": [
    {
     "name": "stdout",
     "output_type": "stream",
     "text": [
      " 8\t[新聞] 「終局之戰」、「亂世佳人」、「阿凡達」誰真正票房冠軍？8/06\torz44444\n",
      " 6\tRe: [新聞] 凱文費奇透露《雷神索爾4》為何要拍女雷神8/06\tgodshibainu\n",
      " 7\t[新聞] 《復仇者4》驚見關史黛西！「就在蜘蛛人      8/06\tchufenyang\n",
      " 5\tRe: [新聞] 必備片單！帝國雜誌評選30年來30部經典代 8/06\tPayne22\n",
      " 7\tRe: [新聞] 必備片單！帝國雜誌評選30年來30部經典代 8/06\tTosca\n",
      "22\t[公告] 板規 2019/07/05                            6/04\tckshchen\n",
      "72\t[片單] 有布萊德彼特吃東西的片                     8/05\tisaac42\n",
      " 4\t[公告] lol9978 水桶7天 (板規4)                    8/05\tkai3368\n",
      " 6\t[討論] 好的結局還算是克蘇魯嗎?                    8/05\tdagayealo\n",
      " 2\t[好雷] 我出去透透氣，那些大人無法的事             8/05\tmysmalllamb\n",
      "10\tRe: [新聞] 哪吒橫掃大陸票房                       8/05\tsuzhou\n",
      " 2\tRe: [新聞] 哪吒橫掃大陸票房                       8/05\trfvujm\n",
      "14\t[討論] 玩命關頭:特別行動片尾                      8/05\tarsl400\n",
      " 3\t[問片] 找一部有好萊塢名字的片                     8/05\tc753968412\n",
      "37\t[新聞] 凱文費奇透露《雷神索爾4》為何要拍女雷神    8/05\thahaha0204\n",
      "47\t[新聞] 必備片單！帝國雜誌評選30年來30部經典代     8/05\thahaha0204\n",
      "16\t[討論] 金馬義大利電影課：你最想推的幾部？         8/05\tjoey0602\n",
      "16\t[討論] 傳奇三個飛天怪獸誰強                       8/05\tultmisia\n",
      "  \t(已被kai3368刪除) <Qmmmmmmmm> 無關電影            8/05\tQmmmmmmmm\n",
      "13\t[新聞] 恐怖大師掛保證 「牠 第二章」刺激再加倍     8/05\thvariables\n",
      "17\tRe: [贈票] 銀翼殺手+銀翼殺手2049特映會            8/05\ts5905533\n",
      "11\t[新聞] 《玩命關頭》外傳導演樂意加盟MCU指定要      8/06\tCYKONGG\n",
      " 1\t[普雷]《老大人》無可逃避的生死課題                8/06\tcybeth\n",
      " 5\tRe: [新聞] 必備片單！帝國雜誌評選30年來30部經典代 8/06\tsunev\n",
      " 4\t[好雷] 哪吒之魔童降世                             8/06\teatmouse\n",
      "  \t[無雷] 《哪吒之魔童降世》又一次的哪吒動畫         8/06\tKevinMoleaf\n",
      " 1\t[問片] 時間旅行電影                               8/05\tchanel046\n",
      "13\tFw: [新聞] 硬漢玻璃心-巨石強森台上激戰台下宮鬥    8/05\tkawazakiz2\n",
      "23\t[討論] 迪士尼真人化電影                           8/05\tgt24xy28ab\n",
      "77\t[討論] 加菲版蜘蛛人為何不賣座？                   8/05\tjack5u06d93\n",
      " 7\t[討論] 玩命飛機秘警                               8/05\tzsa123\n",
      "  \t(本文已被刪除) [PeavyOrz]                         8/05\tPeavyOrz\n",
      "23\tRe: [討論] 加菲版蜘蛛人為何不賣座？               8/05\tckshchen\n",
      " 6\t[好雷] 哆啦A夢 大雄的月球探測記                   8/05\tCOCOCCC\n",
      " 7\t[新聞] 40年後哪吒歸來 中國動漫再掀高潮            8/05\thoanbeh\n",
      " 1\t[好雷] 從前有個好萊塢                             8/05\tmigia\n",
      " 爆\t[推投] PTT最愛的蜘蛛人票選(統計至明晚1200)        8/05\ttontontonni\n",
      " 8\t[請益] 從前有個好萊塢-李奧納多一問                8/05\tarchie403\n",
      " 6\tRe: [討論] 加菲版蜘蛛人為何不賣座？               8/05\ttrevor0936\n",
      "42\t[新聞] 黑寡婦「柏拉圖式戀愛」被刪 編劇回應        8/05\tCYKONGG\n",
      " 1\t[好雷] 王的文字                                   8/05\talznn\n",
      "58\t[討論] 變形金剛是如何被玩殘的？                   8/05\thass231470\n",
      "17\t[新聞] 玩命關頭番外篇衝勁十足 北美票房跑第一      8/05\thvariables\n",
      " 9\t[請益] 港片中與地名相連結的台詞                   8/05\tpurue\n",
      " 4\t[好雷]《靈異乍現》做壞事需要好理由嗎？            8/05\tgrafishbanet\n",
      "27\t[好雷] 四海好傢伙是最強的流水帳電影嗎?            8/05\tBF109Pilot\n",
      "38\t[新聞] 玩命關頭：特別行動 全台破億 看點超精彩     8/04\thvariables\n",
      "39\t[新聞] 凱莉麥吉莉絲:《捍衛戰士2》沒有找我回歸     8/04\thahaha0204\n",
      "10\t[新聞] 傑森史塔森：蓋瑞奇很適合執導《特別行動     8/04\thahaha0204\n",
      "  \t(本文已被刪除) [maxinehou]                        8/04\tmaxinehou\n",
      " 2\t[新聞] 雷／巨石強森「玩命」幽默喊話 「我打不過死侍」8/04\torz44444\n",
      "  \t(已被hhwang刪除) <ilovemygf>標題已勸導            8/04\tilovemygf\n",
      "22\t[Live] Fox movies 21：00 老娘也要當間諜           8/04\tCRS339\n",
      " 3\t[問片] 男主角過世但女主角不知情(愛情天文學)       8/04\tjwph\n",
      "15\t[Live] AXN 21:00 絕地戰警2 (Bad Boys II)          8/04\tckny\n",
      "19\t[好雷] 拿光頭換妹妹《玩命關頭特別行動》           8/04\ttj920614\n",
      "  \t(本文已被刪除) [allshine]                         8/04\tallshine\n",
      " 3\tRe: [新聞] 5代蜘蛛人網友最愛誰「第一名超高票      8/04\tNuCat\n",
      " 9\t[好雷]《來了》＂它＂不是剛來，它一直都在          8/04\tallshine\n",
      "56\t[票房] 上週北美、《獅子王》全球11億登年度亞軍     8/04\tCYKONGG\n",
      "18\t[討論] 大家最喜歡哪部電影？                       8/04\tlingino\n",
      "27\t[討論] 現在怎麼不拍教父感的片                     8/04\tAllBlack\n",
      " 4\t[好雷]《痛苦與榮耀》缺乏野心卻能如此動人          8/04\tbenbenson12\n",
      "82\t[新聞] 小勞勃道尼大鬍子照片揭露《福爾摩斯 3》     8/05\tCYKONGG\n",
      " 5\t[好雷] 從前有個好萊塢──昆汀塔倫提諾式童話         8/05\tNashooko\n",
      "X1\t[請益] 雷神索爾3的海拉                            8/05\tlinchear\n",
      "24\t[請益] 老片、冷門片的合法觀賞管道？               8/04\tx111222333\n",
      " 3\t[普雷] 人生消極掰 感覺應該要有更多發揮空間        8/04\tpeterchou\n",
      " 1\t[閒聊] The Room x STAR WARS                       8/04\txxx60709\n",
      "  \t[請益] 電流大戰小問題                             8/04\tMoungka\n",
      "74\t[討論] IMDB前50名，會推薦朋友看哪一部？           8/04\tzakijudelo\n",
      "33\t[討論] 李嘉欣演的岳靈珊                           8/04\ttontontonni\n",
      " 4\t[好雷] KTV有鬼啊                                  8/04\tarrakis\n",
      "  \tRe: [討論] 最豪洨的電影場面                       8/04\tdahlia7357\n",
      " 9\tRe: [討論] 最豪洨的電影場面                       8/04\tlpbrother\n",
      " 6\t(本文已被刪除) [roy53]                            8/04\troy53\n",
      "46\t[討論] 歷代蜘蛛人擺盪畫面                         8/04\tshuffling\n",
      "24\t[討論] 近十年北美前6名各家公司市佔率變化          8/04\tooic\n",
      "59\t[討論] 電影裡的炸彈是不是不會有引爆的一天?        8/04\tonlygoog\n",
      " 4\t[新聞] 哪吒橫掃大陸票房                           8/04\thoanbeh\n",
      " 8\t[負雷] 完全邪惡指南                               8/04\tmoonblacktea\n",
      " 2\t[好雷] 《從前，有個好萊塢》- 可惜終究是個if       8/04\tnuturewind\n",
      "61\t[請益] 一部外星入侵B級片                          8/04\tmi2ery\n",
      " 4\t[討論] 玩具總動員4 測試影迷反應的作品             8/04\tFateArcher\n",
      " 6\t[普雷]《茱麗葉》，悲傷茱麗葉。                    8/04\ta122239\n",
      " 4\t[新聞] 裘莉復出拍新廣告 樂當漫威英雄              8/04\torz44444\n"
     ]
    }
   ],
   "source": [
    "start_url = 'https://www.ptt.cc/bbs/movie/index.html'\n",
    "metadata = get_paged_meta(start_url, num_pages=5)\n",
    "for meta in metadata:\n",
    "    pretty_print(meta['push'], meta['title'], meta['date'], meta['author'])"
   ]
  },
  {
   "cell_type": "code",
   "execution_count": 46,
   "metadata": {},
   "outputs": [],
   "source": [
    "from requests_html import HTML\n",
    "\n",
    "def parse_article_entries(doc):\n",
    "    html = HTML(html=doc)\n",
    "    post_entries = html.find('div.r-ent')\n",
    "    return post_entries"
   ]
  },
  {
   "cell_type": "code",
   "execution_count": 47,
   "metadata": {},
   "outputs": [
    {
     "name": "stdout",
     "output_type": "stream",
     "text": [
      " 4\t[問卦] 阿辰師算是台灣之光嗎                       8/06\theatthree\t/bbs/Gossiping/M.1565063795.A.793.html\n",
      " 2\tRe: [問卦] 一句話證明自己不是1450                 8/06\terichang\t/bbs/Gossiping/M.1565063865.A.474.html\n",
      " 2\tRe: [新聞] 為何台大電機年休學率排前四？ 過來人揭  8/06\tNightStick\t/bbs/Gossiping/M.1565063905.A.96C.html\n",
      "  \tRe: [爆卦] 柯文哲TMD創黨大會現場                  8/06\tARCHER2234\t/bbs/Gossiping/M.1565063918.A.DD4.html\n",
      " 1\tRe: [新聞] 柯文哲問小英：民進黨去年高雄大敗 妳做  8/06\tjimgene\t/bbs/Gossiping/M.1565063964.A.369.html\n",
      "  \tRe: [新聞] 基本工資擬續漲 中小企業總會：真的快活  8/06\tXDDDDDDDDDD\t/bbs/Gossiping/M.1565063977.A.07A.html\n",
      "  \tRe: [問卦] 一句話證明自己不是1450                 8/06\topfish\t/bbs/Gossiping/M.1565064030.A.808.html\n",
      "  \t[問卦] 辦公室電話沒接到怎麼辦?!?!                 8/06\tBenegas\t/bbs/Gossiping/M.1565064055.A.5CE.html\n",
      "  \tFw: [其他] 大陸證監會正在統計台灣籍投資者資料     8/06\tcyora\t/bbs/Gossiping/M.1565064069.A.554.html\n",
      "  \t[公告] 八卦板板規(2019.08.01)                     8/01\tarsonlolita\t/bbs/Gossiping/M.1564659716.A.B48.html\n",
      " 4\t[公告] 版規1-3修正草案                            8/02\tarsonlolita\t/bbs/Gossiping/M.1564675796.A.B40.html\n",
      " 7\t[公告] 八月份置底懶叫閒聊區^Q^                    7/31\tRS5566\t/bbs/Gossiping/M.1564587786.A.D36.html\n"
     ]
    }
   ],
   "source": [
    "url = 'https://www.ptt.cc/bbs/Gossiping/index.html'\n",
    "resp = fetch(url)  # step-1\n",
    "post_entries = parse_article_entries(resp.text)  # step-2\n",
    "\n",
    "for entry in post_entries:\n",
    "    meta = parse_article_meta(entry)\n",
    "    pretty_print2(meta['push'], meta['title'], meta['date'], meta['author'], meta['link'])  \n",
    "\n",
    "    # pretty_print(meta['push'], meta['title'], meta['date'], meta['author'])  # for below results"
   ]
  },
  {
   "cell_type": "code",
   "execution_count": 32,
   "metadata": {},
   "outputs": [],
   "source": [
    "import re\n",
    "import urllib.parse\n",
    "## from utils import pretty_print\n",
    "\n",
    "def get_metadata_from(url):\n",
    "\n",
    "    def parse_next_link(doc):\n",
    "        domain = 'https://www.ptt.cc/' \n",
    "        html = HTML(html=doc)\n",
    "        controls = html.find('.action-bar a.btn.wide')\n",
    "        link = controls[1].attrs.get('href')\n",
    "        return urllib.parse.urljoin(domain, link)\n",
    "\n",
    "    resp = fetch(url)\n",
    "    post_entries = parse_article_entries(resp.text)\n",
    "    next_link = parse_next_link(resp.text)\n",
    "\n",
    "    metadata = [parse_article_meta(entry) for entry in post_entries]\n",
    "    return metadata, next_link\n",
    "\n",
    "def get_paged_meta(url, num_pages):\n",
    "    collected_meta = []\n",
    "    domain = 'https://www.ptt.cc/'\n",
    "    \n",
    "    for _ in range(num_pages):\n",
    "        posts, link = get_metadata_from(url)\n",
    "        collected_meta += posts\n",
    "\n",
    "        url = urllib.parse.urljoin(domain, link)\n",
    "    return collected_meta\n",
    "\n",
    "#metadata = get_paged_meta(start_url, num_pages=10)\n",
    "#for meta in metadata:\n",
    "    #pretty_print(meta['push'], meta['title'], meta['date'], meta['author'],meta['link'])"
   ]
  },
  {
   "cell_type": "code",
   "execution_count": 48,
   "metadata": {},
   "outputs": [],
   "source": [
    "def get_posts(metadata):\n",
    "    # 將所有文章連結收集並串接成完整 URL\n",
    "    post_links = [\n",
    "        urllib.parse.urljoin(domain, meta['link'])\n",
    "        for meta in metadata if 'link' in meta\n",
    "    ]\n",
    "    with Pool(processes=8) as pool:\n",
    "        contents = pool.map(fetch, post_links)\n",
    "        return contents\n",
    "    "
   ]
  },
  {
   "cell_type": "code",
   "execution_count": 62,
   "metadata": {},
   "outputs": [
    {
     "name": "stdout",
     "output_type": "stream",
     "text": [
      "[<Response [200]>, <Response [200]>, <Response [200]>, <Response [200]>, <Response [200]>, <Response [200]>, <Response [200]>, <Response [200]>, <Response [200]>, <Response [200]>, <Response [200]>, <Response [200]>, <Response [200]>, <Response [200]>, <Response [200]>, <Response [200]>, <Response [200]>, <Response [200]>, <Response [200]>, <Response [200]>, <Response [200]>, <Response [200]>, <Response [200]>, <Response [200]>, <Response [200]>, <Response [200]>, <Response [200]>, <Response [200]>, <Response [200]>, <Response [200]>, <Response [200]>, <Response [200]>, <Response [404]>, <Response [200]>, <Response [200]>, <Response [200]>, <Response [200]>, <Response [200]>, <Response [200]>, <Response [200]>, <Response [200]>, <Response [200]>, <Response [200]>, <Response [200]>, <Response [200]>, <Response [200]>, <Response [200]>, <Response [200]>, <Response [200]>, <Response [200]>, <Response [404]>, <Response [200]>, <Response [200]>, <Response [200]>, <Response [200]>, <Response [200]>, <Response [404]>, <Response [200]>, <Response [200]>, <Response [200]>, <Response [200]>, <Response [200]>, <Response [200]>, <Response [200]>, <Response [200]>, <Response [200]>, <Response [200]>, <Response [200]>, <Response [200]>, <Response [200]>, <Response [200]>, <Response [200]>, <Response [200]>, <Response [200]>, <Response [200]>, <Response [404]>, <Response [200]>, <Response [200]>, <Response [200]>, <Response [200]>, <Response [200]>, <Response [200]>, <Response [200]>, <Response [200]>, <Response [200]>, <Response [200]>]\n",
      "花費: 8.992480 秒\n",
      "共86項結果：\n",
      "8/06 orz44444        [新聞] 「終局之戰」、「亂世佳人」、「阿凡達」誰真正票房冠軍？, 網頁內容共 11099 字\n",
      "8/06 godshibainu     Re: [新聞] 凱文費奇透露《雷神索爾4》為何要拍女雷神, 網頁內容共 7911 字\n",
      "8/06 chufenyang      [新聞] 《復仇者4》驚見關史黛西！「就在蜘蛛人, 網頁內容共 14842 字\n",
      "8/06 Payne22         Re: [新聞] 必備片單！帝國雜誌評選30年來30部經典代, 網頁內容共 8186 字\n",
      "8/06 Tosca           Re: [新聞] 必備片單！帝國雜誌評選30年來30部經典代, 網頁內容共 8823 字\n",
      "8/06 qpr322          [新聞] 王千源、吳彥祖《限期破案》首曝預告, 網頁內容共 5310 字\n",
      "8/06 KKKKKvs333      [問片] 一部歐美片, 網頁內容共 5448 字\n",
      "6/04 ckshchen        [公告] 板規 2019/07/05, 網頁內容共 79012 字\n",
      "8/05 isaac42         [片單] 有布萊德彼特吃東西的片, 網頁內容共 27570 字\n",
      "8/05 kai3368         [公告] lol9978 水桶7天 (板規4), 網頁內容共 7585 字\n",
      "8/05 dagayealo       [討論] 好的結局還算是克蘇魯嗎?, 網頁內容共 8051 字\n",
      "8/05 mysmalllamb     [好雷] 我出去透透氣，那些大人無法的事, 網頁內容共 14282 字\n",
      "8/05 suzhou          Re: [新聞] 哪吒橫掃大陸票房, 網頁內容共 19377 字\n",
      "8/05 rfvujm          Re: [新聞] 哪吒橫掃大陸票房, 網頁內容共 6229 字\n",
      "8/05 arsl400         [討論] 玩命關頭:特別行動片尾, 網頁內容共 9268 字\n",
      "8/05 c753968412      [問片] 找一部有好萊塢名字的片, 網頁內容共 5759 字\n",
      "8/05 hahaha0204      [新聞] 凱文費奇透露《雷神索爾4》為何要拍女雷神, 網頁內容共 30387 字\n",
      "8/05 hahaha0204      [新聞] 必備片單！帝國雜誌評選30年來30部經典代, 網頁內容共 32913 字\n",
      "8/05 joey0602        [討論] 金馬義大利電影課：你最想推的幾部？, 網頁內容共 10968 字\n",
      "8/05 ultmisia        [討論] 傳奇三個飛天怪獸誰強, 網頁內容共 10093 字\n",
      "8/05 Qmmmmmmmm       (已被kai3368刪除) <Qmmmmmmmm> 無關電影, 網頁內容共 11149 字\n",
      "8/05 hvariables      [新聞] 恐怖大師掛保證 「牠 第二章」刺激再加倍, 網頁內容共 10937 字\n",
      "8/05 s5905533        Re: [贈票] 銀翼殺手+銀翼殺手2049特映會, 網頁內容共 10375 字\n",
      "8/06 CYKONGG         [新聞] 《玩命關頭》外傳導演樂意加盟MCU指定要, 網頁內容共 7020 字\n",
      "8/06 cybeth          [普雷]《老大人》無可逃避的生死課題, 網頁內容共 11437 字\n",
      "8/06 sunev           Re: [新聞] 必備片單！帝國雜誌評選30年來30部經典代, 網頁內容共 7711 字\n",
      "8/06 eatmouse        [好雷] 哪吒之魔童降世, 網頁內容共 8731 字\n",
      "8/06 KevinMoleaf     [無雷] 《哪吒之魔童降世》又一次的哪吒動畫, 網頁內容共 4683 字\n",
      "8/05 chanel046       [問片] 時間旅行電影, 網頁內容共 11167 字\n",
      "8/05 kawazakiz2      Fw: [新聞] 硬漢玻璃心-巨石強森台上激戰台下宮鬥, 網頁內容共 12729 字\n",
      "8/05 gt24xy28ab      [討論] 迪士尼真人化電影, 網頁內容共 50378 字\n",
      "8/05 jack5u06d93     [討論] 加菲版蜘蛛人為何不賣座？, 網頁內容共 13557 字\n",
      "8/05 zsa123          [討論] 玩命飛機秘警, 網頁內容共 162 字\n",
      "8/05 PeavyOrz        (本文已被刪除) [PeavyOrz], 網頁內容共 26487 字\n",
      "8/05 ckshchen        Re: [討論] 加菲版蜘蛛人為何不賣座？, 網頁內容共 6696 字\n",
      "8/05 COCOCCC         [好雷] 哆啦A夢 大雄的月球探測記, 網頁內容共 11746 字\n",
      "8/05 hoanbeh         [新聞] 40年後哪吒歸來 中國動漫再掀高潮, 網頁內容共 6367 字\n",
      "8/05 migia           [好雷] 從前有個好萊塢, 網頁內容共 305220 字\n",
      "8/05 tontontonni     [推投] PTT最愛的蜘蛛人票選(統計至明晚1200), 網頁內容共 6919 字\n",
      "8/05 archie403       [請益] 從前有個好萊塢-李奧納多一問, 網頁內容共 11952 字\n",
      "8/05 trevor0936      Re: [討論] 加菲版蜘蛛人為何不賣座？, 網頁內容共 44068 字\n",
      "8/05 CYKONGG         [新聞] 黑寡婦「柏拉圖式戀愛」被刪 編劇回應, 網頁內容共 6300 字\n",
      "8/05 alznn           [好雷] 王的文字, 網頁內容共 31626 字\n",
      "8/05 hass231470      [討論] 變形金剛是如何被玩殘的？, 網頁內容共 14262 字\n",
      "8/05 hvariables      [新聞] 玩命關頭番外篇衝勁十足 北美票房跑第一, 網頁內容共 7073 字\n",
      "8/05 purue           [請益] 港片中與地名相連結的台詞, 網頁內容共 9190 字\n",
      "8/05 grafishbanet    [好雷]《靈異乍現》做壞事需要好理由嗎？, 網頁內容共 13169 字\n",
      "8/05 BF109Pilot      [好雷] 四海好傢伙是最強的流水帳電影嗎?, 網頁內容共 17611 字\n",
      "8/04 hvariables      [新聞] 玩命關頭：特別行動 全台破億 看點超精彩, 網頁內容共 23272 字\n",
      "8/04 hahaha0204      [新聞] 凱莉麥吉莉絲:《捍衛戰士2》沒有找我回歸, 網頁內容共 7688 字\n",
      "8/04 hahaha0204      [新聞] 傑森史塔森：蓋瑞奇很適合執導《特別行動, 網頁內容共 162 字\n",
      "8/04 maxinehou       (本文已被刪除) [maxinehou], 網頁內容共 6518 字\n",
      "8/04 orz44444        [新聞] 雷／巨石強森「玩命」幽默喊話 「我打不過死侍」, 網頁內容共 10444 字\n",
      "8/04 ilovemygf       (已被hhwang刪除) <ilovemygf>標題已勸導, 網頁內容共 5537 字\n",
      "8/04 CRS339          [Live] Fox movies 21：00 老娘也要當間諜, 網頁內容共 10708 字\n",
      "8/04 jwph            [問片] 男主角過世但女主角不知情(愛情天文學), 網頁內容共 14912 字\n",
      "8/04 ckny            [Live] AXN 21:00 絕地戰警2 (Bad Boys II), 網頁內容共 162 字\n",
      "8/04 tj920614        [好雷] 拿光頭換妹妹《玩命關頭特別行動》, 網頁內容共 10528 字\n",
      "8/04 allshine        (本文已被刪除) [allshine], 網頁內容共 10929 字\n",
      "8/04 NuCat           Re: [新聞] 5代蜘蛛人網友最愛誰「第一名超高票, 網頁內容共 37256 字\n",
      "8/04 allshine        [好雷]《來了》＂它＂不是剛來，它一直都在, 網頁內容共 16723 字\n",
      "8/04 CYKONGG         [票房] 上週北美、《獅子王》全球11億登年度亞軍, 網頁內容共 22833 字\n",
      "8/04 lingino         [討論] 大家最喜歡哪部電影？, 網頁內容共 7953 字\n",
      "8/04 AllBlack        [討論] 現在怎麼不拍教父感的片, 網頁內容共 32867 字\n",
      "8/04 benbenson12     [好雷]《痛苦與榮耀》缺乏野心卻能如此動人, 網頁內容共 11337 字\n",
      "8/05 CYKONGG         [新聞] 小勞勃道尼大鬍子照片揭露《福爾摩斯 3》, 網頁內容共 15392 字\n",
      "8/05 Nashooko        [好雷] 從前有個好萊塢──昆汀塔倫提諾式童話, 網頁內容共 15096 字\n",
      "8/05 linchear        [請益] 雷神索爾3的海拉, 網頁內容共 5998 字\n",
      "8/04 x111222333      [請益] 老片、冷門片的合法觀賞管道？, 網頁內容共 6297 字\n",
      "8/04 peterchou       [普雷] 人生消極掰 感覺應該要有更多發揮空間, 網頁內容共 4442 字\n",
      "8/04 xxx60709        [閒聊] The Room x STAR WARS, 網頁內容共 29855 字\n",
      "8/04 Moungka         [請益] 電流大戰小問題, 網頁內容共 19430 字\n",
      "8/04 zakijudelo      [討論] IMDB前50名，會推薦朋友看哪一部？, 網頁內容共 6615 字\n",
      "8/04 tontontonni     [討論] 李嘉欣演的岳靈珊, 網頁內容共 7166 字\n",
      "8/04 arrakis         [好雷] KTV有鬼啊, 網頁內容共 6866 字\n",
      "8/04 dahlia7357      Re: [討論] 最豪洨的電影場面, 網頁內容共 162 字\n",
      "8/04 lpbrother       Re: [討論] 最豪洨的電影場面, 網頁內容共 22278 字\n",
      "8/04 roy53           (本文已被刪除) [roy53], 網頁內容共 14482 字\n",
      "8/04 shuffling       [討論] 歷代蜘蛛人擺盪畫面, 網頁內容共 29102 字\n",
      "8/04 ooic            [討論] 近十年北美前6名各家公司市佔率變化, 網頁內容共 14378 字\n",
      "8/04 onlygoog        [討論] 電影裡的炸彈是不是不會有引爆的一天?, 網頁內容共 8458 字\n",
      "8/04 hoanbeh         [新聞] 哪吒橫掃大陸票房, 網頁內容共 12560 字\n",
      "8/04 moonblacktea    [負雷] 完全邪惡指南, 網頁內容共 22228 字\n",
      "8/04 nuturewind      [好雷] 《從前，有個好萊塢》- 可惜終究是個if, 網頁內容共 7734 字\n",
      "8/04 mi2ery          [請益] 一部外星入侵B級片, 網頁內容共 8086 字\n",
      "8/04 FateArcher      [討論] 玩具總動員4 測試影迷反應的作品, 網頁內容共 7195 字\n"
     ]
    }
   ],
   "source": [
    "if __name__ == '__main__':\n",
    "    pages = 5\n",
    "\n",
    "    start = time.time()\n",
    "\n",
    "    metadata = get_paged_meta(start_url, num_pages=pages)\n",
    "    resps = get_posts(metadata)\n",
    "\n",
    "    print('花費: %f 秒' % (time.time() - start))\n",
    "\n",
    "    print('共%d項結果：' % len(resps))\n",
    "    for post, resps in zip(metadata, resps):\n",
    "        print('{0} {1: <15} {2}, 網頁內容共 {3} 字'.format(\n",
    "            post['date'], post['author'], post['title'], len(resps.text)))"
   ]
  },
  {
   "cell_type": "code",
   "execution_count": 49,
   "metadata": {},
   "outputs": [],
   "source": [
    "import time\n",
    "from multiprocessing import Pool\n",
    "\n",
    "domain = 'https://www.ptt.cc/'"
   ]
  },
  {
   "cell_type": "code",
   "execution_count": 124,
   "metadata": {},
   "outputs": [],
   "source": [
    "def parse_article_content(doc,href):\n",
    "    if '.html' in (href):\n",
    "        html = HTML(html=doc)\n",
    "        post_content = html.find('#main-content', first=True).text\n",
    "        soup = BeautifulSoup(doc, 'html.parser')\n",
    "        main_content = soup.find(id=\"main-content\")\n",
    "        metas = main_content.select('div.article-metaline')\n",
    "        if metas:\n",
    "            author = metas[0].select('span.article-meta-value')[0].string if metas[0].select('span.article-meta-value')[0] else author\n",
    "            title = metas[1].select('span.article-meta-value')[0].string if metas[1].select('span.article-meta-value')[0] else title\n",
    "            date = metas[2].select('span.article-meta-value')[0].string if metas[2].select('span.article-meta-value')[0] else date\n",
    "            # remove meta nodes\n",
    "            for meta in metas:\n",
    "                meta.extract()\n",
    "            for meta in main_content.select('div.article-metaline-right'):\n",
    "                meta.extract()\n",
    "        PTT_URL = 'https://www.ptt.cc'\n",
    "        # ex. link would be <a href=\"/bbs/PublicServan/M.1127742013.A.240.html\">Re: [問題] 職等</a>\n",
    "        link = PTT_URL + href\n",
    "        article_id = re.sub('\\.html', '', href.split('/')[-1])        \n",
    "        pushes = main_content.find_all('div', class_='push')\n",
    "        for push in pushes:\n",
    "            push.extract() ## 移除指定該變數\n",
    "        filtered = [ v for v in main_content.stripped_strings if v[0] not in [u'※', u'◆'] and v[:2] not in [u'--'] ]\n",
    "        expr = re.compile(u(r'[^\\u4e00-\\u9fa5\\u3002\\uff1b\\uff0c\\uff1a\\u201c\\u201d\\uff08\\uff09\\u3001\\uff1f\\u300a\\u300b\\s\\w:/-_.?~%()]'))\n",
    "        for i in range(len(filtered)):\n",
    "            filtered[i] = re.sub(expr, '', filtered[i])\n",
    "\n",
    "        filtered = [_f for _f in filtered if _f]  # remove empty strings\n",
    "        filtered = [x for x in filtered if article_id not in x]  # remove last line containing the url of the article\n",
    "        content = ' '.join(filtered)\n",
    "        content = re.sub(r'(\\s)+', ' ', content)\n",
    "        meta = {\n",
    "            'content':content,\n",
    "            'article_id':article_id,\n",
    "            'author': author,\n",
    "            'title' : title,\n",
    "            'date' : date\n",
    "        }\n",
    "        return meta\n",
    "    else:\n",
    "        meta = {\n",
    "            'content':'被刪除',\n",
    "            'article_id': '無',\n",
    "            'link':'無'\n",
    "        }\n",
    "        return meta\n",
    "    "
   ]
  },
  {
   "cell_type": "code",
   "execution_count": 125,
   "metadata": {},
   "outputs": [
    {
     "name": "stdout",
     "output_type": "stream",
     "text": [
      "花費: 4.387905 秒\n",
      "共35項結果：\n"
     ]
    }
   ],
   "source": [
    "if __name__ == '__main__':\n",
    "    pages = 2\n",
    "    start_url = 'https://www.ptt.cc/bbs/movie/index.html'\n",
    "    start = time.time()\n",
    "\n",
    "    metadata = get_paged_meta(start_url, num_pages=pages)\n",
    "    resps = get_posts(metadata)\n",
    "\n",
    "    #contents = [parse_article_content(content.text, metadata['link']) for content, metadata in zip(resps, metadata)]\n",
    "    contents = []\n",
    "    for content, metadata in zip(resps, metadata):\n",
    "        try:\n",
    "            contents.append(parse_article_content(content.text, metadata['link']))\n",
    "        except KeyError:\n",
    "            contents.append([content.text,'test'])\n",
    "    \n",
    "    \n",
    "    print('花費: %f 秒' % (time.time() - start))\n",
    "\n",
    "    print('共%d項結果：' % len(resps))\n",
    "    ##for post, resps, text in zip(metadata, resps,contents):\n",
    "    ##    print('{0} {1: <15} {2}, 網頁內容共 {3} 字, {4}'.format(\n",
    "    ##        post['date'], post['author'], post['title'], len(resps.text), text['content']))"
   ]
  },
  {
   "cell_type": "code",
   "execution_count": 126,
   "metadata": {},
   "outputs": [
    {
     "data": {
      "text/plain": [
       "{'content': '漫威《永恆族》有華星傳她和裘莉宇宙對尬 https://i.imgur.com/pHmFN69.jpg 繼梁朝偉將演出漫威電影《上氣》的滿大人之後，又一位華裔明星可望加入漫 威宇宙系列，美國綜藝報（Variety）快報：華裔女星陳靜將演出《永恆族》，和 裘莉大飆戲。 據報導，陳靜曾在漫威《驚奇隊長》中飾女反派密涅瓦，不過她在《永恆族》的 角色卻可能是另一位，如果成真，她將成為漫威電影第1位在不同電影演不同角色的 演員。但至截稿前尚未獲得漫威證實。 英文名Gemma Chan的陳靜，父親是香港人，母親是移民蘇格蘭的中國人，百分百華裔血統 的陳靜生於英國，畢業於牛津大學伍斯特學院法律系，後來更獲得某大律師事務所聘用， 但熱愛演戲勝過當律師的陳靜，仍義無反顧踏入演藝圈。 今年36歲的陳靜2006年出道，努力多年，2018年才在美國大賣的《瘋狂亞洲富豪》中飾演 老公出軌的闊太，受到好萊塢矚目；在《驚奇隊長》的戲分不多但很搶眼；如果確定能演 《永恆族》和裘莉同台飆戲，肯定是這部明年11月6日在美公映超級大片的一大亮點。 https://reurl.cc/pO4yl 蠻喜歡密涅瓦這個角色，漫畫裡也曾是驚奇隊長宿敵之一，本來期望她沒有死透，繼續擔 綱演出反派，但要在《永恆族》演出同一個角色可能性好像較小。 ',\n",
       " 'article_id': 'M.1565066458.A.A62',\n",
       " 'author': 'CYKONGG (CYKONGG)',\n",
       " 'title': '[新聞] 《永恆族》有華星！傳她再加入漫威宇宙',\n",
       " 'date': 'Tue Aug  6 12:40:51 2019'}"
      ]
     },
     "execution_count": 126,
     "metadata": {},
     "output_type": "execute_result"
    }
   ],
   "source": [
    "contents[9]"
   ]
  },
  {
   "cell_type": "code",
   "execution_count": 127,
   "metadata": {},
   "outputs": [
    {
     "data": {
      "text/plain": [
       "{'content': '年度片單有黑豹很正常吧 你看那一年聲量最大 又得獎的片有誰 非黑豹莫屬阿 其他根本沒什麼印象 覺得不適合的的只是不喜歡黑豹而已吧 不然鄉民舉幾個聲量比它大 討論度比它多的 另外 沒有Save private ryan 跟the forrest gump 我比較意外 ',\n",
       " 'article_id': 'M.1565031671.A.280',\n",
       " 'author': 'Payne22 (培恩22)',\n",
       " 'title': 'Re: [新聞] 必備片單！帝國雜誌評選30年來30部經典代',\n",
       " 'date': 'Tue Aug  6 03:01:08 2019'}"
      ]
     },
     "execution_count": 127,
     "metadata": {},
     "output_type": "execute_result"
    }
   ],
   "source": [
    "contents[3]"
   ]
  },
  {
   "cell_type": "code",
   "execution_count": 130,
   "metadata": {},
   "outputs": [],
   "source": [
    "z= zip(metadata , contents)"
   ]
  },
  {
   "cell_type": "code",
   "execution_count": 136,
   "metadata": {},
   "outputs": [
    {
     "data": {
      "text/plain": [
       "'M.1565026014.A.B3C'"
      ]
     },
     "execution_count": 136,
     "metadata": {},
     "output_type": "execute_result"
    }
   ],
   "source": [
    "contents[0]['article_id']"
   ]
  },
  {
   "cell_type": "code",
   "execution_count": 134,
   "metadata": {},
   "outputs": [
    {
     "ename": "TypeError",
     "evalue": "list indices must be integers or slices, not str",
     "output_type": "error",
     "traceback": [
      "\u001b[0;31m---------------------------------------------------------------------------\u001b[0m",
      "\u001b[0;31mTypeError\u001b[0m                                 Traceback (most recent call last)",
      "\u001b[0;32m<ipython-input-134-add488ab5b1e>\u001b[0m in \u001b[0;36m<module>\u001b[0;34m()\u001b[0m\n\u001b[0;32m----> 1\u001b[0;31m \u001b[0mfilename\u001b[0m \u001b[0;34m=\u001b[0m \u001b[0;34m'./crawl_file/'\u001b[0m\u001b[0;34m+\u001b[0m \u001b[0mcontents\u001b[0m\u001b[0;34m[\u001b[0m\u001b[0;34m'article_id'\u001b[0m\u001b[0;34m]\u001b[0m\u001b[0;34m+\u001b[0m\u001b[0;34m'.json'\u001b[0m\u001b[0;34m\u001b[0m\u001b[0m\n\u001b[0m\u001b[1;32m      2\u001b[0m \u001b[0;32mwith\u001b[0m \u001b[0mopen\u001b[0m\u001b[0;34m(\u001b[0m\u001b[0mfilename\u001b[0m\u001b[0;34m,\u001b[0m \u001b[0;34m'w'\u001b[0m\u001b[0;34m)\u001b[0m \u001b[0;32mas\u001b[0m \u001b[0moutfile\u001b[0m\u001b[0;34m:\u001b[0m\u001b[0;34m\u001b[0m\u001b[0m\n\u001b[1;32m      3\u001b[0m     \u001b[0mjson\u001b[0m\u001b[0;34m.\u001b[0m\u001b[0mdump\u001b[0m\u001b[0;34m(\u001b[0m\u001b[0mtest\u001b[0m\u001b[0;34m,\u001b[0m \u001b[0moutfile\u001b[0m\u001b[0;34m,\u001b[0m \u001b[0mensure_ascii\u001b[0m\u001b[0;34m=\u001b[0m\u001b[0;32mFalse\u001b[0m\u001b[0;34m)\u001b[0m\u001b[0;34m\u001b[0m\u001b[0m\n",
      "\u001b[0;31mTypeError\u001b[0m: list indices must be integers or slices, not str"
     ]
    }
   ],
   "source": [
    "filename = './crawl_file/'+ contents['article_id']+'.json'\n",
    "with open(filename, 'w') as outfile:\n",
    "    json.dump(test, outfile, ensure_ascii=False)"
   ]
  },
  {
   "cell_type": "markdown",
   "metadata": {},
   "source": [
    "### 匯入MongoDB"
   ]
  },
  {
   "cell_type": "code",
   "execution_count": 1,
   "metadata": {},
   "outputs": [],
   "source": [
    "import pymongo\n",
    "from pymongo import MongoClient\n"
   ]
  },
  {
   "cell_type": "code",
   "execution_count": 6,
   "metadata": {},
   "outputs": [],
   "source": [
    "client = pymongo.MongoClient(host='localhost', port=27017)"
   ]
  },
  {
   "cell_type": "code",
   "execution_count": 7,
   "metadata": {},
   "outputs": [],
   "source": [
    "db = client.ptt"
   ]
  },
  {
   "cell_type": "markdown",
   "metadata": {},
   "source": [
    "### show database"
   ]
  },
  {
   "cell_type": "code",
   "execution_count": 8,
   "metadata": {},
   "outputs": [
    {
     "name": "stderr",
     "output_type": "stream",
     "text": [
      "/Users/aaron/Documents/anaconda3/envs/crawler/lib/python3.6/site-packages/ipykernel_launcher.py:4: DeprecationWarning: database_names is deprecated. Use list_database_names instead.\n",
      "  after removing the cwd from sys.path.\n",
      "/Users/aaron/Documents/anaconda3/envs/crawler/lib/python3.6/site-packages/ipykernel_launcher.py:4: DeprecationWarning: collection_names is deprecated. Use list_collection_names instead.\n",
      "  after removing the cwd from sys.path.\n"
     ]
    },
    {
     "ename": "NameError",
     "evalue": "name 'json' is not defined",
     "output_type": "error",
     "traceback": [
      "\u001b[0;31m---------------------------------------------------------------------------\u001b[0m",
      "\u001b[0;31mNameError\u001b[0m                                 Traceback (most recent call last)",
      "\u001b[0;32m<ipython-input-8-e9b21fd9d35f>\u001b[0m in \u001b[0;36m<module>\u001b[0;34m()\u001b[0m\n\u001b[1;32m      3\u001b[0m     d = dict((db, [collection for collection in client[db].collection_names()])\n\u001b[1;32m      4\u001b[0m              for db in client.database_names())\n\u001b[0;32m----> 5\u001b[0;31m     \u001b[0mprint\u001b[0m\u001b[0;34m(\u001b[0m\u001b[0mjson\u001b[0m\u001b[0;34m.\u001b[0m\u001b[0mdumps\u001b[0m\u001b[0;34m(\u001b[0m\u001b[0md\u001b[0m\u001b[0;34m)\u001b[0m\u001b[0;34m)\u001b[0m\u001b[0;34m\u001b[0m\u001b[0;34m\u001b[0m\u001b[0m\n\u001b[0m",
      "\u001b[0;31mNameError\u001b[0m: name 'json' is not defined"
     ]
    }
   ],
   "source": [
    "if __name__ == '__main__':\n",
    "    client = pymongo.MongoClient(\"localhost\", 27017, maxPoolSize=50)\n",
    "    d = dict((db, [collection for collection in client[db].collection_names()])\n",
    "             for db in client.database_names())\n",
    "    print(json.dumps(d))"
   ]
  },
  {
   "cell_type": "markdown",
   "metadata": {},
   "source": [
    "### show db lists of mongodb"
   ]
  },
  {
   "cell_type": "code",
   "execution_count": 9,
   "metadata": {},
   "outputs": [
    {
     "name": "stderr",
     "output_type": "stream",
     "text": [
      "/Users/aaron/Documents/anaconda3/envs/crawler/lib/python3.6/site-packages/ipykernel_launcher.py:1: DeprecationWarning: database_names is deprecated. Use list_database_names instead.\n",
      "  \"\"\"Entry point for launching an IPython kernel.\n"
     ]
    },
    {
     "data": {
      "text/plain": [
       "['admin', 'config', 'local', 'ptt', 'test']"
      ]
     },
     "execution_count": 9,
     "metadata": {},
     "output_type": "execute_result"
    }
   ],
   "source": [
    "MongoClient().database_names()"
   ]
  },
  {
   "cell_type": "code",
   "execution_count": 2,
   "metadata": {},
   "outputs": [
    {
     "data": {
      "text/plain": [
       "'3.8.0'"
      ]
     },
     "execution_count": 2,
     "metadata": {},
     "output_type": "execute_result"
    }
   ],
   "source": [
    "pymongo.version"
   ]
  },
  {
   "cell_type": "code",
   "execution_count": 13,
   "metadata": {},
   "outputs": [
    {
     "data": {
      "text/plain": [
       "['article']"
      ]
     },
     "execution_count": 13,
     "metadata": {},
     "output_type": "execute_result"
    }
   ],
   "source": [
    "db.list_collection_names()"
   ]
  },
  {
   "cell_type": "code",
   "execution_count": 12,
   "metadata": {},
   "outputs": [],
   "source": [
    "#db.article.drop()\n",
    "collection = db['article']"
   ]
  },
  {
   "cell_type": "code",
   "execution_count": 11,
   "metadata": {},
   "outputs": [
    {
     "ename": "NameError",
     "evalue": "name 'collection' is not defined",
     "output_type": "error",
     "traceback": [
      "\u001b[0;31m---------------------------------------------------------------------------\u001b[0m",
      "\u001b[0;31mNameError\u001b[0m                                 Traceback (most recent call last)",
      "\u001b[0;32m<ipython-input-11-307a63ba7e2f>\u001b[0m in \u001b[0;36m<module>\u001b[0;34m()\u001b[0m\n\u001b[0;32m----> 1\u001b[0;31m \u001b[0mresult\u001b[0m \u001b[0;34m=\u001b[0m \u001b[0mcollection\u001b[0m\u001b[0;34m.\u001b[0m\u001b[0mfind\u001b[0m\u001b[0;34m(\u001b[0m\u001b[0;34m{\u001b[0m\u001b[0;34m}\u001b[0m\u001b[0;34m,\u001b[0m \u001b[0;34m{\u001b[0m\u001b[0;34m'title'\u001b[0m\u001b[0;34m:\u001b[0m\u001b[0;36m1\u001b[0m\u001b[0;34m}\u001b[0m\u001b[0;34m)\u001b[0m\u001b[0;34m\u001b[0m\u001b[0;34m\u001b[0m\u001b[0m\n\u001b[0m\u001b[1;32m      2\u001b[0m \u001b[0mprint\u001b[0m\u001b[0;34m(\u001b[0m\u001b[0mtype\u001b[0m\u001b[0;34m(\u001b[0m\u001b[0mresult\u001b[0m\u001b[0;34m)\u001b[0m\u001b[0;34m)\u001b[0m\u001b[0;34m\u001b[0m\u001b[0;34m\u001b[0m\u001b[0m\n\u001b[1;32m      3\u001b[0m \u001b[0mprint\u001b[0m\u001b[0;34m(\u001b[0m\u001b[0mresult\u001b[0m\u001b[0;34m[\u001b[0m\u001b[0;36m0\u001b[0m\u001b[0;34m]\u001b[0m\u001b[0;34m)\u001b[0m\u001b[0;34m\u001b[0m\u001b[0;34m\u001b[0m\u001b[0m\n",
      "\u001b[0;31mNameError\u001b[0m: name 'collection' is not defined"
     ]
    }
   ],
   "source": [
    "result = collection.find({}, {'title':1})\n",
    "print(type(result))\n",
    "print(result[0])"
   ]
  },
  {
   "cell_type": "code",
   "execution_count": 23,
   "metadata": {},
   "outputs": [
    {
     "name": "stderr",
     "output_type": "stream",
     "text": [
      "/Users/aaron/Documents/anaconda3/envs/crawler/lib/python3.6/site-packages/ipykernel_launcher.py:3: DeprecationWarning: insert is deprecated. Use insert_one or insert_many instead.\n",
      "  This is separate from the ipykernel package so we can avoid doing imports until\n"
     ]
    }
   ],
   "source": [
    "for x, y in zip(metadata, contents):\n",
    "    z = {**x, **y} \n",
    "    result = collection.insert([z])    \n",
    "    #filename = './crawl_file/'+ z['article_id']+'.json'\n",
    "    #with open(filename, 'w') as outfile:\n",
    "        #json.dump(z, outfile, ensure_ascii=False)"
   ]
  },
  {
   "cell_type": "code",
   "execution_count": 24,
   "metadata": {},
   "outputs": [
    {
     "name": "stdout",
     "output_type": "stream",
     "text": [
      "<class 'pymongo.cursor.Cursor'>\n"
     ]
    }
   ],
   "source": [
    "result = collection.find({}, {'title':1, '_id':0})\n",
    "print(type(result))\n"
   ]
  },
  {
   "cell_type": "code",
   "execution_count": 25,
   "metadata": {},
   "outputs": [
    {
     "name": "stdout",
     "output_type": "stream",
     "text": [
      "{'title': 'Re: [討論] 劉德華主演警匪片經典《五億探長雷洛傳》上映27週年'}\n",
      "{'title': '[討論] 布麗拉森哪一部影片的扮裝最讓你驚豔'}\n",
      "{'title': '[好雷] 我很好，讓死亡證明自己活著'}\n",
      "{'title': '[討論] 威秀寶寶是不是接到置入了?'}\n",
      "{'title': '(本文已被刪除) [tontontonni]'}\n",
      "{'title': 'Re: [討論] 劉德華主演警匪片經典《五億探長雷洛傳》上映27週年'}\n",
      "{'title': '[好雷] 《我很好》 無彩青春的輓歌'}\n",
      "{'title': '[版規] 電影版版規 201808'}\n",
      "{'title': '[公告] 電影版板規修訂說明'}\n",
      "{'title': '[公告] 板規修訂 板規參議規範'}\n",
      "{'title': '[超級好雷] 藍色項圈'}\n",
      "{'title': '[好雷] 《裸愛殺機》'}\n",
      "{'title': '[ 普雷] 鬼修女'}\n",
      "{'title': '[新聞] 賈樟柯《在清朝》2019年開機'}\n",
      "{'title': '[討論] 與神同行快下檔了'}\n",
      "{'title': '[討論] 老人家看終極戰士(無雷)'}\n",
      "{'title': '[新聞] 粽邪 票房近5000萬 海外版權9國爭搶'}\n",
      "{'title': '[片單] 校園青少女魯蛇'}\n",
      "{'title': '[討論] 投名狀和讓子彈飛哪一部更為經典？'}\n",
      "{'title': '[請益] 已看舊版惡魔島值得花錢再最新版嗎??'}\n",
      "{'title': '[新聞] 黑木瞳昔日母女變情敵 《退》戰小三廣末'}\n",
      "{'title': '[問片] 一部有關批踢踢的微電影 (有雷 (已解'}\n",
      "{'title': '[問片] 請問跟「攝影」相關的電影'}\n",
      "{'title': '[新聞] 狂穿褲裝被取笑 布蕾克萊佛莉「神反擊」'}\n",
      "{'title': '[情報] 《猛禽小隊》演員候選人名單曝光'}\n",
      "{'title': '[好雷] 《一屍到底》，電影的重新定義。'}\n",
      "{'title': '[選片] 惡魔島VS終極戰士'}\n",
      "{'title': '[討論] 睡著也好醒來也罷'}\n",
      "{'title': '[片單] 看完影評後整個劇情反轉的電影'}\n",
      "{'title': '[好雷] 血薄荷—硬派媽媽的復仇之路'}\n",
      "{'title': '[好雷]【美國動物】不怕坐牢，只怕無聊'}\n",
      "{'title': 'Re: [討論] 狄仁傑 4大天王'}\n",
      "{'title': '[討論] 湯姆克魯斯一直未得奧斯卡是因為太娛樂?'}\n",
      "{'title': '[新聞] NBA詹皇證實《怪物奇兵2》開拍時間！《黑'}\n",
      "{'title': '[新聞] 萊恩雷諾斯賤嘴吐槽麥可貝「最愛爆炸」'}\n",
      "{'title': '(本文已被刪除) [viccn2603]'}\n",
      "{'title': '[贈票]【一個巨星的誕生】記住愛情最美的樣子'}\n",
      "{'title': '[請益] 藍色項圈裡出現的老歌 (雷)'}\n",
      "{'title': '[普雷] 《明天，最後一天》，浮生一日，蜉蝣一'}\n",
      "{'title': '[討論] 無敵破壞王2 第四支預告'}\n",
      "{'title': '[好雷] 今年最狂 超白爛《一屍到底》看了超值啊'}\n",
      "{'title': '[新聞] 向《情書》致敬！周迅主演、岩井俊二導演'}\n",
      "{'title': '[普雷] 失蹤網紅 A Simple Favor，冰冷伸展台'}\n",
      "{'title': '[贈票] 大人請點檯！邀你看阿部寬當【陪睡大人】'}\n",
      "{'title': '[討論] 昆池岩。靈異直播。氣氛極佳的好片'}\n",
      "{'title': '[問片] 一部關於臥底的片'}\n",
      "{'title': '[新聞] 《求救信》日本國營電視台首映 觀眾反應熱'}\n",
      "{'title': '[情報] 9/19 當週18部新片預告+Youtube點閱排行'}\n",
      "{'title': '[片單] 類似絕命終結站的電影'}\n",
      "{'title': '[片單] 預告剪得很爛，但正片卻相當精彩的電影'}\n",
      "{'title': '[無雷] 《北極上學趣》天寒地凍學什麼？'}\n",
      "{'title': '[ 負雷] 藍色項圈觀後感'}\n",
      "{'title': '[新聞] 洛基翻生搞獨立 驚奇隊長天外飛來地球'}\n",
      "{'title': '[新聞] 《空中急診英雄》日本狂賣88億！狠踩柯南'}\n",
      "{'title': '[普雷] 瘋狂亞洲富豪'}\n",
      "{'title': '[ 重雷] 毀滅大作戰觀後感'}\n",
      "{'title': '[新聞] 周潤發秀二頭肌耍槍 片場小癖好曝反差萌'}\n",
      "{'title': 'Re: [討論] 哥吉拉，是卵生為何不是胎生？'}\n",
      "{'title': '[討論] HISHE的侏羅紀世界2殞落國度'}\n",
      "{'title': '[請益] 寫電影劇本有開頭結尾.但中間發展寫不出?'}\n",
      "{'title': 'Re: [贈票] 影帝尬天王 《歐洲攻略》型男出任務'}\n",
      "{'title': '[片單] 求露點的恐怖片'}\n",
      "{'title': '[問片] 問一部有關未來世界人類生活的美國片'}\n",
      "{'title': 'Re: [新聞] 布麗拉森「驚奇隊長」著裝！'}\n",
      "{'title': '[新聞] 《凸搥特派員3》影后與龐德女郎助陣'}\n",
      "{'title': '[情報] 肢體喜劇大師—羅文·艾金森'}\n",
      "{'title': '[討論] 狄仁傑 4大天王'}\n",
      "{'title': '[雷] 一念無明-希望所有關係都有「明」的那天'}\n",
      "{'title': '[新聞] 凱瑞福永接下龐德25導演'}\n",
      "{'title': '[討論] 大佛普拉斯可以賣到兩千多萬根本是奇蹟吧'}\n",
      "{'title': '[問片] 問一部歐美恐怖片'}\n",
      "{'title': '[新聞] 《瘋狂亞洲富豪》熱映 導演背後故事更精采'}\n",
      "{'title': '[新聞] 迪士尼2018全球票房達到歷史第二高 超越去'}\n",
      "{'title': '[ 普雷] 國定殺戮日'}\n",
      "{'title': '[片單] 改變你一生的勵志型電影'}\n",
      "{'title': '[情報] 范冰冰的消失讓很多電影陷入動盪中'}\n",
      "{'title': '[情報] 阿諾的電影+終極戰士1、魔鬼總動員'}\n",
      "{'title': '(本文已被刪除) [sneak]'}\n",
      "{'title': '[新聞] 男星拍片險失溫 「鬥魚」片尾刺殺竟藏玄機'}\n",
      "{'title': '[情報] 雷恩葛斯林已開始籌備第二部導演電影、Netflix 有意出資製作'}\n",
      "{'title': '[選片] 惡魔島vs黃金兄弟vs血薄荷vs極地之王'}\n",
      "{'title': '[討論] 老實說，酷斯拉1998，其實不錯看啊'}\n",
      "{'title': '無關電影新聞-V <qweewqq>'}\n",
      "{'title': '[ 大負雷] 致命目擊-南韓最強老爸'}\n",
      "{'title': '[討論] 絕命終結站沒有新續集？'}\n",
      "{'title': '[討論] Wild Child 野蠻公主 和Natasha Richardson'}\n",
      "{'title': '[新聞] 周迅主演、岩井俊二執導《你好，之華》首曝預告'}\n",
      "{'title': '[討論] 如果你是製片會挑誰演Captain Marvel'}\n",
      "{'title': '[討論] 劉德華主演警匪片經典《五億探長雷洛傳》上映27週年'}\n",
      "{'title': '[問片] 問一部關於特務、洗腦的電影'}\n",
      "{'title': 'Re: [超負雷] 搖滾樂殺人事件：麻煩都是自己惹出來的'}\n",
      "{'title': '[好雷] 幻日 Sun Dogs'}\n",
      "{'title': '[問片] 活的迴力鏢還是鐮刀..忘了'}\n",
      "{'title': '[請益] X-Men系列的幾個問題'}\n",
      "{'title': '[請益] Marvel系列電影觀賞順序'}\n",
      "{'title': '[新聞] 《活摘》紀錄片震撼澳洲首都觀眾'}\n",
      "{'title': '[問片] 關於口臭的老電影'}\n",
      "{'title': '[好雷]沉默之屋'}\n",
      "{'title': 'Re: [請益] 少女與戰車劇場版4DX是否會九度上映？'}\n",
      "{'title': 'Re: [贈票] 當代最殘酷的青春物語《我很好》台北特映'}\n",
      "{'title': '[片單] 類似《班傑明奇幻旅程》的結尾片段'}\n",
      "{'title': '[問片] 非洲電影，片名有\"地平線\"的?'}\n",
      "{'title': '[問片] 找一部獵奇日本電影'}\n",
      "{'title': '[討論] 哥吉拉，是卵生為何不是胎生？'}\n",
      "{'title': 'Re: [討論] 哥吉拉，是卵生為何不是胎生？'}\n",
      "{'title': 'Re: [討論] 奇幻魔幻電影，是不是退燒了？'}\n",
      "{'title': '[負雷] 山的那一邊'}\n",
      "{'title': '[新聞] 【一週斃命：不死退費】厭世男神10度自殺'}\n",
      "{'title': '[情報] 艾蜜莉亞克拉克、亨利高汀將主演《失蹤網紅》導演執導假期愛'}\n",
      "{'title': '(本文已被刪除) [cbr6000810]'}\n",
      "{'title': '[片單] 最後一幕：相視的眼神'}\n",
      "{'title': '[大好雷]一屍到底-給電影從業人員最大的尊敬'}\n",
      "{'title': '[問片] 精神分裂'}\n",
      "{'title': '[情報] 瑪莉包萍回來了！艾蜜莉布朗主演《歡樂滿人間》續集電影《愛'}\n",
      "{'title': '[好雷] 盲點 Blindspotting，奧克蘭文創園區'}\n",
      "{'title': '[好雷]《盲點》用嘻哈態度唱出讓人矛盾的美國夢'}\n",
      "{'title': '[普雷] 密謀 看完很負面'}\n",
      "{'title': '[新聞] 驚奇隊長首支官方預告解析.'}\n",
      "{'title': '[閒聊] 范保德的取景'}\n",
      "{'title': '[超負雷] 搖滾樂殺人事件：麻煩都是自己惹出來的'}\n",
      "{'title': '[新聞] 范冰冰不在\\u3000李冰冰大賺155億票房能見度'}\n",
      "{'title': '[新聞] 雷神狂曬胸肌人魚線《壞事》\\u3000格雷女羞'}\n",
      "{'title': '[討論] 尖峰時刻1 上映20週年'}\n",
      "{'title': '(本文已被刪除) [justice00s]'}\n",
      "{'title': '[請益] 猛龍怪客酒吧裡的電視節目'}\n",
      "{'title': '[極好雷]終極戰士 掠奪者 阿終你讓我等好久啊XD'}\n",
      "{'title': '[情報] 黎巴嫩奧斯卡外語片代表：《我想有個家》'}\n",
      "{'title': '[討論] 奇幻魔幻電影，是不是退燒了？'}\n",
      "{'title': '[問片] 問兩部科幻/劇情片'}\n",
      "{'title': '[新聞]「失蹤網紅」票房口碑告捷 女星暗藏心機'}\n",
      "{'title': '[新聞] 《格雷的五十道陰影》導演談執導機會難尋'}\n",
      "{'title': '[不差雷] 終極戰士'}\n",
      "{'title': '(本文已被刪除) [nn173333]'}\n",
      "{'title': '[選片] 侏羅紀世界2 vs 把哥哥退貨可以嗎？'}\n",
      "{'title': '[新聞] 謝金燕主演電影復活！台灣上映時間曝光'}\n",
      "{'title': '[片單] 英國腔濃厚的電影'}\n",
      "{'title': '[新聞] 日版「那些年」試映會巧碰山田裕貴生日'}\n",
      "{'title': '[新聞] 周潤發爆紅前「兼差也要上演員訓練班」：'}\n",
      "{'title': '[請益] 電流大戰是不是不上了?'}\n",
      "{'title': '[情報] 騰訊影業公佈2018年年度片單'}\n",
      "{'title': '[討論] 《驚奇隊長》首部預告'}\n",
      "{'title': '[情報] 泰國奧斯卡外語片代表：《告別茉莉》'}\n",
      "{'title': '[好雷]《惡靈07月光光心慌慌》＆《血染萬聖節》'}\n",
      "{'title': '[情報] iTunes特價報 寄生獸 / DC英雄電影 / 環'}\n",
      "{'title': '[討論] \"行運茶餐廳\"為何覺得海鮮火鍋酒家沒搞頭'}\n",
      "{'title': '[好雷] 小偷家族 | 世界又殘酷又美好'}\n",
      "{'title': '[新聞] 苦苦等待！《唐頓莊園》電影版終於開鏡'}\n",
      "{'title': 'Re: [片單] 類似 猜火車 鬥陣俱樂部的片'}\n",
      "{'title': '[問片] 黑人男愛上白人女 的電影'}\n",
      "{'title': '[問片] 請問一下線索有點少'}\n",
      "{'title': '[問片] 不要廢我的雙手...(已解決)'}\n",
      "{'title': 'Re: [討論] 不可能的任務6劇情疑問(有雷) 字幕問題'}\n",
      "{'title': 'Re: [負雷] 瘋狂亞洲富豪'}\n",
      "{'title': '[新聞] 艾美獎明早登場\\u3000《瘋狂亞洲富豪》吳恬'}\n",
      "{'title': '[討論] 電影中常見的不合理之處'}\n",
      "{'title': '字數不足-V <st52332002>'}\n",
      "{'title': '[片單] 類似 猜火車 鬥陣俱樂部的片'}\n",
      "{'title': '[新聞]奧斯卡大熱！《幸福綠皮書》多倫多奪大獎'}\n",
      "{'title': '字數不足-V <smallfeifei>'}\n",
      "{'title': '[好雷] 《八惡人》- 風雪殺機下的正義得彰'}\n",
      "{'title': 'Fw: [新聞]日本人氣男星慘遭坎城名導直指不是人 《'}\n",
      "{'title': '[片單] IMDB分數不到5分的不錯作品'}\n",
      "{'title': '[片單] 非驚嚇驅魔電影'}\n",
      "{'title': '[問片]年代久遠的敘述愛情喜劇片'}\n",
      "{'title': '[討論] 保羅沃克，是不是一直被消費？'}\n",
      "{'title': '[好雷] 驚悚的懸疑愛情片，非《裸愛殺機》不可'}\n",
      "{'title': 'Re: [討論] 電影中常見的不合理之處'}\n",
      "{'title': '[問片] 問一個科幻片/寫實片'}\n",
      "{'title': '[普負雷] 終極戰士: 掠奪者'}\n",
      "{'title': '[討論] 大家可以接受電影續集換人演嗎?'}\n",
      "{'title': '[請益] 角頭2劇情的一些問題(有雷)'}\n",
      "{'title': '[好雷] 盲點'}\n",
      "{'title': '[新聞] 大破冰？傳IMAX正與串流電影平台商討合作'}\n",
      "{'title': '[問片] 多年前一部童軍或夏令營有關的電影'}\n",
      "{'title': '[新聞] 《瘋狂的亞洲富豪》恐在中國遭遇滑鐵盧'}\n",
      "{'title': '[情報] 保羅沃克(Paul Walker)的電影'}\n",
      "{'title': '[贈票] 當代最殘酷的青春物語《我很好》台北特映'}\n",
      "{'title': '[請益] 粽邪片尾疑問'}\n",
      "{'title': '[普雷]失蹤網紅 | 失蹤的時間'}\n",
      "{'title': '[好無雷] 山的另一邊 降智商的毒性電影'}\n",
      "{'title': '[片單] 跟道家哲學有關的電影'}\n",
      "{'title': '[討論] 《愛．滿人間》(神仙教母)預告'}\n",
      "{'title': '[好雷] 《無聊的人生我死也不要》觀影心得'}\n",
      "{'title': '[情報] 10/28(日)《大衛芬奇導演》解析講座'}\n",
      "{'title': '[負雷] 掠奪者'}\n",
      "{'title': '[普雷] 失蹤網紅'}\n",
      "{'title': '[好雷] 終極戰士：掠奪者'}\n",
      "{'title': 'Re: [請益] 角頭2劇情的一些問題(有雷)'}\n",
      "{'title': '[討論] 印象深刻的開車追逐鏡頭'}\n",
      "{'title': '[情報] Gareth Evans導演新片《使徒》預告'}\n",
      "{'title': '[公告] 水桶公告 20180917'}\n",
      "{'title': 'Re: [討論] 尼可拉斯凱吉 爆棚新作 Mandy'}\n",
      "{'title': '[新聞] 台片揚威！《幸福城市》奪多倫多影展「'}\n",
      "{'title': '[贈票] 影帝尬天王 《歐洲攻略》型男出任務'}\n",
      "{'title': 'Re: [請益] 鬼修女 - 觀看後問題（雷）'}\n",
      "{'title': '[普雷] 《搖滾樂殺人事件》，起飛，然後下墜。'}\n",
      "{'title': '[好雷]姊就是美-性感俏皮直接爽朗的自我認同'}\n",
      "{'title': '[普雷] 天生不對'}\n",
      "{'title': '[好雷] 《小偷家族》：定義「家庭」核心'}\n",
      "{'title': '[問片] 問一部叢林軍事懸疑片'}\n",
      "{'title': '[片單] 情節時間點是未來（最近）的老電影'}\n",
      "{'title': '[無雷] 有以下特質 必看終極戰士：掠奪者'}\n",
      "{'title': '[新聞] 台北電影節新任總監！《海角七號》行銷推手李亞梅接棒'}\n",
      "{'title': '[好雷] 《裸愛殺機》麗茲波頓世紀血案的解答'}\n",
      "{'title': '[問片] 問一部校外旅行的西洋恐怖片'}\n",
      "{'title': '字數不足-V <TARORO6575>'}\n",
      "{'title': '[經典雷] itune上買的終極戰士第一集'}\n",
      "{'title': '[請益] 非誠勿擾2的問題'}\n",
      "{'title': '[普雷]《我很好》事實上，一點也不'}\n",
      "{'title': '[問片] 一部外星人傳設計圖給地球人探索的電影'}\n",
      "{'title': '[情報] 2018 多倫多影展 得獎名單'}\n",
      "{'title': '[請益] 花樣年華中的周慕雲'}\n",
      "{'title': '[好無雷] 失蹤網紅。唯一女神'}\n",
      "{'title': '[普雷]《拳力逃脫》極度焦躁'}\n",
      "{'title': '[問片] 一部動作電影'}\n",
      "{'title': '[好雷] 永遠的朋友：靈犬貝兒'}\n",
      "{'title': '[問片] 一部港片，有女鬼躲在傘裡'}\n",
      "{'title': '[請益] 請推薦台北新北市裱褙電影海報的店家'}\n",
      "{'title': '[討論] DC《小丑》角色照，《自殺突擊隊２》初稿完成'}\n",
      "{'title': '[新聞]日版「那些年」登上GirlsAward 2018 A/W'}\n",
      "{'title': '(本文已被刪除) [yehmei0102]'}\n",
      "{'title': '[新聞] 高中校隊天菜集合！HBL籃球電影《下半場'}\n",
      "{'title': '[新聞] 《自殺突擊隊2》劇本完成！編劇「不放棄'}\n",
      "{'title': '[討論] 不可能的任務 辛迪加應該消失了吧'}\n",
      "{'title': '[請益] 鬼修女 - 觀看後問題（雷）'}\n",
      "{'title': '[片單] 因對方有更好的工作機會而分手'}\n",
      "{'title': '[好雷] 山的那一邊'}\n",
      "{'title': 'Re: [快閃贈票]【明天，最後一天】說出心願贈票活動'}\n",
      "{'title': 'Re: [問片] 一部港片，有女鬼躲在傘裡'}\n",
      "{'title': '[普雷] 捉妖記2'}\n",
      "{'title': '[討論] 中國電影為啥大部分都古裝/武打/內勁'}\n",
      "{'title': '[新聞] 電影《北風》披露首爾北韓政策路線之爭'}\n",
      "{'title': '[討論] 大家心目中最棒的動畫片是什麼?'}\n",
      "{'title': '[好雷] 婚禮冤家'}\n",
      "{'title': '[問片] 一部搶遙控器的老片'}\n",
      "{'title': 'Re: [爆炸負雷] 終極戰士：掠奪者 這導演不意外~'}\n",
      "{'title': '[好雷]《美國動物》探究美國青年的內心迷惘'}\n",
      "{'title': '(本文已被刪除) [sukishiori]'}\n",
      "{'title': 'Re: [爆炸負雷] 終極戰士：掠奪者 這導演不意外~~~'}\n",
      "{'title': '[超負雷] 死神真人版 ：角色都毀了'}\n",
      "{'title': '[請益] 超級反派大亂鬥(多部電影雷)'}\n",
      "{'title': 'Re: [請益] 超級反派大亂鬥(多部電影雷)'}\n",
      "{'title': '[好雷] 血薄荷（Peppermint）-她是天使也是惡魔'}\n",
      "{'title': '(本文已被刪除) [lpk8610fe]'}\n",
      "{'title': '[好雷] 血薄荷：女人當自強，女殺神再臨'}\n",
      "{'title': '[負雷] 披了終極戰士 外皮的外星電影 版上好雷都是工讀生'}\n",
      "{'title': '[問片] 一部日本繭居族微電影（有雷'}\n",
      "{'title': '[好雷] 我的媽咪金搖擺 - 輕鬆小品，渣男重生'}\n",
      "{'title': '[問片] 找一部結尾是木乃伊面具的電影'}\n",
      "{'title': '[請益] 終極戰士：掠奪者 整部影片聲音嘴型對不上'}\n",
      "{'title': '[普好雷] 我很好─可能也可能不太殘酷的青春'}\n",
      "{'title': '[ 負雷] 搖滾樂殺人事件（有劇透）'}\n",
      "{'title': 'Re: [好雷] 超世紀封神榜 vs 舊片 vs 原版神話'}\n",
      "{'title': '[負雷] 哥吉拉2 決戰機動增殖都市'}\n",
      "{'title': '[請益] 藍色項圈(有雷)'}\n",
      "{'title': '[好雷] 地球是很危險滴 終極戰士：掠奪者'}\n",
      "{'title': '[好雷]終極戰士：掠奪者'}\n",
      "{'title': '[普好雷] 終極戰士：掠奪者'}\n",
      "{'title': '[不可置信雷] 日本紀錄片\"魯蛇自拍秀\"'}\n",
      "{'title': '字數不足-V\\\\ <a255205>'}\n",
      "{'title': '(本文已被刪除) [hsinofkids]'}\n",
      "{'title': '[好雷] 響-HIBIKI-'}\n",
      "{'title': '[情報] 藝術電影在新竹4─《范保德》包場放映'}\n",
      "{'title': '[負雷]《藍色項圈》教育體制的束縛'}\n",
      "{'title': '[新聞] 《江湖兒女》馮小剛戲份消失 賈樟柯：一'}\n",
      "{'title': '[新聞] 演古惑仔太傳神被當「真流氓」 鄭伊健：'}\n",
      "{'title': '[ 有雷] 終極戰士：略奪者之隊友好衰'}\n",
      "{'title': '[LIVE] 勝負反手拍 狐狸台首播21:00'}\n",
      "{'title': '[LIVE] 明月幾時有'}\n",
      "{'title': '[普好雷]《致命目擊》批判現今人心的冷漠'}\n",
      "{'title': '(本文已被刪除) [tieamonk]'}\n",
      "{'title': '[選片] 牠 / 10號地窖 / 控制 / 佈局 驚悚懸疑'}\n",
      "{'title': '[好雷]《當我們困在一起》家人就是完美陌生人'}\n",
      "{'title': '(本文已被刪除) [a122239]'}\n",
      "{'title': '[問片] 想問一個國外喜劇電影'}\n",
      "{'title': '[片單] 求推薦特殊口味恐怖片'}\n",
      "{'title': '[好雷]夏威夷之戀─難猜的結局'}\n",
      "{'title': '[好雷] 看完致命目擊，覺得國片能拍致命列車'}\n",
      "{'title': '[片單] 驚豔到覺得相見恨晚'}\n",
      "{'title': '(本文已被刪除) [patrickchang]'}\n",
      "{'title': '[快閃贈票]【明天，最後一天】說出心願贈票活動'}\n",
      "{'title': '[ 好雷] 看影帝飆戲也值得的《北風》！'}\n",
      "{'title': 'Re: [新聞] 諾蘭企圖導正電視對於「電影殘影」的'}\n",
      "{'title': '[問片]一部英國17、8世紀左右的電影'}\n",
      "{'title': '(本文已被刪除) [ckckcck5577]'}\n",
      "{'title': '[好雷] 寄宿學效'}\n",
      "{'title': '[好雷] 美麗境界'}\n",
      "{'title': '[新聞] 樹木希林本月15日在家中過世'}\n",
      "{'title': '(本文已被刪除) [qpr322]'}\n",
      "{'title': '[片單] 裝置倒數，非最後一秒解除'}\n",
      "{'title': '[討論] 恐佈熱線之大頭怪嬰\\u3000（老片雷'}\n",
      "{'title': '[請益] 請問瘋狂亞洲富豪孕婦能看嗎?'}\n",
      "{'title': '[好雷]電影【我們的50次初吻】每天都是新的一天'}\n",
      "{'title': '[請益] 神鬼交鋒裡的一個小片段'}\n",
      "{'title': '[新聞] 尖叫女王變最強阿嬤！《月光光心慌慌》40'}\n",
      "{'title': '[好雷] 噤界-當愛沉默了'}\n",
      "{'title': '[普雷] 大佛普拉斯 看電影的初衷'}\n",
      "{'title': '[討論] 《失蹤網紅》Blake Lively的穿衣哲學'}\n",
      "{'title': '[問片] 已解答 鬥魔王傑克'}\n",
      "{'title': '[普雷]《終極戰士：掠奪者》略為矯情的續集'}\n",
      "{'title': '[ 好雷] 其實真的不錯看的德魯大叔'}\n",
      "{'title': '[影評] 聞天祥評 / B面人生'}\n",
      "{'title': '[討論] 王牌教師 麻辣出擊'}\n",
      "{'title': '[問片] 情節很像「移動迷宮1」的一部片 (已解決)'}\n",
      "{'title': '[爆炸負雷] 終極戰士：掠奪者 這導演不意外~~~'}\n",
      "{'title': '[片單] 家庭喜劇類'}\n",
      "{'title': '[問片] 找一部小時候看過的西洋恐怖片'}\n",
      "{'title': 'Re: [討論] 星際效應幾個問題'}\n",
      "{'title': '(本文已被刪除) [havochuman]'}\n",
      "{'title': '[問片] [有雷］一部華爾街明星和路邊流浪漢互換'}\n",
      "{'title': '[普雷] Next Gen未來世代'}\n",
      "{'title': '[討論] \"終極戰士\"的定位究竟是什麼? (新一集雷)'}\n",
      "{'title': '[片單] 請大大幫忙推薦 懸疑劇情片 亞洲片佳'}\n",
      "{'title': '[片單] 有沒有\"遇到抉擇會出現正/反角色“的電影'}\n",
      "{'title': '[好雷]《失蹤網紅》每個人都跟表面不一樣'}\n",
      "{'title': '[選片] 私刑教育2 vs 失蹤網紅'}\n",
      "{'title': '[請益] 請問哪邊可以看到電影：忐忑呢？'}\n",
      "{'title': '[討論] 私刑教育2 其中一個人死法（有雷）'}\n",
      "{'title': '[討論] 星際效應幾個問題'}\n",
      "{'title': 'Re: [討論] 星際效應幾個問題'}\n",
      "{'title': '[請益] 亞人真人版最後戰鬥的疑問...'}\n",
      "{'title': '[問片] 進入虛擬世界 被追殺 荷莉貝瑞'}\n",
      "{'title': '[討論] 影史經典戰役'}\n",
      "{'title': '[請益] 北風劇情疑問'}\n",
      "{'title': '[好雷] 樂來越愛你 屬於男人的愛情片'}\n",
      "{'title': '[普雷] 鬼修女'}\n",
      "{'title': '[討論] 山的那一邊劇情探討'}\n",
      "{'title': 'Fw: [問題]一部在竹林裡性愛的武俠搞笑片'}\n",
      "{'title': 'Re: [討論] 星際效應幾個問題'}\n",
      "{'title': '[問片] 兩部關於小丑的老片'}\n",
      "{'title': '[問片] 2013以前某部戰爭愛情片 （有雷）'}\n",
      "{'title': '[新聞] 台灣超強動畫「重甲機神」「狗狗傷心誌」首映在台中'}\n",
      "{'title': '[片單] 深櫃和女人結婚的片'}\n",
      "{'title': 'Re: [懷念雷] 終極戰士4'}\n",
      "{'title': '[普雷]《失蹤網紅》假面閨密與綠茶婊的心機對決'}\n",
      "{'title': '[新聞] 導演親自確認《馴龍高手 3》為大結局\\u3000小'}\n",
      "{'title': '[新聞] 諾蘭企圖導正電視對於「電影殘影」的過度'}\n",
      "{'title': '[LIVE] HBO 09-15 21:00 樂高旋風忍者電影'}\n",
      "{'title': '[情報] 9/15(六)今晚九點電影(精選)'}\n",
      "{'title': '[好雷] 利斧狂魔'}\n",
      "{'title': '[好雷] 終極戰士：掠奪者-不要當續作就很'}\n",
      "{'title': '[好雷] 《北風》北風正凜冽'}\n",
      "{'title': '[Live] 緯來電影台 21:00 大佛普拉斯'}\n",
      "{'title': '[好雷]《終極戰士：掠奪者》變大真的沒有比較嚇'}\n",
      "{'title': 'Re: [請益] 怒火邊界2的一些問題（雷'}\n",
      "{'title': '[請益] 我和我的冠軍女兒 疑問'}\n",
      "{'title': '[新聞] 《復仇者聯盟4》補拍ing\\u3000小勞勃道尼豪'}\n",
      "{'title': '[ 好雷] 奇幻精靈事件簿TheSpiderwickChronicles'}\n",
      "{'title': '字數不足-V <elfs>'}\n",
      "{'title': '[討論] 大佛的劇情國外的感受度'}\n",
      "{'title': '[好無雷] 密謀 Al final del túnel'}\n",
      "{'title': '[請益] 薩諾斯為什麼要搜集滿六顆寶石？'}\n",
      "{'title': '[問片] 某天坐公車到某處發生車禍...'}\n",
      "{'title': '[片單] 結局得知真相後.主角痛不欲生或悔不當初'}\n",
      "{'title': '[微好雷] 山的那一邊'}\n",
      "{'title': '[普好雷] 《北極上學趣》，教育與教育。'}\n",
      "{'title': '[贈票] 厭世代嗆出來！邀你來看【盲點】'}\n",
      "{'title': '[片單] 馮小剛的作品'}\n",
      "{'title': '[好雷] 復仇不是男人的專利，《血薄荷》女力爆發'}\n",
      "{'title': '[情報] 墨西哥奧斯卡外語片代表：《羅馬》'}\n",
      "{'title': '[請益] 失蹤網紅片中配樂'}\n",
      "{'title': '[懷念雷] 終極戰士4'}\n",
      "{'title': '[討論] 殺生狀元這部老電影'}\n",
      "{'title': '[ 雷] 失蹤網紅'}\n",
      "{'title': '[片單] 像看MV的片段or剪接手法'}\n",
      "{'title': '[好雷] 致命目擊'}\n",
      "{'title': '[選片] 終極戰士和失蹤網紅'}\n",
      "{'title': '[問片]戰爭片主角最後剩一隻眼面向海'}\n",
      "{'title': '[好雷] 姐就是美'}\n",
      "{'title': '[討論] <鋼鐵墳墓2>難看真的是因為中資的關係??'}\n",
      "{'title': '[請益] 結尾是分錢的電影'}\n",
      "{'title': '[新聞] 台中動畫影展兩部台灣動畫長片擔任開閉幕'}\n",
      "{'title': '[好雷] 貼背戰(Tag)'}\n",
      "{'title': '[好雷] 失蹤網紅：不先看預告會更驚豔'}\n",
      "{'title': '[討論] 鬼修女其中一幕'}\n",
      "{'title': '[問片] 日本棒球電影 一人球隊'}\n",
      "{'title': '[好雷] 電影配樂傳奇：電影從不沉默'}\n",
      "{'title': '[新聞] 凱特布蘭琪《滴答屋》聯手傑克布萊克'}\n",
      "{'title': '[好雷]生生-淚水中折射希望'}\n",
      "{'title': '[問片] 一部有關日本舊旅社夾縫中求生存的電影'}\n",
      "{'title': '[好雷] 血薄荷：伸張正義的最後一道防線'}\n",
      "{'title': '[片單] 最後一幕像真實生活一樣平淡'}\n",
      "{'title': '[討論] 1994 重慶森林'}\n",
      "{'title': '[問片] 超過十年 兩個小女孩的復古輕鬆喜劇'}\n",
      "{'title': '[普雷]德魯大叔(Uncle Drew)'}\n",
      "{'title': '[巨爛負雷] 終極戰士：掠奪者'}\n",
      "{'title': '[普雷] 致命目擊'}\n",
      "{'title': '[問片] 從壁爐穿越時空'}\n",
      "{'title': '[好雷] 婚禮的那一天/你的婚禮'}\n",
      "{'title': '[普雷] 德魯大叔- 小小觀後心得'}\n"
     ]
    }
   ],
   "source": [
    "for i in result:\n",
    "    print(i)"
   ]
  },
  {
   "cell_type": "code",
   "execution_count": 52,
   "metadata": {},
   "outputs": [],
   "source": [
    "client.drop_database('article')\n"
   ]
  },
  {
   "cell_type": "code",
   "execution_count": null,
   "metadata": {},
   "outputs": [],
   "source": []
  }
 ],
 "metadata": {
  "kernelspec": {
   "display_name": "Python 3",
   "language": "python",
   "name": "python3"
  },
  "language_info": {
   "codemirror_mode": {
    "name": "ipython",
    "version": 3
   },
   "file_extension": ".py",
   "mimetype": "text/x-python",
   "name": "python",
   "nbconvert_exporter": "python",
   "pygments_lexer": "ipython3",
   "version": "3.6.8"
  }
 },
 "nbformat": 4,
 "nbformat_minor": 2
}
